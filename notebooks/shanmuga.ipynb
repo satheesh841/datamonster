{
 "cells": [
  {
   "cell_type": "code",
   "execution_count": 1,
   "metadata": {
    "collapsed": false
   },
   "outputs": [],
   "source": [
    "from util import print_log, validate_model, sparse_validate_model"
   ]
  },
  {
   "cell_type": "code",
   "execution_count": 2,
   "metadata": {
    "collapsed": true
   },
   "outputs": [],
   "source": [
    "import pandas as pd\n",
    "import numpy as np\n",
    "import matplotlib\n",
    "import matplotlib.pyplot as plt\n",
    "%matplotlib inline\n",
    "plt.rcParams['figure.figsize'] = (15,30)"
   ]
  },
  {
   "cell_type": "markdown",
   "metadata": {},
   "source": [
    "## Read raw data as lines"
   ]
  },
  {
   "cell_type": "code",
   "execution_count": 3,
   "metadata": {
    "collapsed": false
   },
   "outputs": [],
   "source": [
    "raw_train = pd.DataFrame([line for line in open('../data/classification_train.tsv',encoding='utf8')],columns=['line'])"
   ]
  },
  {
   "cell_type": "code",
   "execution_count": 4,
   "metadata": {
    "collapsed": false
   },
   "outputs": [],
   "source": [
    "raw_test = pd.DataFrame([line for line in open('../data/classification_blind_set_corrected.tsv',encoding='utf8')],columns=['line'])"
   ]
  },
  {
   "cell_type": "markdown",
   "metadata": {},
   "source": [
    "## Extract category and brand from raw data"
   ]
  },
  {
   "cell_type": "code",
   "execution_count": 5,
   "metadata": {
    "collapsed": false
   },
   "outputs": [],
   "source": [
    "train = raw_train.line.str.extract(r'(.*)\\t(\\d+)\\t(\\d+)$',expand=True)\n",
    "train.columns = ['product_title', 'brand_id', 'category_id']\n",
    "train = train.dropna()\n",
    "train.loc[:, ['brand_id', 'category_id']] = train.loc[:, ['brand_id', 'category_id']].astype(int)"
   ]
  },
  {
   "cell_type": "code",
   "execution_count": 6,
   "metadata": {
    "collapsed": true
   },
   "outputs": [],
   "source": [
    "test = raw_test.line.str.extract(r'(.*)\\t(-?\\d+)$',expand=True)\n",
    "test.columns = ['product_title', 'category_id']\n",
    "test = test.dropna()\n",
    "test.loc[:, ['category_id']] = test.loc[:, ['category_id']].astype(int)"
   ]
  },
  {
   "cell_type": "code",
   "execution_count": 7,
   "metadata": {
    "collapsed": false
   },
   "outputs": [
    {
     "name": "stdout",
     "output_type": "stream",
     "text": [
      "1000000 ../data/classification_train.tsv\r\n"
     ]
    }
   ],
   "source": [
    "! wc -l ../data/classification_train.tsv"
   ]
  },
  {
   "cell_type": "code",
   "execution_count": 8,
   "metadata": {
    "collapsed": false
   },
   "outputs": [
    {
     "name": "stdout",
     "output_type": "stream",
     "text": [
      "wc: ../data/classification_blind_set.tsv: No such file or directory\r\n"
     ]
    }
   ],
   "source": [
    "! wc -l ../data/classification_blind_set.tsv"
   ]
  },
  {
   "cell_type": "code",
   "execution_count": 9,
   "metadata": {
    "collapsed": false
   },
   "outputs": [
    {
     "data": {
      "text/plain": [
       "((999996, 3), (619240, 2))"
      ]
     },
     "execution_count": 9,
     "metadata": {},
     "output_type": "execute_result"
    }
   ],
   "source": [
    "train.shape, test.shape"
   ]
  },
  {
   "cell_type": "markdown",
   "metadata": {},
   "source": [
    "# missed rows"
   ]
  },
  {
   "cell_type": "code",
   "execution_count": 10,
   "metadata": {
    "collapsed": false
   },
   "outputs": [
    {
     "data": {
      "text/plain": [
       "(4, 3)"
      ]
     },
     "execution_count": 10,
     "metadata": {},
     "output_type": "execute_result"
    }
   ],
   "source": [
    "1000000 - train.shape[0], 619243 -  test.shape[0]"
   ]
  },
  {
   "cell_type": "code",
   "execution_count": 11,
   "metadata": {
    "collapsed": false
   },
   "outputs": [],
   "source": [
    "pd.options.display.max_colwidth = 900"
   ]
  },
  {
   "cell_type": "markdown",
   "metadata": {},
   "source": [
    "# Model Learning"
   ]
  },
  {
   "cell_type": "code",
   "execution_count": 12,
   "metadata": {
    "collapsed": false
   },
   "outputs": [],
   "source": [
    "import re\n",
    "from sklearn.feature_extraction.text import TfidfVectorizer,CountVectorizer\n",
    "from nltk import word_tokenize"
   ]
  },
  {
   "cell_type": "code",
   "execution_count": 13,
   "metadata": {
    "collapsed": true
   },
   "outputs": [],
   "source": [
    "class Tokenizer(object):\n",
    "    def __init__(self):\n",
    "        self.tokenizer = word_tokenize\n",
    "        self.stop_words = set(\n",
    "        ['is', 'of', 'it', 'at', 'on', 'and', 'as', 'the', 'to', 'are', 'this', 'that', 'be', 'in',\n",
    "          'an', 'or','any', 'all', 'am','you','we', '__NUMBER__', '__SERIAL__'])\n",
    "\n",
    "    def __call__(self, text):\n",
    "        text = text.lower()\n",
    "        # replace special characters\n",
    "        text = re.sub(r'[^a-z0-9\\s/\\\\_\\t,\\-]', '', text,flags=re.IGNORECASE)\n",
    "        text = re.sub(r'[/\\\\_\\t,-]', ' ', text,flags=re.IGNORECASE)\n",
    "        # replace numbers to reduce number of features\n",
    "        text = re.sub(r'\\b[0-9]+\\b', ' __NUMBER__ ', text) \n",
    "        # replace possible product/serial numbers\n",
    "        text = re.sub(r'\\b\\w*\\d+\\w*\\d?\\b', ' __SERIAL__ ', text)\n",
    "                \n",
    "        tokens = [w for w in self.tokenizer(text) if (w not in self.stop_words and len(w)>1)]\n",
    "        # only return first and last two tokens\n",
    "        return tokens if len(tokens) <5 else tokens[:2] + tokens[-2:]"
   ]
  },
  {
   "cell_type": "code",
   "execution_count": 77,
   "metadata": {
    "collapsed": true
   },
   "outputs": [],
   "source": [
    "class TokenizerV2(object):\n",
    "    def __init__(self):\n",
    "        self.tokenizer = word_tokenize\n",
    "        self.stop_words = set(\n",
    "        ['is', 'of', 'it', 'at', 'on', 'and', 'as', 'the', 'to', 'are', 'this', 'that', 'be', 'in',\n",
    "          'an', 'or','any', 'all', 'am','you','we', '__NUMBER__', '__SERIAL__'])\n",
    "\n",
    "    def __call__(self, text):\n",
    "        text = text.lower()\n",
    "        # replace special characters\n",
    "        text = re.sub(r'[^a-z0-9\\s/\\\\_\\t,\\-]', '', text,flags=re.IGNORECASE)\n",
    "        text = re.sub(r'[/\\\\_\\t,-]', ' ', text,flags=re.IGNORECASE)\n",
    "        # replace numbers to reduce number of features\n",
    "        text = re.sub(r'\\b[0-9]+\\b', ' __NUMBER__ ', text) \n",
    "        # replace possible product/serial numbers\n",
    "        text = re.sub(r'\\b\\w*\\d+\\w*\\d?\\b', ' __SERIAL__ ', text)\n",
    "                \n",
    "        tokens = [w for w in self.tokenizer(text) if (w not in self.stop_words and len(w)>1)]\n",
    "        # only return first and last two tokens\n",
    "        return tokens"
   ]
  },
  {
   "cell_type": "code",
   "execution_count": 78,
   "metadata": {
    "collapsed": false
   },
   "outputs": [
    {
     "name": "stdout",
     "output_type": "stream",
     "text": [
      "2016-04-03 09:13:14,836160\tstarting vectorizer fit_transform\n",
      "2016-04-03 09:17:30,062001\tcompleted vectorizer fit_transform\n"
     ]
    }
   ],
   "source": [
    "vectorizer = TfidfVectorizer(tokenizer=TokenizerV2())\n",
    "print_log(\"starting vectorizer fit_transform\")\n",
    "sparse_title = vectorizer.fit_transform(train['product_title'])\n",
    "print_log(\"completed vectorizer fit_transform\")"
   ]
  },
  {
   "cell_type": "code",
   "execution_count": 79,
   "metadata": {
    "collapsed": false
   },
   "outputs": [
    {
     "name": "stdout",
     "output_type": "stream",
     "text": [
      "distinct words found 89276\n"
     ]
    }
   ],
   "source": [
    "print(\"distinct words found\", len(vectorizer.vocabulary_))"
   ]
  },
  {
   "cell_type": "markdown",
   "metadata": {},
   "source": [
    "To build sparse matrix from vectorized tokens and category_id  \n",
    "learn model on top of this"
   ]
  },
  {
   "cell_type": "code",
   "execution_count": 80,
   "metadata": {
    "collapsed": true
   },
   "outputs": [],
   "source": [
    "from sklearn.feature_extraction import DictVectorizer"
   ]
  },
  {
   "cell_type": "code",
   "execution_count": 81,
   "metadata": {
    "collapsed": false
   },
   "outputs": [
    {
     "name": "stdout",
     "output_type": "stream",
     "text": [
      "2016-04-03 09:17:30,282636\tstarting sparse category\n",
      "2016-04-03 09:17:33,031100\tcompleted sparse category\n"
     ]
    }
   ],
   "source": [
    "category_dict_vectorizer = DictVectorizer()\n",
    "print_log(\"starting sparse category\")\n",
    "sparse_category = category_dict_vectorizer.fit_transform(train.category_id.astype(str).apply(lambda x: {x: 1}))\n",
    "print_log(\"completed sparse category\")"
   ]
  },
  {
   "cell_type": "code",
   "execution_count": 82,
   "metadata": {
    "collapsed": false
   },
   "outputs": [
    {
     "data": {
      "text/plain": [
       "((999996, 609), ((999996,), 609))"
      ]
     },
     "execution_count": 82,
     "metadata": {},
     "output_type": "execute_result"
    }
   ],
   "source": [
    "sparse_category.shape, (train.category_id.shape, train.category_id.nunique())"
   ]
  },
  {
   "cell_type": "code",
   "execution_count": 83,
   "metadata": {
    "collapsed": true
   },
   "outputs": [],
   "source": [
    "from scipy.sparse import hstack"
   ]
  },
  {
   "cell_type": "code",
   "execution_count": 84,
   "metadata": {
    "collapsed": true
   },
   "outputs": [],
   "source": [
    "joined_data = hstack([sparse_category, sparse_title], format='csr')"
   ]
  },
  {
   "cell_type": "code",
   "execution_count": 85,
   "metadata": {
    "collapsed": false
   },
   "outputs": [
    {
     "data": {
      "text/plain": [
       "(999996, 89885)"
      ]
     },
     "execution_count": 85,
     "metadata": {},
     "output_type": "execute_result"
    }
   ],
   "source": [
    "joined_data.shape"
   ]
  },
  {
   "cell_type": "markdown",
   "metadata": {},
   "source": [
    "Saving file"
   ]
  },
  {
   "cell_type": "code",
   "execution_count": 86,
   "metadata": {
    "collapsed": true
   },
   "outputs": [],
   "source": [
    "from scipy.io import mmwrite, mmread\n",
    "mmwrite('joined_data.mtx', joined_data)\n",
    "mmwrite('sparse_category.mtx', sparse_category)\n",
    "mmwrite('sparse_title.mtx', sparse_title)"
   ]
  },
  {
   "cell_type": "code",
   "execution_count": 87,
   "metadata": {
    "collapsed": true
   },
   "outputs": [],
   "source": [
    "# joined_data = mmread('joined_data.mtx')\n",
    "# sparse_category = mmread('sparse_category')\n",
    "# sparse_title = mmread('sparse_title')"
   ]
  },
  {
   "cell_type": "markdown",
   "metadata": {
    "collapsed": true
   },
   "source": [
    "## Similar Products"
   ]
  },
  {
   "cell_type": "code",
   "execution_count": 88,
   "metadata": {
    "collapsed": true
   },
   "outputs": [],
   "source": [
    "from scipy.sparse import csr_matrix,vstack"
   ]
  },
  {
   "cell_type": "code",
   "execution_count": 89,
   "metadata": {
    "collapsed": false
   },
   "outputs": [
    {
     "name": "stdout",
     "output_type": "stream",
     "text": [
      "CPU times: user 21min 18s, sys: 1.33 s, total: 21min 20s\n",
      "Wall time: 21min 21s\n"
     ]
    }
   ],
   "source": [
    "%%time\n",
    "brands = train['brand_id'].values\n",
    "unique_brands = np.unique(brands)\n",
    "joined_data_grouped = csr_matrix(np.zeros((1,joined_data.shape[1])))\n",
    "for brand in unique_brands:\n",
    "    grp_sum = joined_data[brands == brand].sum(axis=0)\n",
    "    joined_data_grouped = vstack([joined_data_grouped,grp_sum])"
   ]
  },
  {
   "cell_type": "code",
   "execution_count": 90,
   "metadata": {
    "collapsed": true
   },
   "outputs": [],
   "source": [
    "joined_data_grouped = csr_matrix(joined_data_grouped)\n",
    "joined_data_grouped = joined_data_grouped[1:]"
   ]
  },
  {
   "cell_type": "code",
   "execution_count": 91,
   "metadata": {
    "collapsed": false
   },
   "outputs": [
    {
     "data": {
      "text/plain": [
       "LSHForest(min_hash_match=4, n_candidates=50, n_estimators=10, n_neighbors=5,\n",
       "     radius=1.0, radius_cutoff_ratio=0.9, random_state=42)"
      ]
     },
     "execution_count": 91,
     "metadata": {},
     "output_type": "execute_result"
    }
   ],
   "source": [
    "from sklearn.neighbors import LSHForest\n",
    "lshf = LSHForest(random_state=42)\n",
    "lshf.fit(joined_data_grouped)  "
   ]
  },
  {
   "cell_type": "code",
   "execution_count": 92,
   "metadata": {
    "collapsed": true
   },
   "outputs": [],
   "source": [
    "mmwrite('joined_data_grouped.mtx', joined_data_grouped)"
   ]
  },
  {
   "cell_type": "code",
   "execution_count": 93,
   "metadata": {
    "collapsed": false
   },
   "outputs": [
    {
     "name": "stdout",
     "output_type": "stream",
     "text": [
      "CPU times: user 8min 49s, sys: 611 ms, total: 8min 49s\n",
      "Wall time: 8min 50s\n"
     ]
    }
   ],
   "source": [
    "%time distances, indices = lshf.kneighbors(joined_data_grouped, n_neighbors=5)"
   ]
  },
  {
   "cell_type": "code",
   "execution_count": 94,
   "metadata": {
    "collapsed": false
   },
   "outputs": [],
   "source": [
    "dist_neighbors = np.hstack([distances,unique_brands[indices]])"
   ]
  },
  {
   "cell_type": "code",
   "execution_count": 95,
   "metadata": {
    "collapsed": true
   },
   "outputs": [],
   "source": [
    "dist_neighbors_df = pd.DataFrame(dist_neighbors,columns=['d1','d2','d3','d4','d5','brand_1',\n",
    "                                                         'brand_2','brand_3','brand_4','brand_5'])"
   ]
  },
  {
   "cell_type": "code",
   "execution_count": 96,
   "metadata": {
    "collapsed": false
   },
   "outputs": [],
   "source": [
    "dist_neighbors_df = dist_neighbors_df.set_index('brand_1')"
   ]
  },
  {
   "cell_type": "code",
   "execution_count": 97,
   "metadata": {
    "collapsed": false
   },
   "outputs": [],
   "source": [
    "del dist_neighbors_df['d1']"
   ]
  },
  {
   "cell_type": "code",
   "execution_count": 98,
   "metadata": {
    "collapsed": false
   },
   "outputs": [],
   "source": [
    "dist_neighbors_df.to_csv('similar_brands_2.csv')"
   ]
  },
  {
   "cell_type": "code",
   "execution_count": 99,
   "metadata": {
    "collapsed": false
   },
   "outputs": [],
   "source": [
    "idx = dist_neighbors_df.iloc[0].select(lambda x:'brand' in x)"
   ]
  },
  {
   "cell_type": "code",
   "execution_count": 103,
   "metadata": {
    "collapsed": false
   },
   "outputs": [
    {
     "data": {
      "text/plain": [
       "14804                                                                                                                                                 [high, power, hpc, df, watt, dual, fan, atx, power, supply]\n",
       "28555                                                                                                                                              [highpower, astro, apt, digital, platinum, power, supply, hpa]\n",
       "29475                                                                                                                                                [power, one, power, supply, ac, dc, openframe, medical, mbc]\n",
       "52403                                                                                                                                               [power, supply, sdc, switching, dc, dc, converter, vdc, amps]\n",
       "58856                                                                                                                                           [dynapower, tc, active, pfc, rohs, eps, redundant, power, supply]\n",
       "98217                                                                                                                                                                                       [sato, power, supply]\n",
       "124681                                                                                                                                              [power, one, power, supply, ac, dc, open, frame, blp, series]\n",
       "141848                                                                                                                                                 [highpower, astro, agd, digital, gold, power, supply, hpa]\n",
       "278401                                                                              [high, power, hpc, df, atx, watts, dual, fan, sata, power, supply, with, dual, ball, bearing, fans, ul, fcc, intel, approved]\n",
       "488323                                                                                                                                                                                  [power, cable, for, rack]\n",
       "611378                                                                                                                                                        [power, supply, amp, jump, starter, with, inflator]\n",
       "614340                                                                                                                           [power, one, power, supply, ac, dc, open, frame, panel, mount, pfc, abc, series]\n",
       "629809                                                                                                                    [power, one, power, supply, ac, dc, enclosed, cage, mnt, frount, end, pfc, pfe, series]\n",
       "695943                                                                                                                                                         [power, supply, watt, inverter, amp, pfc, charger]\n",
       "696007                                                                                                                                                          [highpower, astro, agd, gold, power, supply, hpb]\n",
       "698114                                                                                                                                       [high, power, compact, series, sfx, active, pfc, power, supply, hpf]\n",
       "726268                                                  [high, power, hpc, ul, approved, pci, express, sata, desktop, computer, atx, power, supply, for, custom, pc, dell, hp, gateway, compaq, enlight, systems]\n",
       "750497                                                                                                                                                          [highpower, astro, agd, gold, power, supply, hpb]\n",
       "753843                                                                                                                                                 [high, power, si, watt, dual, rail, output, power, supply]\n",
       "791178                                                                                                                                                                            [power, one, ag, power, supply]\n",
       "808746    [high, power, hpc, watt, intel, approved, pc, power, supply, super, low, noise, performance, upgrade, with, sata, hdd, pci, express, video, support, for, dell, dimension, dell, poweredge, dell, part]\n",
       "814728                                                                                                                                                                           [high, power, power, supply, si]\n",
       "854425                                                                         [high, power, hpc, watt, dual, fan, pc, for, atx, gateway, desktop, computer, replacement, power, supply, with, round, fan, guard]\n",
       "928861                                                                                                                                                               [power, supply, comfort, indicator, pigtail]\n",
       "962828                                                                                                                    [power, one, power, supply, ac, dc, enclosed, cage, mnt, frount, end, pfc, pfe, series]\n",
       "970989                                                                                                                                                                            [power, supply, accessory, kit]\n",
       "Name: product_title, dtype: object"
      ]
     },
     "execution_count": 103,
     "metadata": {},
     "output_type": "execute_result"
    }
   ],
   "source": [
    "train[train['brand_id'].isin(idx)]['product_title'].apply(tokenize)"
   ]
  },
  {
   "cell_type": "code",
   "execution_count": 101,
   "metadata": {
    "collapsed": true
   },
   "outputs": [],
   "source": [
    "tokenize = TokenizerV2()"
   ]
  },
  {
   "cell_type": "code",
   "execution_count": 121,
   "metadata": {
    "collapsed": true
   },
   "outputs": [],
   "source": [
    "dist_neighbors_df = dist_neighbors_df.reset_index()"
   ]
  },
  {
   "cell_type": "code",
   "execution_count": 124,
   "metadata": {
    "collapsed": false
   },
   "outputs": [],
   "source": [
    "dist_neighbors_df_meleted = pd.melt(dist_neighbors_df,id_vars=['brand_1'],value_vars=['brand_2','brand_3','brand_4','brand_5'])"
   ]
  },
  {
   "cell_type": "code",
   "execution_count": 125,
   "metadata": {
    "collapsed": false
   },
   "outputs": [],
   "source": [
    "dist_neighbors_dist_meleted = pd.melt(dist_neighbors_df,id_vars=['brand_1'],value_vars=['d2','d3','d4','d5'])"
   ]
  },
  {
   "cell_type": "code",
   "execution_count": 130,
   "metadata": {
    "collapsed": false
   },
   "outputs": [],
   "source": [
    "knn_df = pd.merge(dist_neighbors_df_meleted,dist_neighbors_dist_meleted,how='inner',on='brand_1')"
   ]
  },
  {
   "cell_type": "code",
   "execution_count": 133,
   "metadata": {
    "collapsed": false
   },
   "outputs": [],
   "source": [
    "knn_df = knn_df.sort_values(by=['brand_1','value_y'],ascending=True)"
   ]
  },
  {
   "cell_type": "code",
   "execution_count": 146,
   "metadata": {
    "collapsed": false
   },
   "outputs": [
    {
     "data": {
      "text/plain": [
       "array([  621,  1093,  2394,  4479,  4593,  5114,  5205,  7461,  7839,\n",
       "        7851,  8538,  8675,  8703,  8735, 10920, 11551, 11622, 12149,\n",
       "       13274, 13662, 14449, 15488, 16145, 16979, 18767, 18784, 18889,\n",
       "       19132, 19186, 19542, 20096, 20738, 23188, 24053, 24489, 25108,\n",
       "       25423, 25500, 25974, 27327, 27603, 27752, 28089, 29639, 29990,\n",
       "       30415, 30913, 31460, 32426, 32580, 32937, 33418, 36092, 36580,\n",
       "       36641, 38277, 38488, 38723, 39639, 40115, 40884, 42004, 42392,\n",
       "       43813, 44491, 44788, 44904, 44920, 44924])"
      ]
     },
     "execution_count": 146,
     "metadata": {},
     "output_type": "execute_result"
    }
   ],
   "source": [
    "zero_dist_neighbors = knn_df[knn_df['value_y'].astype(float)==0]\n",
    "zero_dist_neighbors = zero_dist_neighbors.drop_duplicates(subset=['brand_1','value_x'])\n",
    "zero_dist_neighbors.brand_1.unique()"
   ]
  },
  {
   "cell_type": "code",
   "execution_count": 147,
   "metadata": {
    "collapsed": false
   },
   "outputs": [],
   "source": [
    "idx = zero_dist_neighbors.query('brand_1 == 1093')['value_x'].astype(int)"
   ]
  },
  {
   "cell_type": "code",
   "execution_count": 148,
   "metadata": {
    "collapsed": false
   },
   "outputs": [
    {
     "data": {
      "text/html": [
       "<div>\n",
       "<table border=\"1\" class=\"dataframe\">\n",
       "  <thead>\n",
       "    <tr style=\"text-align: right;\">\n",
       "      <th></th>\n",
       "      <th>product_title</th>\n",
       "      <th>brand_id</th>\n",
       "      <th>category_id</th>\n",
       "    </tr>\n",
       "  </thead>\n",
       "  <tbody>\n",
       "    <tr>\n",
       "      <th>145076</th>\n",
       "      <td>HP COMPAQ 380724-001 Laptop Screen 17 LCD CCFL WXGA 1440x900</td>\n",
       "      <td>37194</td>\n",
       "      <td>415</td>\n",
       "    </tr>\n",
       "    <tr>\n",
       "      <th>420227</th>\n",
       "      <td>HP Compaq 6730s Laptop Screen 15.4 LCD CCFL WXGA 1280x800</td>\n",
       "      <td>13522</td>\n",
       "      <td>415</td>\n",
       "    </tr>\n",
       "    <tr>\n",
       "      <th>511605</th>\n",
       "      <td>Compaq Presario CQ61-216EL Laptop Screen 15.6 LCD CCFL WXGA HD 1366x768</td>\n",
       "      <td>17888</td>\n",
       "      <td>415</td>\n",
       "    </tr>\n",
       "    <tr>\n",
       "      <th>525535</th>\n",
       "      <td>HP Compaq 6531s Laptop Screen 14.1 LCD CCFL WXGA 1280x800</td>\n",
       "      <td>44804</td>\n",
       "      <td>415</td>\n",
       "    </tr>\n",
       "  </tbody>\n",
       "</table>\n",
       "</div>"
      ],
      "text/plain": [
       "                                                                  product_title  \\\n",
       "145076             HP COMPAQ 380724-001 Laptop Screen 17 LCD CCFL WXGA 1440x900   \n",
       "420227                HP Compaq 6730s Laptop Screen 15.4 LCD CCFL WXGA 1280x800   \n",
       "511605  Compaq Presario CQ61-216EL Laptop Screen 15.6 LCD CCFL WXGA HD 1366x768   \n",
       "525535                HP Compaq 6531s Laptop Screen 14.1 LCD CCFL WXGA 1280x800   \n",
       "\n",
       "       brand_id category_id  \n",
       "145076    37194         415  \n",
       "420227    13522         415  \n",
       "511605    17888         415  \n",
       "525535    44804         415  "
      ]
     },
     "execution_count": 148,
     "metadata": {},
     "output_type": "execute_result"
    }
   ],
   "source": [
    "train[train.brand_id.isin(idx)]"
   ]
  },
  {
   "cell_type": "code",
   "execution_count": 149,
   "metadata": {
    "collapsed": false
   },
   "outputs": [
    {
     "data": {
      "text/plain": [
       "69"
      ]
     },
     "execution_count": 149,
     "metadata": {},
     "output_type": "execute_result"
    }
   ],
   "source": [
    "zero_dist_neighbors.brand_1.nunique()"
   ]
  },
  {
   "cell_type": "code",
   "execution_count": 160,
   "metadata": {
    "collapsed": false
   },
   "outputs": [],
   "source": [
    "possible_duplicates = zero_dist_neighbors[['brand_1','value_x']]\n",
    "possible_duplicates.columns = ['brand_id','duplicate_brand_id']\n",
    "possible_duplicates.to_csv('possible_brand_duplicates.csv',index=False)"
   ]
  },
  {
   "cell_type": "code",
   "execution_count": 165,
   "metadata": {
    "collapsed": false
   },
   "outputs": [],
   "source": [
    "main_product_title = pd.merge(possible_duplicates,train,on='brand_id')[['brand_id','duplicate_brand_id','product_title']]\n",
    "main_product_title.columns = ['main_brand_id','duplicate_brand_id','main_product_title']"
   ]
  },
  {
   "cell_type": "code",
   "execution_count": 176,
   "metadata": {
    "collapsed": false
   },
   "outputs": [
    {
     "data": {
      "text/html": [
       "<div>\n",
       "<table border=\"1\" class=\"dataframe\">\n",
       "  <thead>\n",
       "    <tr style=\"text-align: right;\">\n",
       "      <th></th>\n",
       "      <th>main_brand_id</th>\n",
       "      <th>duplicate_brand_id</th>\n",
       "      <th>main_product_title</th>\n",
       "      <th>product_title</th>\n",
       "      <th>brand_id</th>\n",
       "      <th>category_id</th>\n",
       "    </tr>\n",
       "  </thead>\n",
       "  <tbody>\n",
       "    <tr>\n",
       "      <th>0</th>\n",
       "      <td>621</td>\n",
       "      <td>33893</td>\n",
       "      <td>USBLT2MW 2m Lightning to USB Cable</td>\n",
       "      <td>\"USBLT15CMW 6\"\" Lightning to USB Cable\"</td>\n",
       "      <td>33893</td>\n",
       "      <td>390</td>\n",
       "    </tr>\n",
       "    <tr>\n",
       "      <th>1</th>\n",
       "      <td>621</td>\n",
       "      <td>33893</td>\n",
       "      <td>USBLT2MW 2m Lightning to USB Cable</td>\n",
       "      <td>\"USBLT15CMW 6\"\" Lightning to USB Cable\"</td>\n",
       "      <td>33893</td>\n",
       "      <td>390</td>\n",
       "    </tr>\n",
       "    <tr>\n",
       "      <th>2</th>\n",
       "      <td>621</td>\n",
       "      <td>33893</td>\n",
       "      <td>USBLT2MW 2m Lightning to USB Cable</td>\n",
       "      <td>\"USBLT15CMW 6\"\" Lightning to USB Cable\"</td>\n",
       "      <td>33893</td>\n",
       "      <td>390</td>\n",
       "    </tr>\n",
       "    <tr>\n",
       "      <th>3</th>\n",
       "      <td>621</td>\n",
       "      <td>8920</td>\n",
       "      <td>USBLT2MW 2m Lightning to USB Cable</td>\n",
       "      <td>Lightning to USB Cable</td>\n",
       "      <td>8920</td>\n",
       "      <td>390</td>\n",
       "    </tr>\n",
       "    <tr>\n",
       "      <th>4</th>\n",
       "      <td>621</td>\n",
       "      <td>8920</td>\n",
       "      <td>USBLT2MW 2m Lightning to USB Cable</td>\n",
       "      <td>Lightning to USB Cable</td>\n",
       "      <td>8920</td>\n",
       "      <td>390</td>\n",
       "    </tr>\n",
       "    <tr>\n",
       "      <th>5</th>\n",
       "      <td>621</td>\n",
       "      <td>8920</td>\n",
       "      <td>USBLT2MW 2m Lightning to USB Cable</td>\n",
       "      <td>Lightning to USB Cable</td>\n",
       "      <td>8920</td>\n",
       "      <td>390</td>\n",
       "    </tr>\n",
       "    <tr>\n",
       "      <th>6</th>\n",
       "      <td>621</td>\n",
       "      <td>23252</td>\n",
       "      <td>USBLT2MW 2m Lightning to USB Cable</td>\n",
       "      <td>lightning to usb cable</td>\n",
       "      <td>23252</td>\n",
       "      <td>390</td>\n",
       "    </tr>\n",
       "    <tr>\n",
       "      <th>7</th>\n",
       "      <td>621</td>\n",
       "      <td>23252</td>\n",
       "      <td>USBLT2MW 2m Lightning to USB Cable</td>\n",
       "      <td>lightning to usb cable</td>\n",
       "      <td>23252</td>\n",
       "      <td>390</td>\n",
       "    </tr>\n",
       "    <tr>\n",
       "      <th>8</th>\n",
       "      <td>621</td>\n",
       "      <td>23252</td>\n",
       "      <td>USBLT2MW 2m Lightning to USB Cable</td>\n",
       "      <td>lightning to usb cable</td>\n",
       "      <td>23252</td>\n",
       "      <td>390</td>\n",
       "    </tr>\n",
       "    <tr>\n",
       "      <th>9</th>\n",
       "      <td>621</td>\n",
       "      <td>3285</td>\n",
       "      <td>USBLT2MW 2m Lightning to USB Cable</td>\n",
       "      <td>Lightning to USB Cable</td>\n",
       "      <td>3285</td>\n",
       "      <td>390</td>\n",
       "    </tr>\n",
       "    <tr>\n",
       "      <th>10</th>\n",
       "      <td>621</td>\n",
       "      <td>3285</td>\n",
       "      <td>USBLT2MW 2m Lightning to USB Cable</td>\n",
       "      <td>Lightning to USB Cable</td>\n",
       "      <td>3285</td>\n",
       "      <td>390</td>\n",
       "    </tr>\n",
       "    <tr>\n",
       "      <th>11</th>\n",
       "      <td>621</td>\n",
       "      <td>3285</td>\n",
       "      <td>USBLT2MW 2m Lightning to USB Cable</td>\n",
       "      <td>Lightning to USB Cable</td>\n",
       "      <td>3285</td>\n",
       "      <td>390</td>\n",
       "    </tr>\n",
       "    <tr>\n",
       "      <th>12</th>\n",
       "      <td>1093</td>\n",
       "      <td>37194</td>\n",
       "      <td>HP Compaq nc6400 Laptop Screen 14.1 LCD CCFL WXGA 1280x800</td>\n",
       "      <td>HP COMPAQ 380724-001 Laptop Screen 17 LCD CCFL WXGA 1440x900</td>\n",
       "      <td>37194</td>\n",
       "      <td>415</td>\n",
       "    </tr>\n",
       "    <tr>\n",
       "      <th>13</th>\n",
       "      <td>1093</td>\n",
       "      <td>44804</td>\n",
       "      <td>HP Compaq nc6400 Laptop Screen 14.1 LCD CCFL WXGA 1280x800</td>\n",
       "      <td>HP Compaq 6531s Laptop Screen 14.1 LCD CCFL WXGA 1280x800</td>\n",
       "      <td>44804</td>\n",
       "      <td>415</td>\n",
       "    </tr>\n",
       "    <tr>\n",
       "      <th>14</th>\n",
       "      <td>1093</td>\n",
       "      <td>13522</td>\n",
       "      <td>HP Compaq nc6400 Laptop Screen 14.1 LCD CCFL WXGA 1280x800</td>\n",
       "      <td>HP Compaq 6730s Laptop Screen 15.4 LCD CCFL WXGA 1280x800</td>\n",
       "      <td>13522</td>\n",
       "      <td>415</td>\n",
       "    </tr>\n",
       "    <tr>\n",
       "      <th>15</th>\n",
       "      <td>1093</td>\n",
       "      <td>17888</td>\n",
       "      <td>HP Compaq nc6400 Laptop Screen 14.1 LCD CCFL WXGA 1280x800</td>\n",
       "      <td>Compaq Presario CQ61-216EL Laptop Screen 15.6 LCD CCFL WXGA HD 1366x768</td>\n",
       "      <td>17888</td>\n",
       "      <td>415</td>\n",
       "    </tr>\n",
       "    <tr>\n",
       "      <th>16</th>\n",
       "      <td>2394</td>\n",
       "      <td>42408</td>\n",
       "      <td>1081-960-N Cmple Cat6 500MHz UTP Ethernet Lan Network Patch Cable 1.5 FT Yellow</td>\n",
       "      <td>1081-965-N Cmple Cat6 500MHz UTP Ethernet Lan Network Patch Cable 15 FT Yellow</td>\n",
       "      <td>42408</td>\n",
       "      <td>483</td>\n",
       "    </tr>\n",
       "    <tr>\n",
       "      <th>17</th>\n",
       "      <td>2394</td>\n",
       "      <td>42408</td>\n",
       "      <td>1081-960-N Cmple Cat6 500MHz UTP Ethernet Lan Network Patch Cable 1.5 FT Yellow</td>\n",
       "      <td>1081-965-N Cmple Cat6 500MHz UTP Ethernet Lan Network Patch Cable 15 FT Yellow</td>\n",
       "      <td>42408</td>\n",
       "      <td>483</td>\n",
       "    </tr>\n",
       "    <tr>\n",
       "      <th>18</th>\n",
       "      <td>2394</td>\n",
       "      <td>42408</td>\n",
       "      <td>1081-960-N Cmple Cat6 500MHz UTP Ethernet Lan Network Patch Cable 1.5 FT Yellow</td>\n",
       "      <td>1081-965-N Cmple Cat6 500MHz UTP Ethernet Lan Network Patch Cable 15 FT Yellow</td>\n",
       "      <td>42408</td>\n",
       "      <td>483</td>\n",
       "    </tr>\n",
       "    <tr>\n",
       "      <th>19</th>\n",
       "      <td>2394</td>\n",
       "      <td>42408</td>\n",
       "      <td>1081-960-N Cmple Cat6 500MHz UTP Ethernet Lan Network Patch Cable 1.5 FT Yellow</td>\n",
       "      <td>1081-965-N Cmple Cat6 500MHz UTP Ethernet Lan Network Patch Cable 15 FT Yellow</td>\n",
       "      <td>42408</td>\n",
       "      <td>483</td>\n",
       "    </tr>\n",
       "    <tr>\n",
       "      <th>20</th>\n",
       "      <td>2394</td>\n",
       "      <td>13931</td>\n",
       "      <td>1081-960-N Cmple Cat6 500MHz UTP Ethernet Lan Network Patch Cable 1.5 FT Yellow</td>\n",
       "      <td>1081-962-N Cmple Cat6 500MHz UTP Ethernet Lan Network Patch Cable 5 FT Yellow</td>\n",
       "      <td>13931</td>\n",
       "      <td>483</td>\n",
       "    </tr>\n",
       "    <tr>\n",
       "      <th>21</th>\n",
       "      <td>2394</td>\n",
       "      <td>13931</td>\n",
       "      <td>1081-960-N Cmple Cat6 500MHz UTP Ethernet Lan Network Patch Cable 1.5 FT Yellow</td>\n",
       "      <td>1081-962-N Cmple Cat6 500MHz UTP Ethernet Lan Network Patch Cable 5 FT Yellow</td>\n",
       "      <td>13931</td>\n",
       "      <td>483</td>\n",
       "    </tr>\n",
       "    <tr>\n",
       "      <th>22</th>\n",
       "      <td>2394</td>\n",
       "      <td>3988</td>\n",
       "      <td>1081-960-N Cmple Cat6 500MHz UTP Ethernet Lan Network Patch Cable 1.5 FT Yellow</td>\n",
       "      <td>1081-968-N Cmple Cat6 500MHz UTP Ethernet Lan Network Patch Cable 75 FT Yellow</td>\n",
       "      <td>3988</td>\n",
       "      <td>483</td>\n",
       "    </tr>\n",
       "    <tr>\n",
       "      <th>23</th>\n",
       "      <td>2394</td>\n",
       "      <td>3988</td>\n",
       "      <td>1081-960-N Cmple Cat6 500MHz UTP Ethernet Lan Network Patch Cable 1.5 FT Yellow</td>\n",
       "      <td>1081-968-N Cmple Cat6 500MHz UTP Ethernet Lan Network Patch Cable 75 FT Yellow</td>\n",
       "      <td>3988</td>\n",
       "      <td>483</td>\n",
       "    </tr>\n",
       "    <tr>\n",
       "      <th>24</th>\n",
       "      <td>2394</td>\n",
       "      <td>3988</td>\n",
       "      <td>1081-960-N Cmple Cat6 500MHz UTP Ethernet Lan Network Patch Cable 1.5 FT Yellow</td>\n",
       "      <td>1081-968-N Cmple Cat6 500MHz UTP Ethernet Lan Network Patch Cable 75 FT Yellow</td>\n",
       "      <td>3988</td>\n",
       "      <td>483</td>\n",
       "    </tr>\n",
       "    <tr>\n",
       "      <th>25</th>\n",
       "      <td>2394</td>\n",
       "      <td>3988</td>\n",
       "      <td>1081-960-N Cmple Cat6 500MHz UTP Ethernet Lan Network Patch Cable 1.5 FT Yellow</td>\n",
       "      <td>1081-968-N Cmple Cat6 500MHz UTP Ethernet Lan Network Patch Cable 75 FT Yellow</td>\n",
       "      <td>3988</td>\n",
       "      <td>483</td>\n",
       "    </tr>\n",
       "    <tr>\n",
       "      <th>26</th>\n",
       "      <td>2394</td>\n",
       "      <td>30744</td>\n",
       "      <td>1081-960-N Cmple Cat6 500MHz UTP Ethernet Lan Network Patch Cable 1.5 FT Yellow</td>\n",
       "      <td>1081-963-N Cmple Cat6 500MHz UTP Ethernet Lan Network Patch Cable 7 FT Yellow</td>\n",
       "      <td>30744</td>\n",
       "      <td>483</td>\n",
       "    </tr>\n",
       "    <tr>\n",
       "      <th>27</th>\n",
       "      <td>2394</td>\n",
       "      <td>30744</td>\n",
       "      <td>1081-960-N Cmple Cat6 500MHz UTP Ethernet Lan Network Patch Cable 1.5 FT Yellow</td>\n",
       "      <td>1081-963-N Cmple Cat6 500MHz UTP Ethernet Lan Network Patch Cable 7 FT Yellow</td>\n",
       "      <td>30744</td>\n",
       "      <td>483</td>\n",
       "    </tr>\n",
       "    <tr>\n",
       "      <th>28</th>\n",
       "      <td>4479</td>\n",
       "      <td>38488</td>\n",
       "      <td>\"Custom Printed with Living World Oblong Mouse Pads/ Standard Rectangle Gaming Mousepad in 9\"\"*7\"\" -513123\"</td>\n",
       "      <td>\"Custom Printed with Living World Oblong Mouse Pads/ Standard Rectangle Gaming Mousepad in 9\"\"*7\"\" -513112\"</td>\n",
       "      <td>38488</td>\n",
       "      <td>260</td>\n",
       "    </tr>\n",
       "    <tr>\n",
       "      <th>29</th>\n",
       "      <td>4479</td>\n",
       "      <td>38488</td>\n",
       "      <td>\"Custom Printed with Living World Oblong Mouse Pads/ Standard Rectangle Gaming Mousepad in 9\"\"*7\"\" -513123\"</td>\n",
       "      <td>\"Custom Printed with Living World Oblong Mouse Pads/ Standard Rectangle Gaming Mousepad in 9\"\"*7\"\" -513122\"</td>\n",
       "      <td>38488</td>\n",
       "      <td>260</td>\n",
       "    </tr>\n",
       "    <tr>\n",
       "      <th>...</th>\n",
       "      <td>...</td>\n",
       "      <td>...</td>\n",
       "      <td>...</td>\n",
       "      <td>...</td>\n",
       "      <td>...</td>\n",
       "      <td>...</td>\n",
       "    </tr>\n",
       "    <tr>\n",
       "      <th>25495</th>\n",
       "      <td>42392</td>\n",
       "      <td>10418</td>\n",
       "      <td>The Magic Wand 19mm</td>\n",
       "      <td>DPS020 Spy Pen 4GB SD card</td>\n",
       "      <td>10418</td>\n",
       "      <td>6</td>\n",
       "    </tr>\n",
       "    <tr>\n",
       "      <th>25496</th>\n",
       "      <td>42392</td>\n",
       "      <td>10418</td>\n",
       "      <td>The Magic Wand 19mm</td>\n",
       "      <td>Digital Web Camera-CBD-PC500</td>\n",
       "      <td>10418</td>\n",
       "      <td>215</td>\n",
       "    </tr>\n",
       "    <tr>\n",
       "      <th>25497</th>\n",
       "      <td>42392</td>\n",
       "      <td>10418</td>\n",
       "      <td>The Magic Wand 19mm</td>\n",
       "      <td>Cobra Digital 3D 220 3.1 Megapixel Ultimate 3D Webcam With Avatar Software</td>\n",
       "      <td>10418</td>\n",
       "      <td>143</td>\n",
       "    </tr>\n",
       "    <tr>\n",
       "      <th>25498</th>\n",
       "      <td>42392</td>\n",
       "      <td>10418</td>\n",
       "      <td>The Magic Wand 19mm</td>\n",
       "      <td>Cobra Digital DPS-2300 WAND Document Scanner</td>\n",
       "      <td>10418</td>\n",
       "      <td>183</td>\n",
       "    </tr>\n",
       "    <tr>\n",
       "      <th>25499</th>\n",
       "      <td>42392</td>\n",
       "      <td>10418</td>\n",
       "      <td>The Magic Wand 19mm</td>\n",
       "      <td>The Road Warrior Digital Wand Scanner</td>\n",
       "      <td>10418</td>\n",
       "      <td>183</td>\n",
       "    </tr>\n",
       "    <tr>\n",
       "      <th>25500</th>\n",
       "      <td>42392</td>\n",
       "      <td>10418</td>\n",
       "      <td>The Magic Wand 19mm</td>\n",
       "      <td>Tri Image Scanner with Display Tri Image Scanner with Display</td>\n",
       "      <td>10418</td>\n",
       "      <td>183</td>\n",
       "    </tr>\n",
       "    <tr>\n",
       "      <th>25501</th>\n",
       "      <td>42392</td>\n",
       "      <td>10418</td>\n",
       "      <td>The Magic Wand 19mm</td>\n",
       "      <td>Cobra Digital DPS-2300 WAND Document Scanner</td>\n",
       "      <td>10418</td>\n",
       "      <td>183</td>\n",
       "    </tr>\n",
       "    <tr>\n",
       "      <th>25502</th>\n",
       "      <td>42392</td>\n",
       "      <td>7750</td>\n",
       "      <td>The Magic Wand 19mm</td>\n",
       "      <td>Pandigital PANSCN08 Handheld Wand Scanner w/2GB microSD Card Purple - Scan Documents Photos &amp;</td>\n",
       "      <td>7750</td>\n",
       "      <td>183</td>\n",
       "    </tr>\n",
       "    <tr>\n",
       "      <th>25503</th>\n",
       "      <td>43813</td>\n",
       "      <td>23039</td>\n",
       "      <td>Original LCD With Ribbon Compatible For Lenove A790E</td>\n",
       "      <td>Original LCD With Ribbon Compatible For Lenove A789</td>\n",
       "      <td>23039</td>\n",
       "      <td>56</td>\n",
       "    </tr>\n",
       "    <tr>\n",
       "      <th>25504</th>\n",
       "      <td>43813</td>\n",
       "      <td>1652</td>\n",
       "      <td>Original LCD With Ribbon Compatible For Lenove A790E</td>\n",
       "      <td>Original LCD With Ribbon Compatible For Lenove A65</td>\n",
       "      <td>1652</td>\n",
       "      <td>56</td>\n",
       "    </tr>\n",
       "    <tr>\n",
       "      <th>25505</th>\n",
       "      <td>43813</td>\n",
       "      <td>13004</td>\n",
       "      <td>Original LCD With Ribbon Compatible For Lenove A790E</td>\n",
       "      <td>Original LCD With Ribbon Compatible For Lenove P70</td>\n",
       "      <td>13004</td>\n",
       "      <td>56</td>\n",
       "    </tr>\n",
       "    <tr>\n",
       "      <th>25506</th>\n",
       "      <td>43813</td>\n",
       "      <td>1010</td>\n",
       "      <td>Original LCD With Ribbon Compatible For Lenove A790E</td>\n",
       "      <td>Original LCD With Ribbon Compatible For Lenove A500</td>\n",
       "      <td>1010</td>\n",
       "      <td>56</td>\n",
       "    </tr>\n",
       "    <tr>\n",
       "      <th>25507</th>\n",
       "      <td>44491</td>\n",
       "      <td>20472</td>\n",
       "      <td>SONY VAIO VPCEB26GM/BI Laptop Screen 15.6 LCD CCFL WXGA HD</td>\n",
       "      <td>SONY VAIO VPCEB1SFX/BI Laptop Screen 15.6 LCD CCFL WXGA HD</td>\n",
       "      <td>20472</td>\n",
       "      <td>415</td>\n",
       "    </tr>\n",
       "    <tr>\n",
       "      <th>25508</th>\n",
       "      <td>44491</td>\n",
       "      <td>26380</td>\n",
       "      <td>SONY VAIO VPCEB26GM/BI Laptop Screen 15.6 LCD CCFL WXGA HD</td>\n",
       "      <td>SONY VAIO VPCEB2MGX/BI Laptop Screen 15.6 LCD CCFL WXGA HD</td>\n",
       "      <td>26380</td>\n",
       "      <td>415</td>\n",
       "    </tr>\n",
       "    <tr>\n",
       "      <th>25509</th>\n",
       "      <td>44491</td>\n",
       "      <td>43903</td>\n",
       "      <td>SONY VAIO VPCEB26GM/BI Laptop Screen 15.6 LCD CCFL WXGA HD</td>\n",
       "      <td>SONY VAIO VPCEB26GX/BI Laptop Screen 15.6 LCD CCFL WXGA HD</td>\n",
       "      <td>43903</td>\n",
       "      <td>415</td>\n",
       "    </tr>\n",
       "    <tr>\n",
       "      <th>25510</th>\n",
       "      <td>44491</td>\n",
       "      <td>33734</td>\n",
       "      <td>SONY VAIO VPCEB26GM/BI Laptop Screen 15.6 LCD CCFL WXGA HD</td>\n",
       "      <td>SONY VAIO VPCEB23FX Laptop Screen 15.6 LCD CCFL WXGA HD</td>\n",
       "      <td>33734</td>\n",
       "      <td>415</td>\n",
       "    </tr>\n",
       "    <tr>\n",
       "      <th>25511</th>\n",
       "      <td>44788</td>\n",
       "      <td>23764</td>\n",
       "      <td>HP 572413-001 Laptop Screen 10.1 LED BOTTOM LEFT WSVGA 1024x600</td>\n",
       "      <td>HP 579612-001 Laptop Screen 10.1 LED BOTTOM LEFT WSVGA 1024x600</td>\n",
       "      <td>23764</td>\n",
       "      <td>324</td>\n",
       "    </tr>\n",
       "    <tr>\n",
       "      <th>25512</th>\n",
       "      <td>44788</td>\n",
       "      <td>11622</td>\n",
       "      <td>HP 572413-001 Laptop Screen 10.1 LED BOTTOM LEFT WSVGA 1024x600</td>\n",
       "      <td>HP MINI 210-1190NR Laptop Screen 10.1 LED BOTTOM LEFT WSVGA 1024x600</td>\n",
       "      <td>11622</td>\n",
       "      <td>324</td>\n",
       "    </tr>\n",
       "    <tr>\n",
       "      <th>25513</th>\n",
       "      <td>44904</td>\n",
       "      <td>23445</td>\n",
       "      <td>8GB Aluminum Case Flash Drive Pink</td>\n",
       "      <td>2GB Aluminum Case Flash Drive Pink</td>\n",
       "      <td>23445</td>\n",
       "      <td>59</td>\n",
       "    </tr>\n",
       "    <tr>\n",
       "      <th>25514</th>\n",
       "      <td>44904</td>\n",
       "      <td>19453</td>\n",
       "      <td>8GB Aluminum Case Flash Drive Pink</td>\n",
       "      <td>4GB Long Aluminum Case Flash Drive Pink</td>\n",
       "      <td>19453</td>\n",
       "      <td>59</td>\n",
       "    </tr>\n",
       "    <tr>\n",
       "      <th>25515</th>\n",
       "      <td>44904</td>\n",
       "      <td>32083</td>\n",
       "      <td>8GB Aluminum Case Flash Drive Pink</td>\n",
       "      <td>8GB Flash Drive</td>\n",
       "      <td>32083</td>\n",
       "      <td>59</td>\n",
       "    </tr>\n",
       "    <tr>\n",
       "      <th>25516</th>\n",
       "      <td>44920</td>\n",
       "      <td>19153</td>\n",
       "      <td>(3 Pack Value Bundle) IVRTN540 TN540 Compatible, Remanufactured, TN540 Laser Toner, 3500 Page-Yield, Black</td>\n",
       "      <td>(3 Pack Value Bundle) IVRDR350 DR350 Compatible, Remanufactured, DR350 Laser Toner, 12000 Page-Yield, Black</td>\n",
       "      <td>19153</td>\n",
       "      <td>625</td>\n",
       "    </tr>\n",
       "    <tr>\n",
       "      <th>25517</th>\n",
       "      <td>44920</td>\n",
       "      <td>7666</td>\n",
       "      <td>(3 Pack Value Bundle) IVRTN540 TN540 Compatible, Remanufactured, TN540 Laser Toner, 3500 Page-Yield, Black</td>\n",
       "      <td>(3 Pack Value Bundle) IVRE255X E255X Compatible, Remanufactured, CE255X (55X) Laser Toner, 12500 Yield, Black</td>\n",
       "      <td>7666</td>\n",
       "      <td>625</td>\n",
       "    </tr>\n",
       "    <tr>\n",
       "      <th>25518</th>\n",
       "      <td>44924</td>\n",
       "      <td>14559</td>\n",
       "      <td>Infiniband 10GB CX4 High-Speed Multilane Ethernet Cable 4X SATA 7.0m</td>\n",
       "      <td>Infiniband 10GB CX4 High-Speed Multilane Ethernet Cable 4X SATA 1.0m</td>\n",
       "      <td>14559</td>\n",
       "      <td>483</td>\n",
       "    </tr>\n",
       "    <tr>\n",
       "      <th>25519</th>\n",
       "      <td>44924</td>\n",
       "      <td>33741</td>\n",
       "      <td>Infiniband 10GB CX4 High-Speed Multilane Ethernet Cable 4X SATA 7.0m</td>\n",
       "      <td>Shopall 2 Pack RJ45 Cat5e Ethernet Patch Cable 14 Feet/4.2 Meters</td>\n",
       "      <td>33741</td>\n",
       "      <td>483</td>\n",
       "    </tr>\n",
       "    <tr>\n",
       "      <th>25520</th>\n",
       "      <td>44924</td>\n",
       "      <td>33741</td>\n",
       "      <td>Infiniband 10GB CX4 High-Speed Multilane Ethernet Cable 4X SATA 7.0m</td>\n",
       "      <td>Shopall WHITE 20 FT CAT5E RJ45 PATCH ETHERNET NETWORK For PC, Mac, Laptop, PS2, PS3, XBox, and XBox 360 to hook up on high speed internet from DSL or Cable internet.</td>\n",
       "      <td>33741</td>\n",
       "      <td>483</td>\n",
       "    </tr>\n",
       "    <tr>\n",
       "      <th>25521</th>\n",
       "      <td>44924</td>\n",
       "      <td>2608</td>\n",
       "      <td>Infiniband 10GB CX4 High-Speed Multilane Ethernet Cable 4X SATA 7.0m</td>\n",
       "      <td>MENCOM MDE45-4MP-FW09 ETHERNET ETHERPLUG FIELD WIREABLE PLUG MDE45-4MP-FW09</td>\n",
       "      <td>2608</td>\n",
       "      <td>483</td>\n",
       "    </tr>\n",
       "    <tr>\n",
       "      <th>25522</th>\n",
       "      <td>44924</td>\n",
       "      <td>2608</td>\n",
       "      <td>Infiniband 10GB CX4 High-Speed Multilane Ethernet Cable 4X SATA 7.0m</td>\n",
       "      <td>Mencom Rj45-8Mmp-3 Ethernet Cable 3 Feet Rj45-8Mmp-3</td>\n",
       "      <td>2608</td>\n",
       "      <td>483</td>\n",
       "    </tr>\n",
       "    <tr>\n",
       "      <th>25523</th>\n",
       "      <td>44924</td>\n",
       "      <td>4618</td>\n",
       "      <td>Infiniband 10GB CX4 High-Speed Multilane Ethernet Cable 4X SATA 7.0m</td>\n",
       "      <td>LCD Display Network LAN Cable Tester Wire Tracker Tracer Length Scanner</td>\n",
       "      <td>4618</td>\n",
       "      <td>483</td>\n",
       "    </tr>\n",
       "    <tr>\n",
       "      <th>25524</th>\n",
       "      <td>44924</td>\n",
       "      <td>4618</td>\n",
       "      <td>Infiniband 10GB CX4 High-Speed Multilane Ethernet Cable 4X SATA 7.0m</td>\n",
       "      <td>NOYAFA NF-468 Wire Fault Locator RJ45 RJ11 Cable</td>\n",
       "      <td>4618</td>\n",
       "      <td>483</td>\n",
       "    </tr>\n",
       "  </tbody>\n",
       "</table>\n",
       "<p>25525 rows × 6 columns</p>\n",
       "</div>"
      ],
      "text/plain": [
       "       main_brand_id duplicate_brand_id  \\\n",
       "0                621              33893   \n",
       "1                621              33893   \n",
       "2                621              33893   \n",
       "3                621               8920   \n",
       "4                621               8920   \n",
       "5                621               8920   \n",
       "6                621              23252   \n",
       "7                621              23252   \n",
       "8                621              23252   \n",
       "9                621               3285   \n",
       "10               621               3285   \n",
       "11               621               3285   \n",
       "12              1093              37194   \n",
       "13              1093              44804   \n",
       "14              1093              13522   \n",
       "15              1093              17888   \n",
       "16              2394              42408   \n",
       "17              2394              42408   \n",
       "18              2394              42408   \n",
       "19              2394              42408   \n",
       "20              2394              13931   \n",
       "21              2394              13931   \n",
       "22              2394               3988   \n",
       "23              2394               3988   \n",
       "24              2394               3988   \n",
       "25              2394               3988   \n",
       "26              2394              30744   \n",
       "27              2394              30744   \n",
       "28              4479              38488   \n",
       "29              4479              38488   \n",
       "...              ...                ...   \n",
       "25495          42392              10418   \n",
       "25496          42392              10418   \n",
       "25497          42392              10418   \n",
       "25498          42392              10418   \n",
       "25499          42392              10418   \n",
       "25500          42392              10418   \n",
       "25501          42392              10418   \n",
       "25502          42392               7750   \n",
       "25503          43813              23039   \n",
       "25504          43813               1652   \n",
       "25505          43813              13004   \n",
       "25506          43813               1010   \n",
       "25507          44491              20472   \n",
       "25508          44491              26380   \n",
       "25509          44491              43903   \n",
       "25510          44491              33734   \n",
       "25511          44788              23764   \n",
       "25512          44788              11622   \n",
       "25513          44904              23445   \n",
       "25514          44904              19453   \n",
       "25515          44904              32083   \n",
       "25516          44920              19153   \n",
       "25517          44920               7666   \n",
       "25518          44924              14559   \n",
       "25519          44924              33741   \n",
       "25520          44924              33741   \n",
       "25521          44924               2608   \n",
       "25522          44924               2608   \n",
       "25523          44924               4618   \n",
       "25524          44924               4618   \n",
       "\n",
       "                                                                                                main_product_title  \\\n",
       "0                                                                               USBLT2MW 2m Lightning to USB Cable   \n",
       "1                                                                               USBLT2MW 2m Lightning to USB Cable   \n",
       "2                                                                               USBLT2MW 2m Lightning to USB Cable   \n",
       "3                                                                               USBLT2MW 2m Lightning to USB Cable   \n",
       "4                                                                               USBLT2MW 2m Lightning to USB Cable   \n",
       "5                                                                               USBLT2MW 2m Lightning to USB Cable   \n",
       "6                                                                               USBLT2MW 2m Lightning to USB Cable   \n",
       "7                                                                               USBLT2MW 2m Lightning to USB Cable   \n",
       "8                                                                               USBLT2MW 2m Lightning to USB Cable   \n",
       "9                                                                               USBLT2MW 2m Lightning to USB Cable   \n",
       "10                                                                              USBLT2MW 2m Lightning to USB Cable   \n",
       "11                                                                              USBLT2MW 2m Lightning to USB Cable   \n",
       "12                                                      HP Compaq nc6400 Laptop Screen 14.1 LCD CCFL WXGA 1280x800   \n",
       "13                                                      HP Compaq nc6400 Laptop Screen 14.1 LCD CCFL WXGA 1280x800   \n",
       "14                                                      HP Compaq nc6400 Laptop Screen 14.1 LCD CCFL WXGA 1280x800   \n",
       "15                                                      HP Compaq nc6400 Laptop Screen 14.1 LCD CCFL WXGA 1280x800   \n",
       "16                                 1081-960-N Cmple Cat6 500MHz UTP Ethernet Lan Network Patch Cable 1.5 FT Yellow   \n",
       "17                                 1081-960-N Cmple Cat6 500MHz UTP Ethernet Lan Network Patch Cable 1.5 FT Yellow   \n",
       "18                                 1081-960-N Cmple Cat6 500MHz UTP Ethernet Lan Network Patch Cable 1.5 FT Yellow   \n",
       "19                                 1081-960-N Cmple Cat6 500MHz UTP Ethernet Lan Network Patch Cable 1.5 FT Yellow   \n",
       "20                                 1081-960-N Cmple Cat6 500MHz UTP Ethernet Lan Network Patch Cable 1.5 FT Yellow   \n",
       "21                                 1081-960-N Cmple Cat6 500MHz UTP Ethernet Lan Network Patch Cable 1.5 FT Yellow   \n",
       "22                                 1081-960-N Cmple Cat6 500MHz UTP Ethernet Lan Network Patch Cable 1.5 FT Yellow   \n",
       "23                                 1081-960-N Cmple Cat6 500MHz UTP Ethernet Lan Network Patch Cable 1.5 FT Yellow   \n",
       "24                                 1081-960-N Cmple Cat6 500MHz UTP Ethernet Lan Network Patch Cable 1.5 FT Yellow   \n",
       "25                                 1081-960-N Cmple Cat6 500MHz UTP Ethernet Lan Network Patch Cable 1.5 FT Yellow   \n",
       "26                                 1081-960-N Cmple Cat6 500MHz UTP Ethernet Lan Network Patch Cable 1.5 FT Yellow   \n",
       "27                                 1081-960-N Cmple Cat6 500MHz UTP Ethernet Lan Network Patch Cable 1.5 FT Yellow   \n",
       "28     \"Custom Printed with Living World Oblong Mouse Pads/ Standard Rectangle Gaming Mousepad in 9\"\"*7\"\" -513123\"   \n",
       "29     \"Custom Printed with Living World Oblong Mouse Pads/ Standard Rectangle Gaming Mousepad in 9\"\"*7\"\" -513123\"   \n",
       "...                                                                                                            ...   \n",
       "25495                                                                                          The Magic Wand 19mm   \n",
       "25496                                                                                          The Magic Wand 19mm   \n",
       "25497                                                                                          The Magic Wand 19mm   \n",
       "25498                                                                                          The Magic Wand 19mm   \n",
       "25499                                                                                          The Magic Wand 19mm   \n",
       "25500                                                                                          The Magic Wand 19mm   \n",
       "25501                                                                                          The Magic Wand 19mm   \n",
       "25502                                                                                          The Magic Wand 19mm   \n",
       "25503                                                         Original LCD With Ribbon Compatible For Lenove A790E   \n",
       "25504                                                         Original LCD With Ribbon Compatible For Lenove A790E   \n",
       "25505                                                         Original LCD With Ribbon Compatible For Lenove A790E   \n",
       "25506                                                         Original LCD With Ribbon Compatible For Lenove A790E   \n",
       "25507                                                   SONY VAIO VPCEB26GM/BI Laptop Screen 15.6 LCD CCFL WXGA HD   \n",
       "25508                                                   SONY VAIO VPCEB26GM/BI Laptop Screen 15.6 LCD CCFL WXGA HD   \n",
       "25509                                                   SONY VAIO VPCEB26GM/BI Laptop Screen 15.6 LCD CCFL WXGA HD   \n",
       "25510                                                   SONY VAIO VPCEB26GM/BI Laptop Screen 15.6 LCD CCFL WXGA HD   \n",
       "25511                                              HP 572413-001 Laptop Screen 10.1 LED BOTTOM LEFT WSVGA 1024x600   \n",
       "25512                                              HP 572413-001 Laptop Screen 10.1 LED BOTTOM LEFT WSVGA 1024x600   \n",
       "25513                                                                           8GB Aluminum Case Flash Drive Pink   \n",
       "25514                                                                           8GB Aluminum Case Flash Drive Pink   \n",
       "25515                                                                           8GB Aluminum Case Flash Drive Pink   \n",
       "25516   (3 Pack Value Bundle) IVRTN540 TN540 Compatible, Remanufactured, TN540 Laser Toner, 3500 Page-Yield, Black   \n",
       "25517   (3 Pack Value Bundle) IVRTN540 TN540 Compatible, Remanufactured, TN540 Laser Toner, 3500 Page-Yield, Black   \n",
       "25518                                         Infiniband 10GB CX4 High-Speed Multilane Ethernet Cable 4X SATA 7.0m   \n",
       "25519                                         Infiniband 10GB CX4 High-Speed Multilane Ethernet Cable 4X SATA 7.0m   \n",
       "25520                                         Infiniband 10GB CX4 High-Speed Multilane Ethernet Cable 4X SATA 7.0m   \n",
       "25521                                         Infiniband 10GB CX4 High-Speed Multilane Ethernet Cable 4X SATA 7.0m   \n",
       "25522                                         Infiniband 10GB CX4 High-Speed Multilane Ethernet Cable 4X SATA 7.0m   \n",
       "25523                                         Infiniband 10GB CX4 High-Speed Multilane Ethernet Cable 4X SATA 7.0m   \n",
       "25524                                         Infiniband 10GB CX4 High-Speed Multilane Ethernet Cable 4X SATA 7.0m   \n",
       "\n",
       "                                                                                                                                                               product_title  \\\n",
       "0                                                                                                                                    \"USBLT15CMW 6\"\" Lightning to USB Cable\"   \n",
       "1                                                                                                                                    \"USBLT15CMW 6\"\" Lightning to USB Cable\"   \n",
       "2                                                                                                                                    \"USBLT15CMW 6\"\" Lightning to USB Cable\"   \n",
       "3                                                                                                                                                     Lightning to USB Cable   \n",
       "4                                                                                                                                                     Lightning to USB Cable   \n",
       "5                                                                                                                                                     Lightning to USB Cable   \n",
       "6                                                                                                                                                     lightning to usb cable   \n",
       "7                                                                                                                                                     lightning to usb cable   \n",
       "8                                                                                                                                                     lightning to usb cable   \n",
       "9                                                                                                                                                     Lightning to USB Cable   \n",
       "10                                                                                                                                                    Lightning to USB Cable   \n",
       "11                                                                                                                                                    Lightning to USB Cable   \n",
       "12                                                                                                              HP COMPAQ 380724-001 Laptop Screen 17 LCD CCFL WXGA 1440x900   \n",
       "13                                                                                                                 HP Compaq 6531s Laptop Screen 14.1 LCD CCFL WXGA 1280x800   \n",
       "14                                                                                                                 HP Compaq 6730s Laptop Screen 15.4 LCD CCFL WXGA 1280x800   \n",
       "15                                                                                                   Compaq Presario CQ61-216EL Laptop Screen 15.6 LCD CCFL WXGA HD 1366x768   \n",
       "16                                                                                            1081-965-N Cmple Cat6 500MHz UTP Ethernet Lan Network Patch Cable 15 FT Yellow   \n",
       "17                                                                                            1081-965-N Cmple Cat6 500MHz UTP Ethernet Lan Network Patch Cable 15 FT Yellow   \n",
       "18                                                                                            1081-965-N Cmple Cat6 500MHz UTP Ethernet Lan Network Patch Cable 15 FT Yellow   \n",
       "19                                                                                            1081-965-N Cmple Cat6 500MHz UTP Ethernet Lan Network Patch Cable 15 FT Yellow   \n",
       "20                                                                                             1081-962-N Cmple Cat6 500MHz UTP Ethernet Lan Network Patch Cable 5 FT Yellow   \n",
       "21                                                                                             1081-962-N Cmple Cat6 500MHz UTP Ethernet Lan Network Patch Cable 5 FT Yellow   \n",
       "22                                                                                            1081-968-N Cmple Cat6 500MHz UTP Ethernet Lan Network Patch Cable 75 FT Yellow   \n",
       "23                                                                                            1081-968-N Cmple Cat6 500MHz UTP Ethernet Lan Network Patch Cable 75 FT Yellow   \n",
       "24                                                                                            1081-968-N Cmple Cat6 500MHz UTP Ethernet Lan Network Patch Cable 75 FT Yellow   \n",
       "25                                                                                            1081-968-N Cmple Cat6 500MHz UTP Ethernet Lan Network Patch Cable 75 FT Yellow   \n",
       "26                                                                                             1081-963-N Cmple Cat6 500MHz UTP Ethernet Lan Network Patch Cable 7 FT Yellow   \n",
       "27                                                                                             1081-963-N Cmple Cat6 500MHz UTP Ethernet Lan Network Patch Cable 7 FT Yellow   \n",
       "28                                                               \"Custom Printed with Living World Oblong Mouse Pads/ Standard Rectangle Gaming Mousepad in 9\"\"*7\"\" -513112\"   \n",
       "29                                                               \"Custom Printed with Living World Oblong Mouse Pads/ Standard Rectangle Gaming Mousepad in 9\"\"*7\"\" -513122\"   \n",
       "...                                                                                                                                                                      ...   \n",
       "25495                                                                                                                                             DPS020 Spy Pen 4GB SD card   \n",
       "25496                                                                                                                                           Digital Web Camera-CBD-PC500   \n",
       "25497                                                                                             Cobra Digital 3D 220 3.1 Megapixel Ultimate 3D Webcam With Avatar Software   \n",
       "25498                                                                                                                           Cobra Digital DPS-2300 WAND Document Scanner   \n",
       "25499                                                                                                                                  The Road Warrior Digital Wand Scanner   \n",
       "25500                                                                                                          Tri Image Scanner with Display Tri Image Scanner with Display   \n",
       "25501                                                                                                                           Cobra Digital DPS-2300 WAND Document Scanner   \n",
       "25502                                                                          Pandigital PANSCN08 Handheld Wand Scanner w/2GB microSD Card Purple - Scan Documents Photos &   \n",
       "25503                                                                                                                    Original LCD With Ribbon Compatible For Lenove A789   \n",
       "25504                                                                                                                     Original LCD With Ribbon Compatible For Lenove A65   \n",
       "25505                                                                                                                     Original LCD With Ribbon Compatible For Lenove P70   \n",
       "25506                                                                                                                    Original LCD With Ribbon Compatible For Lenove A500   \n",
       "25507                                                                                                             SONY VAIO VPCEB1SFX/BI Laptop Screen 15.6 LCD CCFL WXGA HD   \n",
       "25508                                                                                                             SONY VAIO VPCEB2MGX/BI Laptop Screen 15.6 LCD CCFL WXGA HD   \n",
       "25509                                                                                                             SONY VAIO VPCEB26GX/BI Laptop Screen 15.6 LCD CCFL WXGA HD   \n",
       "25510                                                                                                                SONY VAIO VPCEB23FX Laptop Screen 15.6 LCD CCFL WXGA HD   \n",
       "25511                                                                                                        HP 579612-001 Laptop Screen 10.1 LED BOTTOM LEFT WSVGA 1024x600   \n",
       "25512                                                                                                   HP MINI 210-1190NR Laptop Screen 10.1 LED BOTTOM LEFT WSVGA 1024x600   \n",
       "25513                                                                                                                                     2GB Aluminum Case Flash Drive Pink   \n",
       "25514                                                                                                                                4GB Long Aluminum Case Flash Drive Pink   \n",
       "25515                                                                                                                                                        8GB Flash Drive   \n",
       "25516                                                            (3 Pack Value Bundle) IVRDR350 DR350 Compatible, Remanufactured, DR350 Laser Toner, 12000 Page-Yield, Black   \n",
       "25517                                                          (3 Pack Value Bundle) IVRE255X E255X Compatible, Remanufactured, CE255X (55X) Laser Toner, 12500 Yield, Black   \n",
       "25518                                                                                                   Infiniband 10GB CX4 High-Speed Multilane Ethernet Cable 4X SATA 1.0m   \n",
       "25519                                                                                                      Shopall 2 Pack RJ45 Cat5e Ethernet Patch Cable 14 Feet/4.2 Meters   \n",
       "25520  Shopall WHITE 20 FT CAT5E RJ45 PATCH ETHERNET NETWORK For PC, Mac, Laptop, PS2, PS3, XBox, and XBox 360 to hook up on high speed internet from DSL or Cable internet.   \n",
       "25521                                                                                            MENCOM MDE45-4MP-FW09 ETHERNET ETHERPLUG FIELD WIREABLE PLUG MDE45-4MP-FW09   \n",
       "25522                                                                                                                   Mencom Rj45-8Mmp-3 Ethernet Cable 3 Feet Rj45-8Mmp-3   \n",
       "25523                                                                                                LCD Display Network LAN Cable Tester Wire Tracker Tracer Length Scanner   \n",
       "25524                                                                                                                       NOYAFA NF-468 Wire Fault Locator RJ45 RJ11 Cable   \n",
       "\n",
       "      brand_id category_id  \n",
       "0        33893         390  \n",
       "1        33893         390  \n",
       "2        33893         390  \n",
       "3         8920         390  \n",
       "4         8920         390  \n",
       "5         8920         390  \n",
       "6        23252         390  \n",
       "7        23252         390  \n",
       "8        23252         390  \n",
       "9         3285         390  \n",
       "10        3285         390  \n",
       "11        3285         390  \n",
       "12       37194         415  \n",
       "13       44804         415  \n",
       "14       13522         415  \n",
       "15       17888         415  \n",
       "16       42408         483  \n",
       "17       42408         483  \n",
       "18       42408         483  \n",
       "19       42408         483  \n",
       "20       13931         483  \n",
       "21       13931         483  \n",
       "22        3988         483  \n",
       "23        3988         483  \n",
       "24        3988         483  \n",
       "25        3988         483  \n",
       "26       30744         483  \n",
       "27       30744         483  \n",
       "28       38488         260  \n",
       "29       38488         260  \n",
       "...        ...         ...  \n",
       "25495    10418           6  \n",
       "25496    10418         215  \n",
       "25497    10418         143  \n",
       "25498    10418         183  \n",
       "25499    10418         183  \n",
       "25500    10418         183  \n",
       "25501    10418         183  \n",
       "25502     7750         183  \n",
       "25503    23039          56  \n",
       "25504     1652          56  \n",
       "25505    13004          56  \n",
       "25506     1010          56  \n",
       "25507    20472         415  \n",
       "25508    26380         415  \n",
       "25509    43903         415  \n",
       "25510    33734         415  \n",
       "25511    23764         324  \n",
       "25512    11622         324  \n",
       "25513    23445          59  \n",
       "25514    19453          59  \n",
       "25515    32083          59  \n",
       "25516    19153         625  \n",
       "25517     7666         625  \n",
       "25518    14559         483  \n",
       "25519    33741         483  \n",
       "25520    33741         483  \n",
       "25521     2608         483  \n",
       "25522     2608         483  \n",
       "25523     4618         483  \n",
       "25524     4618         483  \n",
       "\n",
       "[25525 rows x 6 columns]"
      ]
     },
     "execution_count": 176,
     "metadata": {},
     "output_type": "execute_result"
    }
   ],
   "source": [
    "dup_product_title = pd.merge(main_product_title,train,right_on='brand_id',left_on='duplicate_brand_id',how='inner')"
   ]
  },
  {
   "cell_type": "code",
   "execution_count": 177,
   "metadata": {
    "collapsed": false
   },
   "outputs": [],
   "source": [
    "dup_product_title = dup_product_title[['brand_id','duplicate_brand_id',\n",
    "                                                                                'main_product_title',\n",
    "                                                                               'product_title']]\n",
    "dup_product_title.columns = ['brand_id','duplicate_brand_id','main_product_title','dup_product_title']"
   ]
  },
  {
   "cell_type": "code",
   "execution_count": 179,
   "metadata": {
    "collapsed": false
   },
   "outputs": [],
   "source": [
    "dup_product_title.to_csv('possible_duplicates.csv',index=False)"
   ]
  },
  {
   "cell_type": "code",
   "execution_count": 180,
   "metadata": {
    "collapsed": false,
    "scrolled": false
   },
   "outputs": [
    {
     "data": {
      "text/html": [
       "<div>\n",
       "<table border=\"1\" class=\"dataframe\">\n",
       "  <thead>\n",
       "    <tr style=\"text-align: right;\">\n",
       "      <th></th>\n",
       "      <th>brand_id</th>\n",
       "      <th>duplicate_brand_id</th>\n",
       "      <th>main_product_title</th>\n",
       "      <th>dup_product_title</th>\n",
       "    </tr>\n",
       "  </thead>\n",
       "  <tbody>\n",
       "    <tr>\n",
       "      <th>0</th>\n",
       "      <td>33893</td>\n",
       "      <td>33893</td>\n",
       "      <td>USBLT2MW 2m Lightning to USB Cable</td>\n",
       "      <td>\"USBLT15CMW 6\"\" Lightning to USB Cable\"</td>\n",
       "    </tr>\n",
       "    <tr>\n",
       "      <th>1</th>\n",
       "      <td>33893</td>\n",
       "      <td>33893</td>\n",
       "      <td>USBLT2MW 2m Lightning to USB Cable</td>\n",
       "      <td>\"USBLT15CMW 6\"\" Lightning to USB Cable\"</td>\n",
       "    </tr>\n",
       "    <tr>\n",
       "      <th>2</th>\n",
       "      <td>33893</td>\n",
       "      <td>33893</td>\n",
       "      <td>USBLT2MW 2m Lightning to USB Cable</td>\n",
       "      <td>\"USBLT15CMW 6\"\" Lightning to USB Cable\"</td>\n",
       "    </tr>\n",
       "    <tr>\n",
       "      <th>3</th>\n",
       "      <td>8920</td>\n",
       "      <td>8920</td>\n",
       "      <td>USBLT2MW 2m Lightning to USB Cable</td>\n",
       "      <td>Lightning to USB Cable</td>\n",
       "    </tr>\n",
       "    <tr>\n",
       "      <th>4</th>\n",
       "      <td>8920</td>\n",
       "      <td>8920</td>\n",
       "      <td>USBLT2MW 2m Lightning to USB Cable</td>\n",
       "      <td>Lightning to USB Cable</td>\n",
       "    </tr>\n",
       "    <tr>\n",
       "      <th>5</th>\n",
       "      <td>8920</td>\n",
       "      <td>8920</td>\n",
       "      <td>USBLT2MW 2m Lightning to USB Cable</td>\n",
       "      <td>Lightning to USB Cable</td>\n",
       "    </tr>\n",
       "    <tr>\n",
       "      <th>6</th>\n",
       "      <td>23252</td>\n",
       "      <td>23252</td>\n",
       "      <td>USBLT2MW 2m Lightning to USB Cable</td>\n",
       "      <td>lightning to usb cable</td>\n",
       "    </tr>\n",
       "    <tr>\n",
       "      <th>7</th>\n",
       "      <td>23252</td>\n",
       "      <td>23252</td>\n",
       "      <td>USBLT2MW 2m Lightning to USB Cable</td>\n",
       "      <td>lightning to usb cable</td>\n",
       "    </tr>\n",
       "    <tr>\n",
       "      <th>8</th>\n",
       "      <td>23252</td>\n",
       "      <td>23252</td>\n",
       "      <td>USBLT2MW 2m Lightning to USB Cable</td>\n",
       "      <td>lightning to usb cable</td>\n",
       "    </tr>\n",
       "    <tr>\n",
       "      <th>9</th>\n",
       "      <td>3285</td>\n",
       "      <td>3285</td>\n",
       "      <td>USBLT2MW 2m Lightning to USB Cable</td>\n",
       "      <td>Lightning to USB Cable</td>\n",
       "    </tr>\n",
       "    <tr>\n",
       "      <th>10</th>\n",
       "      <td>3285</td>\n",
       "      <td>3285</td>\n",
       "      <td>USBLT2MW 2m Lightning to USB Cable</td>\n",
       "      <td>Lightning to USB Cable</td>\n",
       "    </tr>\n",
       "    <tr>\n",
       "      <th>11</th>\n",
       "      <td>3285</td>\n",
       "      <td>3285</td>\n",
       "      <td>USBLT2MW 2m Lightning to USB Cable</td>\n",
       "      <td>Lightning to USB Cable</td>\n",
       "    </tr>\n",
       "    <tr>\n",
       "      <th>12</th>\n",
       "      <td>37194</td>\n",
       "      <td>37194</td>\n",
       "      <td>HP Compaq nc6400 Laptop Screen 14.1 LCD CCFL WXGA 1280x800</td>\n",
       "      <td>HP COMPAQ 380724-001 Laptop Screen 17 LCD CCFL WXGA 1440x900</td>\n",
       "    </tr>\n",
       "    <tr>\n",
       "      <th>13</th>\n",
       "      <td>44804</td>\n",
       "      <td>44804</td>\n",
       "      <td>HP Compaq nc6400 Laptop Screen 14.1 LCD CCFL WXGA 1280x800</td>\n",
       "      <td>HP Compaq 6531s Laptop Screen 14.1 LCD CCFL WXGA 1280x800</td>\n",
       "    </tr>\n",
       "    <tr>\n",
       "      <th>14</th>\n",
       "      <td>13522</td>\n",
       "      <td>13522</td>\n",
       "      <td>HP Compaq nc6400 Laptop Screen 14.1 LCD CCFL WXGA 1280x800</td>\n",
       "      <td>HP Compaq 6730s Laptop Screen 15.4 LCD CCFL WXGA 1280x800</td>\n",
       "    </tr>\n",
       "    <tr>\n",
       "      <th>15</th>\n",
       "      <td>17888</td>\n",
       "      <td>17888</td>\n",
       "      <td>HP Compaq nc6400 Laptop Screen 14.1 LCD CCFL WXGA 1280x800</td>\n",
       "      <td>Compaq Presario CQ61-216EL Laptop Screen 15.6 LCD CCFL WXGA HD 1366x768</td>\n",
       "    </tr>\n",
       "    <tr>\n",
       "      <th>16</th>\n",
       "      <td>42408</td>\n",
       "      <td>42408</td>\n",
       "      <td>1081-960-N Cmple Cat6 500MHz UTP Ethernet Lan Network Patch Cable 1.5 FT Yellow</td>\n",
       "      <td>1081-965-N Cmple Cat6 500MHz UTP Ethernet Lan Network Patch Cable 15 FT Yellow</td>\n",
       "    </tr>\n",
       "    <tr>\n",
       "      <th>17</th>\n",
       "      <td>42408</td>\n",
       "      <td>42408</td>\n",
       "      <td>1081-960-N Cmple Cat6 500MHz UTP Ethernet Lan Network Patch Cable 1.5 FT Yellow</td>\n",
       "      <td>1081-965-N Cmple Cat6 500MHz UTP Ethernet Lan Network Patch Cable 15 FT Yellow</td>\n",
       "    </tr>\n",
       "    <tr>\n",
       "      <th>18</th>\n",
       "      <td>42408</td>\n",
       "      <td>42408</td>\n",
       "      <td>1081-960-N Cmple Cat6 500MHz UTP Ethernet Lan Network Patch Cable 1.5 FT Yellow</td>\n",
       "      <td>1081-965-N Cmple Cat6 500MHz UTP Ethernet Lan Network Patch Cable 15 FT Yellow</td>\n",
       "    </tr>\n",
       "    <tr>\n",
       "      <th>19</th>\n",
       "      <td>42408</td>\n",
       "      <td>42408</td>\n",
       "      <td>1081-960-N Cmple Cat6 500MHz UTP Ethernet Lan Network Patch Cable 1.5 FT Yellow</td>\n",
       "      <td>1081-965-N Cmple Cat6 500MHz UTP Ethernet Lan Network Patch Cable 15 FT Yellow</td>\n",
       "    </tr>\n",
       "    <tr>\n",
       "      <th>20</th>\n",
       "      <td>13931</td>\n",
       "      <td>13931</td>\n",
       "      <td>1081-960-N Cmple Cat6 500MHz UTP Ethernet Lan Network Patch Cable 1.5 FT Yellow</td>\n",
       "      <td>1081-962-N Cmple Cat6 500MHz UTP Ethernet Lan Network Patch Cable 5 FT Yellow</td>\n",
       "    </tr>\n",
       "    <tr>\n",
       "      <th>21</th>\n",
       "      <td>13931</td>\n",
       "      <td>13931</td>\n",
       "      <td>1081-960-N Cmple Cat6 500MHz UTP Ethernet Lan Network Patch Cable 1.5 FT Yellow</td>\n",
       "      <td>1081-962-N Cmple Cat6 500MHz UTP Ethernet Lan Network Patch Cable 5 FT Yellow</td>\n",
       "    </tr>\n",
       "    <tr>\n",
       "      <th>22</th>\n",
       "      <td>3988</td>\n",
       "      <td>3988</td>\n",
       "      <td>1081-960-N Cmple Cat6 500MHz UTP Ethernet Lan Network Patch Cable 1.5 FT Yellow</td>\n",
       "      <td>1081-968-N Cmple Cat6 500MHz UTP Ethernet Lan Network Patch Cable 75 FT Yellow</td>\n",
       "    </tr>\n",
       "    <tr>\n",
       "      <th>23</th>\n",
       "      <td>3988</td>\n",
       "      <td>3988</td>\n",
       "      <td>1081-960-N Cmple Cat6 500MHz UTP Ethernet Lan Network Patch Cable 1.5 FT Yellow</td>\n",
       "      <td>1081-968-N Cmple Cat6 500MHz UTP Ethernet Lan Network Patch Cable 75 FT Yellow</td>\n",
       "    </tr>\n",
       "    <tr>\n",
       "      <th>24</th>\n",
       "      <td>3988</td>\n",
       "      <td>3988</td>\n",
       "      <td>1081-960-N Cmple Cat6 500MHz UTP Ethernet Lan Network Patch Cable 1.5 FT Yellow</td>\n",
       "      <td>1081-968-N Cmple Cat6 500MHz UTP Ethernet Lan Network Patch Cable 75 FT Yellow</td>\n",
       "    </tr>\n",
       "    <tr>\n",
       "      <th>25</th>\n",
       "      <td>3988</td>\n",
       "      <td>3988</td>\n",
       "      <td>1081-960-N Cmple Cat6 500MHz UTP Ethernet Lan Network Patch Cable 1.5 FT Yellow</td>\n",
       "      <td>1081-968-N Cmple Cat6 500MHz UTP Ethernet Lan Network Patch Cable 75 FT Yellow</td>\n",
       "    </tr>\n",
       "    <tr>\n",
       "      <th>26</th>\n",
       "      <td>30744</td>\n",
       "      <td>30744</td>\n",
       "      <td>1081-960-N Cmple Cat6 500MHz UTP Ethernet Lan Network Patch Cable 1.5 FT Yellow</td>\n",
       "      <td>1081-963-N Cmple Cat6 500MHz UTP Ethernet Lan Network Patch Cable 7 FT Yellow</td>\n",
       "    </tr>\n",
       "    <tr>\n",
       "      <th>27</th>\n",
       "      <td>30744</td>\n",
       "      <td>30744</td>\n",
       "      <td>1081-960-N Cmple Cat6 500MHz UTP Ethernet Lan Network Patch Cable 1.5 FT Yellow</td>\n",
       "      <td>1081-963-N Cmple Cat6 500MHz UTP Ethernet Lan Network Patch Cable 7 FT Yellow</td>\n",
       "    </tr>\n",
       "    <tr>\n",
       "      <th>28</th>\n",
       "      <td>38488</td>\n",
       "      <td>38488</td>\n",
       "      <td>\"Custom Printed with Living World Oblong Mouse Pads/ Standard Rectangle Gaming Mousepad in 9\"\"*7\"\" -513123\"</td>\n",
       "      <td>\"Custom Printed with Living World Oblong Mouse Pads/ Standard Rectangle Gaming Mousepad in 9\"\"*7\"\" -513112\"</td>\n",
       "    </tr>\n",
       "    <tr>\n",
       "      <th>29</th>\n",
       "      <td>38488</td>\n",
       "      <td>38488</td>\n",
       "      <td>\"Custom Printed with Living World Oblong Mouse Pads/ Standard Rectangle Gaming Mousepad in 9\"\"*7\"\" -513123\"</td>\n",
       "      <td>\"Custom Printed with Living World Oblong Mouse Pads/ Standard Rectangle Gaming Mousepad in 9\"\"*7\"\" -513122\"</td>\n",
       "    </tr>\n",
       "    <tr>\n",
       "      <th>...</th>\n",
       "      <td>...</td>\n",
       "      <td>...</td>\n",
       "      <td>...</td>\n",
       "      <td>...</td>\n",
       "    </tr>\n",
       "    <tr>\n",
       "      <th>25495</th>\n",
       "      <td>10418</td>\n",
       "      <td>10418</td>\n",
       "      <td>The Magic Wand 19mm</td>\n",
       "      <td>DPS020 Spy Pen 4GB SD card</td>\n",
       "    </tr>\n",
       "    <tr>\n",
       "      <th>25496</th>\n",
       "      <td>10418</td>\n",
       "      <td>10418</td>\n",
       "      <td>The Magic Wand 19mm</td>\n",
       "      <td>Digital Web Camera-CBD-PC500</td>\n",
       "    </tr>\n",
       "    <tr>\n",
       "      <th>25497</th>\n",
       "      <td>10418</td>\n",
       "      <td>10418</td>\n",
       "      <td>The Magic Wand 19mm</td>\n",
       "      <td>Cobra Digital 3D 220 3.1 Megapixel Ultimate 3D Webcam With Avatar Software</td>\n",
       "    </tr>\n",
       "    <tr>\n",
       "      <th>25498</th>\n",
       "      <td>10418</td>\n",
       "      <td>10418</td>\n",
       "      <td>The Magic Wand 19mm</td>\n",
       "      <td>Cobra Digital DPS-2300 WAND Document Scanner</td>\n",
       "    </tr>\n",
       "    <tr>\n",
       "      <th>25499</th>\n",
       "      <td>10418</td>\n",
       "      <td>10418</td>\n",
       "      <td>The Magic Wand 19mm</td>\n",
       "      <td>The Road Warrior Digital Wand Scanner</td>\n",
       "    </tr>\n",
       "    <tr>\n",
       "      <th>25500</th>\n",
       "      <td>10418</td>\n",
       "      <td>10418</td>\n",
       "      <td>The Magic Wand 19mm</td>\n",
       "      <td>Tri Image Scanner with Display Tri Image Scanner with Display</td>\n",
       "    </tr>\n",
       "    <tr>\n",
       "      <th>25501</th>\n",
       "      <td>10418</td>\n",
       "      <td>10418</td>\n",
       "      <td>The Magic Wand 19mm</td>\n",
       "      <td>Cobra Digital DPS-2300 WAND Document Scanner</td>\n",
       "    </tr>\n",
       "    <tr>\n",
       "      <th>25502</th>\n",
       "      <td>7750</td>\n",
       "      <td>7750</td>\n",
       "      <td>The Magic Wand 19mm</td>\n",
       "      <td>Pandigital PANSCN08 Handheld Wand Scanner w/2GB microSD Card Purple - Scan Documents Photos &amp;</td>\n",
       "    </tr>\n",
       "    <tr>\n",
       "      <th>25503</th>\n",
       "      <td>23039</td>\n",
       "      <td>23039</td>\n",
       "      <td>Original LCD With Ribbon Compatible For Lenove A790E</td>\n",
       "      <td>Original LCD With Ribbon Compatible For Lenove A789</td>\n",
       "    </tr>\n",
       "    <tr>\n",
       "      <th>25504</th>\n",
       "      <td>1652</td>\n",
       "      <td>1652</td>\n",
       "      <td>Original LCD With Ribbon Compatible For Lenove A790E</td>\n",
       "      <td>Original LCD With Ribbon Compatible For Lenove A65</td>\n",
       "    </tr>\n",
       "    <tr>\n",
       "      <th>25505</th>\n",
       "      <td>13004</td>\n",
       "      <td>13004</td>\n",
       "      <td>Original LCD With Ribbon Compatible For Lenove A790E</td>\n",
       "      <td>Original LCD With Ribbon Compatible For Lenove P70</td>\n",
       "    </tr>\n",
       "    <tr>\n",
       "      <th>25506</th>\n",
       "      <td>1010</td>\n",
       "      <td>1010</td>\n",
       "      <td>Original LCD With Ribbon Compatible For Lenove A790E</td>\n",
       "      <td>Original LCD With Ribbon Compatible For Lenove A500</td>\n",
       "    </tr>\n",
       "    <tr>\n",
       "      <th>25507</th>\n",
       "      <td>20472</td>\n",
       "      <td>20472</td>\n",
       "      <td>SONY VAIO VPCEB26GM/BI Laptop Screen 15.6 LCD CCFL WXGA HD</td>\n",
       "      <td>SONY VAIO VPCEB1SFX/BI Laptop Screen 15.6 LCD CCFL WXGA HD</td>\n",
       "    </tr>\n",
       "    <tr>\n",
       "      <th>25508</th>\n",
       "      <td>26380</td>\n",
       "      <td>26380</td>\n",
       "      <td>SONY VAIO VPCEB26GM/BI Laptop Screen 15.6 LCD CCFL WXGA HD</td>\n",
       "      <td>SONY VAIO VPCEB2MGX/BI Laptop Screen 15.6 LCD CCFL WXGA HD</td>\n",
       "    </tr>\n",
       "    <tr>\n",
       "      <th>25509</th>\n",
       "      <td>43903</td>\n",
       "      <td>43903</td>\n",
       "      <td>SONY VAIO VPCEB26GM/BI Laptop Screen 15.6 LCD CCFL WXGA HD</td>\n",
       "      <td>SONY VAIO VPCEB26GX/BI Laptop Screen 15.6 LCD CCFL WXGA HD</td>\n",
       "    </tr>\n",
       "    <tr>\n",
       "      <th>25510</th>\n",
       "      <td>33734</td>\n",
       "      <td>33734</td>\n",
       "      <td>SONY VAIO VPCEB26GM/BI Laptop Screen 15.6 LCD CCFL WXGA HD</td>\n",
       "      <td>SONY VAIO VPCEB23FX Laptop Screen 15.6 LCD CCFL WXGA HD</td>\n",
       "    </tr>\n",
       "    <tr>\n",
       "      <th>25511</th>\n",
       "      <td>23764</td>\n",
       "      <td>23764</td>\n",
       "      <td>HP 572413-001 Laptop Screen 10.1 LED BOTTOM LEFT WSVGA 1024x600</td>\n",
       "      <td>HP 579612-001 Laptop Screen 10.1 LED BOTTOM LEFT WSVGA 1024x600</td>\n",
       "    </tr>\n",
       "    <tr>\n",
       "      <th>25512</th>\n",
       "      <td>11622</td>\n",
       "      <td>11622</td>\n",
       "      <td>HP 572413-001 Laptop Screen 10.1 LED BOTTOM LEFT WSVGA 1024x600</td>\n",
       "      <td>HP MINI 210-1190NR Laptop Screen 10.1 LED BOTTOM LEFT WSVGA 1024x600</td>\n",
       "    </tr>\n",
       "    <tr>\n",
       "      <th>25513</th>\n",
       "      <td>23445</td>\n",
       "      <td>23445</td>\n",
       "      <td>8GB Aluminum Case Flash Drive Pink</td>\n",
       "      <td>2GB Aluminum Case Flash Drive Pink</td>\n",
       "    </tr>\n",
       "    <tr>\n",
       "      <th>25514</th>\n",
       "      <td>19453</td>\n",
       "      <td>19453</td>\n",
       "      <td>8GB Aluminum Case Flash Drive Pink</td>\n",
       "      <td>4GB Long Aluminum Case Flash Drive Pink</td>\n",
       "    </tr>\n",
       "    <tr>\n",
       "      <th>25515</th>\n",
       "      <td>32083</td>\n",
       "      <td>32083</td>\n",
       "      <td>8GB Aluminum Case Flash Drive Pink</td>\n",
       "      <td>8GB Flash Drive</td>\n",
       "    </tr>\n",
       "    <tr>\n",
       "      <th>25516</th>\n",
       "      <td>19153</td>\n",
       "      <td>19153</td>\n",
       "      <td>(3 Pack Value Bundle) IVRTN540 TN540 Compatible, Remanufactured, TN540 Laser Toner, 3500 Page-Yield, Black</td>\n",
       "      <td>(3 Pack Value Bundle) IVRDR350 DR350 Compatible, Remanufactured, DR350 Laser Toner, 12000 Page-Yield, Black</td>\n",
       "    </tr>\n",
       "    <tr>\n",
       "      <th>25517</th>\n",
       "      <td>7666</td>\n",
       "      <td>7666</td>\n",
       "      <td>(3 Pack Value Bundle) IVRTN540 TN540 Compatible, Remanufactured, TN540 Laser Toner, 3500 Page-Yield, Black</td>\n",
       "      <td>(3 Pack Value Bundle) IVRE255X E255X Compatible, Remanufactured, CE255X (55X) Laser Toner, 12500 Yield, Black</td>\n",
       "    </tr>\n",
       "    <tr>\n",
       "      <th>25518</th>\n",
       "      <td>14559</td>\n",
       "      <td>14559</td>\n",
       "      <td>Infiniband 10GB CX4 High-Speed Multilane Ethernet Cable 4X SATA 7.0m</td>\n",
       "      <td>Infiniband 10GB CX4 High-Speed Multilane Ethernet Cable 4X SATA 1.0m</td>\n",
       "    </tr>\n",
       "    <tr>\n",
       "      <th>25519</th>\n",
       "      <td>33741</td>\n",
       "      <td>33741</td>\n",
       "      <td>Infiniband 10GB CX4 High-Speed Multilane Ethernet Cable 4X SATA 7.0m</td>\n",
       "      <td>Shopall 2 Pack RJ45 Cat5e Ethernet Patch Cable 14 Feet/4.2 Meters</td>\n",
       "    </tr>\n",
       "    <tr>\n",
       "      <th>25520</th>\n",
       "      <td>33741</td>\n",
       "      <td>33741</td>\n",
       "      <td>Infiniband 10GB CX4 High-Speed Multilane Ethernet Cable 4X SATA 7.0m</td>\n",
       "      <td>Shopall WHITE 20 FT CAT5E RJ45 PATCH ETHERNET NETWORK For PC, Mac, Laptop, PS2, PS3, XBox, and XBox 360 to hook up on high speed internet from DSL or Cable internet.</td>\n",
       "    </tr>\n",
       "    <tr>\n",
       "      <th>25521</th>\n",
       "      <td>2608</td>\n",
       "      <td>2608</td>\n",
       "      <td>Infiniband 10GB CX4 High-Speed Multilane Ethernet Cable 4X SATA 7.0m</td>\n",
       "      <td>MENCOM MDE45-4MP-FW09 ETHERNET ETHERPLUG FIELD WIREABLE PLUG MDE45-4MP-FW09</td>\n",
       "    </tr>\n",
       "    <tr>\n",
       "      <th>25522</th>\n",
       "      <td>2608</td>\n",
       "      <td>2608</td>\n",
       "      <td>Infiniband 10GB CX4 High-Speed Multilane Ethernet Cable 4X SATA 7.0m</td>\n",
       "      <td>Mencom Rj45-8Mmp-3 Ethernet Cable 3 Feet Rj45-8Mmp-3</td>\n",
       "    </tr>\n",
       "    <tr>\n",
       "      <th>25523</th>\n",
       "      <td>4618</td>\n",
       "      <td>4618</td>\n",
       "      <td>Infiniband 10GB CX4 High-Speed Multilane Ethernet Cable 4X SATA 7.0m</td>\n",
       "      <td>LCD Display Network LAN Cable Tester Wire Tracker Tracer Length Scanner</td>\n",
       "    </tr>\n",
       "    <tr>\n",
       "      <th>25524</th>\n",
       "      <td>4618</td>\n",
       "      <td>4618</td>\n",
       "      <td>Infiniband 10GB CX4 High-Speed Multilane Ethernet Cable 4X SATA 7.0m</td>\n",
       "      <td>NOYAFA NF-468 Wire Fault Locator RJ45 RJ11 Cable</td>\n",
       "    </tr>\n",
       "  </tbody>\n",
       "</table>\n",
       "<p>25525 rows × 4 columns</p>\n",
       "</div>"
      ],
      "text/plain": [
       "      brand_id duplicate_brand_id  \\\n",
       "0        33893              33893   \n",
       "1        33893              33893   \n",
       "2        33893              33893   \n",
       "3         8920               8920   \n",
       "4         8920               8920   \n",
       "5         8920               8920   \n",
       "6        23252              23252   \n",
       "7        23252              23252   \n",
       "8        23252              23252   \n",
       "9         3285               3285   \n",
       "10        3285               3285   \n",
       "11        3285               3285   \n",
       "12       37194              37194   \n",
       "13       44804              44804   \n",
       "14       13522              13522   \n",
       "15       17888              17888   \n",
       "16       42408              42408   \n",
       "17       42408              42408   \n",
       "18       42408              42408   \n",
       "19       42408              42408   \n",
       "20       13931              13931   \n",
       "21       13931              13931   \n",
       "22        3988               3988   \n",
       "23        3988               3988   \n",
       "24        3988               3988   \n",
       "25        3988               3988   \n",
       "26       30744              30744   \n",
       "27       30744              30744   \n",
       "28       38488              38488   \n",
       "29       38488              38488   \n",
       "...        ...                ...   \n",
       "25495    10418              10418   \n",
       "25496    10418              10418   \n",
       "25497    10418              10418   \n",
       "25498    10418              10418   \n",
       "25499    10418              10418   \n",
       "25500    10418              10418   \n",
       "25501    10418              10418   \n",
       "25502     7750               7750   \n",
       "25503    23039              23039   \n",
       "25504     1652               1652   \n",
       "25505    13004              13004   \n",
       "25506     1010               1010   \n",
       "25507    20472              20472   \n",
       "25508    26380              26380   \n",
       "25509    43903              43903   \n",
       "25510    33734              33734   \n",
       "25511    23764              23764   \n",
       "25512    11622              11622   \n",
       "25513    23445              23445   \n",
       "25514    19453              19453   \n",
       "25515    32083              32083   \n",
       "25516    19153              19153   \n",
       "25517     7666               7666   \n",
       "25518    14559              14559   \n",
       "25519    33741              33741   \n",
       "25520    33741              33741   \n",
       "25521     2608               2608   \n",
       "25522     2608               2608   \n",
       "25523     4618               4618   \n",
       "25524     4618               4618   \n",
       "\n",
       "                                                                                                main_product_title  \\\n",
       "0                                                                               USBLT2MW 2m Lightning to USB Cable   \n",
       "1                                                                               USBLT2MW 2m Lightning to USB Cable   \n",
       "2                                                                               USBLT2MW 2m Lightning to USB Cable   \n",
       "3                                                                               USBLT2MW 2m Lightning to USB Cable   \n",
       "4                                                                               USBLT2MW 2m Lightning to USB Cable   \n",
       "5                                                                               USBLT2MW 2m Lightning to USB Cable   \n",
       "6                                                                               USBLT2MW 2m Lightning to USB Cable   \n",
       "7                                                                               USBLT2MW 2m Lightning to USB Cable   \n",
       "8                                                                               USBLT2MW 2m Lightning to USB Cable   \n",
       "9                                                                               USBLT2MW 2m Lightning to USB Cable   \n",
       "10                                                                              USBLT2MW 2m Lightning to USB Cable   \n",
       "11                                                                              USBLT2MW 2m Lightning to USB Cable   \n",
       "12                                                      HP Compaq nc6400 Laptop Screen 14.1 LCD CCFL WXGA 1280x800   \n",
       "13                                                      HP Compaq nc6400 Laptop Screen 14.1 LCD CCFL WXGA 1280x800   \n",
       "14                                                      HP Compaq nc6400 Laptop Screen 14.1 LCD CCFL WXGA 1280x800   \n",
       "15                                                      HP Compaq nc6400 Laptop Screen 14.1 LCD CCFL WXGA 1280x800   \n",
       "16                                 1081-960-N Cmple Cat6 500MHz UTP Ethernet Lan Network Patch Cable 1.5 FT Yellow   \n",
       "17                                 1081-960-N Cmple Cat6 500MHz UTP Ethernet Lan Network Patch Cable 1.5 FT Yellow   \n",
       "18                                 1081-960-N Cmple Cat6 500MHz UTP Ethernet Lan Network Patch Cable 1.5 FT Yellow   \n",
       "19                                 1081-960-N Cmple Cat6 500MHz UTP Ethernet Lan Network Patch Cable 1.5 FT Yellow   \n",
       "20                                 1081-960-N Cmple Cat6 500MHz UTP Ethernet Lan Network Patch Cable 1.5 FT Yellow   \n",
       "21                                 1081-960-N Cmple Cat6 500MHz UTP Ethernet Lan Network Patch Cable 1.5 FT Yellow   \n",
       "22                                 1081-960-N Cmple Cat6 500MHz UTP Ethernet Lan Network Patch Cable 1.5 FT Yellow   \n",
       "23                                 1081-960-N Cmple Cat6 500MHz UTP Ethernet Lan Network Patch Cable 1.5 FT Yellow   \n",
       "24                                 1081-960-N Cmple Cat6 500MHz UTP Ethernet Lan Network Patch Cable 1.5 FT Yellow   \n",
       "25                                 1081-960-N Cmple Cat6 500MHz UTP Ethernet Lan Network Patch Cable 1.5 FT Yellow   \n",
       "26                                 1081-960-N Cmple Cat6 500MHz UTP Ethernet Lan Network Patch Cable 1.5 FT Yellow   \n",
       "27                                 1081-960-N Cmple Cat6 500MHz UTP Ethernet Lan Network Patch Cable 1.5 FT Yellow   \n",
       "28     \"Custom Printed with Living World Oblong Mouse Pads/ Standard Rectangle Gaming Mousepad in 9\"\"*7\"\" -513123\"   \n",
       "29     \"Custom Printed with Living World Oblong Mouse Pads/ Standard Rectangle Gaming Mousepad in 9\"\"*7\"\" -513123\"   \n",
       "...                                                                                                            ...   \n",
       "25495                                                                                          The Magic Wand 19mm   \n",
       "25496                                                                                          The Magic Wand 19mm   \n",
       "25497                                                                                          The Magic Wand 19mm   \n",
       "25498                                                                                          The Magic Wand 19mm   \n",
       "25499                                                                                          The Magic Wand 19mm   \n",
       "25500                                                                                          The Magic Wand 19mm   \n",
       "25501                                                                                          The Magic Wand 19mm   \n",
       "25502                                                                                          The Magic Wand 19mm   \n",
       "25503                                                         Original LCD With Ribbon Compatible For Lenove A790E   \n",
       "25504                                                         Original LCD With Ribbon Compatible For Lenove A790E   \n",
       "25505                                                         Original LCD With Ribbon Compatible For Lenove A790E   \n",
       "25506                                                         Original LCD With Ribbon Compatible For Lenove A790E   \n",
       "25507                                                   SONY VAIO VPCEB26GM/BI Laptop Screen 15.6 LCD CCFL WXGA HD   \n",
       "25508                                                   SONY VAIO VPCEB26GM/BI Laptop Screen 15.6 LCD CCFL WXGA HD   \n",
       "25509                                                   SONY VAIO VPCEB26GM/BI Laptop Screen 15.6 LCD CCFL WXGA HD   \n",
       "25510                                                   SONY VAIO VPCEB26GM/BI Laptop Screen 15.6 LCD CCFL WXGA HD   \n",
       "25511                                              HP 572413-001 Laptop Screen 10.1 LED BOTTOM LEFT WSVGA 1024x600   \n",
       "25512                                              HP 572413-001 Laptop Screen 10.1 LED BOTTOM LEFT WSVGA 1024x600   \n",
       "25513                                                                           8GB Aluminum Case Flash Drive Pink   \n",
       "25514                                                                           8GB Aluminum Case Flash Drive Pink   \n",
       "25515                                                                           8GB Aluminum Case Flash Drive Pink   \n",
       "25516   (3 Pack Value Bundle) IVRTN540 TN540 Compatible, Remanufactured, TN540 Laser Toner, 3500 Page-Yield, Black   \n",
       "25517   (3 Pack Value Bundle) IVRTN540 TN540 Compatible, Remanufactured, TN540 Laser Toner, 3500 Page-Yield, Black   \n",
       "25518                                         Infiniband 10GB CX4 High-Speed Multilane Ethernet Cable 4X SATA 7.0m   \n",
       "25519                                         Infiniband 10GB CX4 High-Speed Multilane Ethernet Cable 4X SATA 7.0m   \n",
       "25520                                         Infiniband 10GB CX4 High-Speed Multilane Ethernet Cable 4X SATA 7.0m   \n",
       "25521                                         Infiniband 10GB CX4 High-Speed Multilane Ethernet Cable 4X SATA 7.0m   \n",
       "25522                                         Infiniband 10GB CX4 High-Speed Multilane Ethernet Cable 4X SATA 7.0m   \n",
       "25523                                         Infiniband 10GB CX4 High-Speed Multilane Ethernet Cable 4X SATA 7.0m   \n",
       "25524                                         Infiniband 10GB CX4 High-Speed Multilane Ethernet Cable 4X SATA 7.0m   \n",
       "\n",
       "                                                                                                                                                           dup_product_title  \n",
       "0                                                                                                                                    \"USBLT15CMW 6\"\" Lightning to USB Cable\"  \n",
       "1                                                                                                                                    \"USBLT15CMW 6\"\" Lightning to USB Cable\"  \n",
       "2                                                                                                                                    \"USBLT15CMW 6\"\" Lightning to USB Cable\"  \n",
       "3                                                                                                                                                     Lightning to USB Cable  \n",
       "4                                                                                                                                                     Lightning to USB Cable  \n",
       "5                                                                                                                                                     Lightning to USB Cable  \n",
       "6                                                                                                                                                     lightning to usb cable  \n",
       "7                                                                                                                                                     lightning to usb cable  \n",
       "8                                                                                                                                                     lightning to usb cable  \n",
       "9                                                                                                                                                     Lightning to USB Cable  \n",
       "10                                                                                                                                                    Lightning to USB Cable  \n",
       "11                                                                                                                                                    Lightning to USB Cable  \n",
       "12                                                                                                              HP COMPAQ 380724-001 Laptop Screen 17 LCD CCFL WXGA 1440x900  \n",
       "13                                                                                                                 HP Compaq 6531s Laptop Screen 14.1 LCD CCFL WXGA 1280x800  \n",
       "14                                                                                                                 HP Compaq 6730s Laptop Screen 15.4 LCD CCFL WXGA 1280x800  \n",
       "15                                                                                                   Compaq Presario CQ61-216EL Laptop Screen 15.6 LCD CCFL WXGA HD 1366x768  \n",
       "16                                                                                            1081-965-N Cmple Cat6 500MHz UTP Ethernet Lan Network Patch Cable 15 FT Yellow  \n",
       "17                                                                                            1081-965-N Cmple Cat6 500MHz UTP Ethernet Lan Network Patch Cable 15 FT Yellow  \n",
       "18                                                                                            1081-965-N Cmple Cat6 500MHz UTP Ethernet Lan Network Patch Cable 15 FT Yellow  \n",
       "19                                                                                            1081-965-N Cmple Cat6 500MHz UTP Ethernet Lan Network Patch Cable 15 FT Yellow  \n",
       "20                                                                                             1081-962-N Cmple Cat6 500MHz UTP Ethernet Lan Network Patch Cable 5 FT Yellow  \n",
       "21                                                                                             1081-962-N Cmple Cat6 500MHz UTP Ethernet Lan Network Patch Cable 5 FT Yellow  \n",
       "22                                                                                            1081-968-N Cmple Cat6 500MHz UTP Ethernet Lan Network Patch Cable 75 FT Yellow  \n",
       "23                                                                                            1081-968-N Cmple Cat6 500MHz UTP Ethernet Lan Network Patch Cable 75 FT Yellow  \n",
       "24                                                                                            1081-968-N Cmple Cat6 500MHz UTP Ethernet Lan Network Patch Cable 75 FT Yellow  \n",
       "25                                                                                            1081-968-N Cmple Cat6 500MHz UTP Ethernet Lan Network Patch Cable 75 FT Yellow  \n",
       "26                                                                                             1081-963-N Cmple Cat6 500MHz UTP Ethernet Lan Network Patch Cable 7 FT Yellow  \n",
       "27                                                                                             1081-963-N Cmple Cat6 500MHz UTP Ethernet Lan Network Patch Cable 7 FT Yellow  \n",
       "28                                                               \"Custom Printed with Living World Oblong Mouse Pads/ Standard Rectangle Gaming Mousepad in 9\"\"*7\"\" -513112\"  \n",
       "29                                                               \"Custom Printed with Living World Oblong Mouse Pads/ Standard Rectangle Gaming Mousepad in 9\"\"*7\"\" -513122\"  \n",
       "...                                                                                                                                                                      ...  \n",
       "25495                                                                                                                                             DPS020 Spy Pen 4GB SD card  \n",
       "25496                                                                                                                                           Digital Web Camera-CBD-PC500  \n",
       "25497                                                                                             Cobra Digital 3D 220 3.1 Megapixel Ultimate 3D Webcam With Avatar Software  \n",
       "25498                                                                                                                           Cobra Digital DPS-2300 WAND Document Scanner  \n",
       "25499                                                                                                                                  The Road Warrior Digital Wand Scanner  \n",
       "25500                                                                                                          Tri Image Scanner with Display Tri Image Scanner with Display  \n",
       "25501                                                                                                                           Cobra Digital DPS-2300 WAND Document Scanner  \n",
       "25502                                                                          Pandigital PANSCN08 Handheld Wand Scanner w/2GB microSD Card Purple - Scan Documents Photos &  \n",
       "25503                                                                                                                    Original LCD With Ribbon Compatible For Lenove A789  \n",
       "25504                                                                                                                     Original LCD With Ribbon Compatible For Lenove A65  \n",
       "25505                                                                                                                     Original LCD With Ribbon Compatible For Lenove P70  \n",
       "25506                                                                                                                    Original LCD With Ribbon Compatible For Lenove A500  \n",
       "25507                                                                                                             SONY VAIO VPCEB1SFX/BI Laptop Screen 15.6 LCD CCFL WXGA HD  \n",
       "25508                                                                                                             SONY VAIO VPCEB2MGX/BI Laptop Screen 15.6 LCD CCFL WXGA HD  \n",
       "25509                                                                                                             SONY VAIO VPCEB26GX/BI Laptop Screen 15.6 LCD CCFL WXGA HD  \n",
       "25510                                                                                                                SONY VAIO VPCEB23FX Laptop Screen 15.6 LCD CCFL WXGA HD  \n",
       "25511                                                                                                        HP 579612-001 Laptop Screen 10.1 LED BOTTOM LEFT WSVGA 1024x600  \n",
       "25512                                                                                                   HP MINI 210-1190NR Laptop Screen 10.1 LED BOTTOM LEFT WSVGA 1024x600  \n",
       "25513                                                                                                                                     2GB Aluminum Case Flash Drive Pink  \n",
       "25514                                                                                                                                4GB Long Aluminum Case Flash Drive Pink  \n",
       "25515                                                                                                                                                        8GB Flash Drive  \n",
       "25516                                                            (3 Pack Value Bundle) IVRDR350 DR350 Compatible, Remanufactured, DR350 Laser Toner, 12000 Page-Yield, Black  \n",
       "25517                                                          (3 Pack Value Bundle) IVRE255X E255X Compatible, Remanufactured, CE255X (55X) Laser Toner, 12500 Yield, Black  \n",
       "25518                                                                                                   Infiniband 10GB CX4 High-Speed Multilane Ethernet Cable 4X SATA 1.0m  \n",
       "25519                                                                                                      Shopall 2 Pack RJ45 Cat5e Ethernet Patch Cable 14 Feet/4.2 Meters  \n",
       "25520  Shopall WHITE 20 FT CAT5E RJ45 PATCH ETHERNET NETWORK For PC, Mac, Laptop, PS2, PS3, XBox, and XBox 360 to hook up on high speed internet from DSL or Cable internet.  \n",
       "25521                                                                                            MENCOM MDE45-4MP-FW09 ETHERNET ETHERPLUG FIELD WIREABLE PLUG MDE45-4MP-FW09  \n",
       "25522                                                                                                                   Mencom Rj45-8Mmp-3 Ethernet Cable 3 Feet Rj45-8Mmp-3  \n",
       "25523                                                                                                LCD Display Network LAN Cable Tester Wire Tracker Tracer Length Scanner  \n",
       "25524                                                                                                                       NOYAFA NF-468 Wire Fault Locator RJ45 RJ11 Cable  \n",
       "\n",
       "[25525 rows x 4 columns]"
      ]
     },
     "execution_count": 180,
     "metadata": {},
     "output_type": "execute_result"
    }
   ],
   "source": [
    "dup_product_title"
   ]
  }
 ],
 "metadata": {
  "kernelspec": {
   "display_name": "Python 3",
   "language": "python",
   "name": "python3"
  },
  "language_info": {
   "codemirror_mode": {
    "name": "ipython",
    "version": 3
   },
   "file_extension": ".py",
   "mimetype": "text/x-python",
   "name": "python",
   "nbconvert_exporter": "python",
   "pygments_lexer": "ipython3",
   "version": "3.4.4"
  }
 },
 "nbformat": 4,
 "nbformat_minor": 0
}

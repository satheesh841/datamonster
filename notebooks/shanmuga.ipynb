{
 "cells": [
  {
   "cell_type": "code",
   "execution_count": 1,
   "metadata": {
    "collapsed": false
   },
   "outputs": [],
   "source": [
    "from util import print_log, validate_model, sparse_validate_model"
   ]
  },
  {
   "cell_type": "code",
   "execution_count": 2,
   "metadata": {
    "collapsed": true
   },
   "outputs": [],
   "source": [
    "import pandas as pd\n",
    "import numpy as np\n",
    "import matplotlib\n",
    "import matplotlib.pyplot as plt\n",
    "%matplotlib inline\n",
    "plt.rcParams['figure.figsize'] = (15,30)"
   ]
  },
  {
   "cell_type": "markdown",
   "metadata": {},
   "source": [
    "## Read raw data as lines"
   ]
  },
  {
   "cell_type": "code",
   "execution_count": 3,
   "metadata": {
    "collapsed": false
   },
   "outputs": [],
   "source": [
    "raw_train = pd.DataFrame([line for line in open('../data/classification_train.tsv',encoding='utf8')],columns=['line'])"
   ]
  },
  {
   "cell_type": "code",
   "execution_count": 4,
   "metadata": {
    "collapsed": false
   },
   "outputs": [],
   "source": [
    "raw_test = pd.DataFrame([line for line in open('../data/classification_blind_set_corrected.tsv',encoding='utf8')],columns=['line'])"
   ]
  },
  {
   "cell_type": "markdown",
   "metadata": {},
   "source": [
    "## Extract category and brand from raw data"
   ]
  },
  {
   "cell_type": "code",
   "execution_count": 5,
   "metadata": {
    "collapsed": false
   },
   "outputs": [],
   "source": [
    "train = raw_train.line.str.extract(r'(.*)\\t(\\d+)\\t(\\d+)$',expand=True)\n",
    "train.columns = ['product_title', 'brand_id', 'category_id']\n",
    "train = train.dropna()\n",
    "train.loc[:, ['brand_id', 'category_id']] = train.loc[:, ['brand_id', 'category_id']].astype(int)"
   ]
  },
  {
   "cell_type": "code",
   "execution_count": 6,
   "metadata": {
    "collapsed": true
   },
   "outputs": [],
   "source": [
    "test = raw_test.line.str.extract(r'(.*)\\t(-?\\d+)$',expand=True)\n",
    "test.columns = ['product_title', 'category_id']\n",
    "test = test.dropna()\n",
    "test.loc[:, ['category_id']] = test.loc[:, ['category_id']].astype(int)"
   ]
  },
  {
   "cell_type": "code",
   "execution_count": 7,
   "metadata": {
    "collapsed": false
   },
   "outputs": [],
   "source": [
    "class Tokenizer2(object):\n",
    "    def __init__(self):\n",
    "        self.tokenizer = word_tokenize\n",
    "        self.stop_words = set(\n",
    "        ['is', 'of', 'it', 'at', 'on', 'and', 'as', 'the', 'to', 'are', 'this', 'that', 'be', 'in',\n",
    "          'an', 'or','any', 'all', 'am','you','we', '__NUMBER__', '__SERIAL__'])\n",
    "\n",
    "    def __call__(self, text):\n",
    "        text = text.lower()\n",
    "        # replace special characters\n",
    "        text = re.sub(r'[^a-z0-9\\s/\\\\_\\t,\\-]', '', text,flags=re.IGNORECASE)\n",
    "        text = re.sub(r'[/\\\\_\\t,-]', ' ', text,flags=re.IGNORECASE)\n",
    "        # replace numbers to reduce number of features\n",
    "        text = re.sub(r'\\b[0-9]+\\b', ' __NUMBER__ ', text) \n",
    "        # replace possible product/serial numbers\n",
    "        text = re.sub(r'\\b\\w*\\d+\\w*\\d?\\b', ' __SERIAL__ ', text)\n",
    "                \n",
    "        tokens = [w for w in self.tokenizer(text) if (w not in self.stop_words and len(w)>1)]\n",
    "        # only return first and last two tokens\n",
    "        \n",
    "        tokens = tokens if len(tokens) <5 else tokens[:3] + tokens[-2:]\n",
    "        \n",
    "        token_dict = {}\n",
    "        \n",
    "        for i,token in enumerate(tokens):\n",
    "            token_dict['word_'+str(i)] = token\n",
    "        \n",
    "        return token_dict"
   ]
  },
  {
   "cell_type": "code",
   "execution_count": 8,
   "metadata": {
    "collapsed": false
   },
   "outputs": [
    {
     "name": "stdout",
     "output_type": "stream",
     "text": [
      "1000000 ../data/classification_train.tsv\r\n"
     ]
    }
   ],
   "source": [
    "! wc -l ../data/classification_train.tsv"
   ]
  },
  {
   "cell_type": "code",
   "execution_count": 9,
   "metadata": {
    "collapsed": false
   },
   "outputs": [
    {
     "name": "stdout",
     "output_type": "stream",
     "text": [
      "wc: ../data/classification_blind_set.tsv: No such file or directory\r\n"
     ]
    }
   ],
   "source": [
    "! wc -l ../data/classification_blind_set.tsv"
   ]
  },
  {
   "cell_type": "code",
   "execution_count": 10,
   "metadata": {
    "collapsed": false
   },
   "outputs": [
    {
     "data": {
      "text/plain": [
       "((999996, 3), (619240, 2))"
      ]
     },
     "execution_count": 10,
     "metadata": {},
     "output_type": "execute_result"
    }
   ],
   "source": [
    "train.shape, test.shape"
   ]
  },
  {
   "cell_type": "markdown",
   "metadata": {},
   "source": [
    "# missed rows"
   ]
  },
  {
   "cell_type": "code",
   "execution_count": 11,
   "metadata": {
    "collapsed": false
   },
   "outputs": [
    {
     "data": {
      "text/plain": [
       "(4, 3)"
      ]
     },
     "execution_count": 11,
     "metadata": {},
     "output_type": "execute_result"
    }
   ],
   "source": [
    "1000000 - train.shape[0], 619243 -  test.shape[0]"
   ]
  },
  {
   "cell_type": "code",
   "execution_count": 12,
   "metadata": {
    "collapsed": false
   },
   "outputs": [],
   "source": [
    "pd.options.display.max_colwidth = 900"
   ]
  },
  {
   "cell_type": "code",
   "execution_count": 13,
   "metadata": {
    "collapsed": false,
    "scrolled": false
   },
   "outputs": [
    {
     "name": "stderr",
     "output_type": "stream",
     "text": [
      "/opt/anaconda/lib/python3.4/site-packages/ipykernel/__main__.py:1: UserWarning: This pattern has match groups. To actually get the groups, use str.extract.\n",
      "  if __name__ == '__main__':\n"
     ]
    },
    {
     "data": {
      "text/html": [
       "<div>\n",
       "<table border=\"1\" class=\"dataframe\">\n",
       "  <thead>\n",
       "    <tr style=\"text-align: right;\">\n",
       "      <th></th>\n",
       "      <th>line</th>\n",
       "    </tr>\n",
       "  </thead>\n",
       "  <tbody>\n",
       "    <tr>\n",
       "      <th>218278</th>\n",
       "      <td>title\\tbid\\tcid\\n</td>\n",
       "    </tr>\n",
       "    <tr>\n",
       "      <th>246806</th>\n",
       "      <td>\" 2 Pack Panasonic Compatible KX-FA83 KXFA83 Laser Toner Cartridge, 2,500 Pa\\tUnknown\\tcomputers &amp; accessories &gt; cables &amp; accessories &gt; printer ink &amp; toner &gt; laser printer toner\\n</td>\n",
       "    </tr>\n",
       "    <tr>\n",
       "      <th>458263</th>\n",
       "      <td>\"Brocade VDX 6720 - switch - 16 ports - rack-mountable\\tBrocade Communication Systems\\tcomputers &amp; accessories &gt; networking products &gt; switches\\n</td>\n",
       "    </tr>\n",
       "    <tr>\n",
       "      <th>575503</th>\n",
       "      <td>\"This hub is built strong and ideal for industrial environments. With the StarTech.com ST4200USBM 4-port hub you can wall-mount or install onto a DIN rail for convenient access to the ports. This four port industrial hub can be bus powered or self powered with a three wire terminal block connector 7-24V . Plug in your most demanding next-generation peripherals and still enjoy data transfer speed\\tStarTech\\tcomputers &amp; accessories &gt; networking products &gt; hubs\\n</td>\n",
       "    </tr>\n",
       "  </tbody>\n",
       "</table>\n",
       "</div>"
      ],
      "text/plain": [
       "                                                                                                                                                                                                                                                                                                                                                                                                                                                                                    line\n",
       "218278                                                                                                                                                                                                                                                                                                                                                                                                                                                                 title\\tbid\\tcid\\n\n",
       "246806                                                                                                                                                                                                                                                                                               \" 2 Pack Panasonic Compatible KX-FA83 KXFA83 Laser Toner Cartridge, 2,500 Pa\\tUnknown\\tcomputers & accessories > cables & accessories > printer ink & toner > laser printer toner\\n\n",
       "458263                                                                                                                                                                                                                                                                                                                                 \"Brocade VDX 6720 - switch - 16 ports - rack-mountable\\tBrocade Communication Systems\\tcomputers & accessories > networking products > switches\\n\n",
       "575503  \"This hub is built strong and ideal for industrial environments. With the StarTech.com ST4200USBM 4-port hub you can wall-mount or install onto a DIN rail for convenient access to the ports. This four port industrial hub can be bus powered or self powered with a three wire terminal block connector 7-24V . Plug in your most demanding next-generation peripherals and still enjoy data transfer speed\\tStarTech\\tcomputers & accessories > networking products > hubs\\n"
      ]
     },
     "execution_count": 13,
     "metadata": {},
     "output_type": "execute_result"
    }
   ],
   "source": [
    "raw_train[~raw_train.line.str.contains(r'(.*)\\t(\\d+)\\t(\\d+)$')]"
   ]
  },
  {
   "cell_type": "markdown",
   "metadata": {},
   "source": [
    "## exploring category and brand cardinalities"
   ]
  },
  {
   "cell_type": "code",
   "execution_count": 14,
   "metadata": {
    "collapsed": true
   },
   "outputs": [],
   "source": [
    "all_data = pd.concat([train, test])"
   ]
  },
  {
   "cell_type": "code",
   "execution_count": 15,
   "metadata": {
    "collapsed": false
   },
   "outputs": [
    {
     "data": {
      "text/plain": [
       "(705,)"
      ]
     },
     "execution_count": 15,
     "metadata": {},
     "output_type": "execute_result"
    }
   ],
   "source": [
    "all_data.category_id.value_counts().shape"
   ]
  },
  {
   "cell_type": "code",
   "execution_count": null,
   "metadata": {
    "collapsed": false
   },
   "outputs": [],
   "source": [
    "vc = train.brand_id.value_counts()\n",
    "vc[vc<20].shape"
   ]
  },
  {
   "cell_type": "markdown",
   "metadata": {},
   "source": [
    "# Model Learning"
   ]
  },
  {
   "cell_type": "code",
   "execution_count": 12,
   "metadata": {
    "collapsed": false
   },
   "outputs": [],
   "source": [
    "import re\n",
    "from sklearn.feature_extraction.text import TfidfVectorizer,CountVectorizer\n",
    "from nltk import word_tokenize"
   ]
  },
  {
   "cell_type": "code",
   "execution_count": 13,
   "metadata": {
    "collapsed": true
   },
   "outputs": [],
   "source": [
    "class Tokenizer(object):\n",
    "    def __init__(self):\n",
    "        self.tokenizer = word_tokenize\n",
    "        self.stop_words = set(\n",
    "        ['is', 'of', 'it', 'at', 'on', 'and', 'as', 'the', 'to', 'are', 'this', 'that', 'be', 'in',\n",
    "          'an', 'or','any', 'all', 'am','you','we', '__NUMBER__', '__SERIAL__'])\n",
    "\n",
    "    def __call__(self, text):\n",
    "        text = text.lower()\n",
    "        # replace special characters\n",
    "        text = re.sub(r'[^a-z0-9\\s/\\\\_\\t,\\-]', '', text,flags=re.IGNORECASE)\n",
    "        text = re.sub(r'[/\\\\_\\t,-]', ' ', text,flags=re.IGNORECASE)\n",
    "        # replace numbers to reduce number of features\n",
    "        text = re.sub(r'\\b[0-9]+\\b', ' __NUMBER__ ', text) \n",
    "        # replace possible product/serial numbers\n",
    "        text = re.sub(r'\\b\\w*\\d+\\w*\\d?\\b', ' __SERIAL__ ', text)\n",
    "                \n",
    "        tokens = [w for w in self.tokenizer(text) if (w not in self.stop_words and len(w)>1)]\n",
    "        # only return first and last two tokens\n",
    "        return tokens if len(tokens) <5 else tokens[:2] + tokens[-2:]"
   ]
  },
  {
   "cell_type": "code",
   "execution_count": null,
   "metadata": {
    "collapsed": false
   },
   "outputs": [],
   "source": [
    "vectorizer = TfidfVectorizer(tokenizer=Tokenizer())\n",
    "print_log(\"starting vectorizer fit_transform\")\n",
    "sparse_title = vectorizer.fit_transform(train['product_title'])\n",
    "print_log(\"completed vectorizer fit_transform\")"
   ]
  },
  {
   "cell_type": "code",
   "execution_count": null,
   "metadata": {
    "collapsed": false
   },
   "outputs": [],
   "source": [
    "print(\"distinct words found\", len(vectorizer.vocabulary_))"
   ]
  },
  {
   "cell_type": "markdown",
   "metadata": {},
   "source": [
    "To build sparse matrix from vectorized tokens and category_id  \n",
    "learn model on top of this"
   ]
  },
  {
   "cell_type": "code",
   "execution_count": null,
   "metadata": {
    "collapsed": true
   },
   "outputs": [],
   "source": [
    "from sklearn.feature_extraction import DictVectorizer"
   ]
  },
  {
   "cell_type": "code",
   "execution_count": null,
   "metadata": {
    "collapsed": false
   },
   "outputs": [],
   "source": [
    "category_dict_vectorizer = DictVectorizer()\n",
    "print_log(\"starting sparse category\")\n",
    "sparse_category = category_dict_vectorizer.fit_transform(train.category_id.astype(str).apply(lambda x: {x: 1}))\n",
    "print_log(\"completed sparse category\")"
   ]
  },
  {
   "cell_type": "code",
   "execution_count": null,
   "metadata": {
    "collapsed": false
   },
   "outputs": [],
   "source": [
    "sparse_category.shape, (train.category_id.shape, train.category_id.nunique())"
   ]
  },
  {
   "cell_type": "code",
   "execution_count": null,
   "metadata": {
    "collapsed": true
   },
   "outputs": [],
   "source": [
    "from scipy.sparse import hstack"
   ]
  },
  {
   "cell_type": "code",
   "execution_count": null,
   "metadata": {
    "collapsed": true
   },
   "outputs": [],
   "source": [
    "joined_data = hstack([sparse_category, sparse_title], format='csr')"
   ]
  },
  {
   "cell_type": "code",
   "execution_count": null,
   "metadata": {
    "collapsed": false
   },
   "outputs": [],
   "source": [
    "joined_data.shape"
   ]
  },
  {
   "cell_type": "markdown",
   "metadata": {},
   "source": [
    "Saving file"
   ]
  },
  {
   "cell_type": "code",
   "execution_count": null,
   "metadata": {
    "collapsed": true
   },
   "outputs": [],
   "source": [
    "from scipy.io import mmwrite, mmread\n",
    "mmwrite('joined_data.mtx', joined_data)\n",
    "mmwrite('sparse_category.mtx', sparse_category)\n",
    "mmwrite('sparse_title.mtx', sparse_title)"
   ]
  },
  {
   "cell_type": "code",
   "execution_count": null,
   "metadata": {
    "collapsed": true
   },
   "outputs": [],
   "source": [
    "# joined_data = mmread('joined_data.mtx')\n",
    "# sparse_category = mmread('sparse_category')\n",
    "# sparse_title = mmread('sparse_title')"
   ]
  },
  {
   "cell_type": "markdown",
   "metadata": {},
   "source": [
    "Model validation\n",
    "--"
   ]
  },
  {
   "cell_type": "code",
   "execution_count": null,
   "metadata": {
    "collapsed": false
   },
   "outputs": [],
   "source": [
    "from sklearn.linear_model import LogisticRegression, SGDClassifier\n",
    "from sklearn.cross_validation import ShuffleSplit\n",
    "from sklearn.naive_bayes import MultinomialNB"
   ]
  },
  {
   "cell_type": "code",
   "execution_count": null,
   "metadata": {
    "collapsed": true
   },
   "outputs": [],
   "source": [
    "import importlib\n",
    "import util\n",
    "\n",
    "importlib.reload(util)\n",
    "from util import print_log, validate_model, sparse_validate_model"
   ]
  },
  {
   "cell_type": "code",
   "execution_count": null,
   "metadata": {
    "collapsed": false
   },
   "outputs": [],
   "source": [
    "# Validate logistic regression \n",
    "print_log(\"starting validation\")\n",
    "# clf = LogisticRegression()\n",
    "# clf = SGDClassifier(loss='log')\n",
    "clf = MultinomialNB()\n",
    "util.sparse_validate_model(X=joined_data, Y=pd.np.ravel(train.brand_id.astype(int)), classifier=clf, \n",
    "               split_generator=lambda Y: ShuffleSplit(n=Y.shape[0], n_iter=3, test_size=0.4))\n",
    "print_log(\"completed validation\")"
   ]
  },
  {
   "cell_type": "code",
   "execution_count": null,
   "metadata": {
    "collapsed": true
   },
   "outputs": [],
   "source": []
  },
  {
   "cell_type": "markdown",
   "metadata": {},
   "source": [
    "Apply Model\n",
    "--"
   ]
  },
  {
   "cell_type": "markdown",
   "metadata": {},
   "source": [
    "Data preparation"
   ]
  },
  {
   "cell_type": "code",
   "execution_count": null,
   "metadata": {
    "collapsed": true
   },
   "outputs": [],
   "source": [
    "test_title_sparse = sparse_title = vectorizer.transform(test['product_title'])\n",
    "test_category_sparse = category_dict_vectorizer.transform(test.category_id.astype(str).apply(lambda x: {x: 1}))\n",
    "joined_test_data = hstack([sparse_category, sparse_title], format='csr')"
   ]
  },
  {
   "cell_type": "code",
   "execution_count": null,
   "metadata": {
    "collapsed": true
   },
   "outputs": [],
   "source": [
    "mmwrite('joined_test_data.mtx', joined_test_data)\n",
    "mmwrite('test_title_sparse', test_title_sparse)\n",
    "mmwrite('test_category_sparse', test_category_sparse)"
   ]
  },
  {
   "cell_type": "code",
   "execution_count": null,
   "metadata": {
    "collapsed": true
   },
   "outputs": [],
   "source": [
    "joined_test_data = mmread('joined_test_data.mtx')\n",
    "test_title_sparse = mmread('test_title_sparse.mtx')\n",
    "test_category_sparse = mmread('test_category_sparse.mtx')"
   ]
  },
  {
   "cell_type": "markdown",
   "metadata": {},
   "source": [
    "predict"
   ]
  },
  {
   "cell_type": "code",
   "execution_count": null,
   "metadata": {
    "collapsed": true
   },
   "outputs": [],
   "source": [
    "test_pred = clf.predict(joined_test_data)"
   ]
  },
  {
   "cell_type": "markdown",
   "metadata": {},
   "source": [
    "# category wise model strategy"
   ]
  },
  {
   "cell_type": "code",
   "execution_count": 19,
   "metadata": {
    "collapsed": true
   },
   "outputs": [],
   "source": [
    "import re\n",
    "from sklearn.feature_extraction.text import TfidfVectorizer\n",
    "from sklearn.pipeline import Pipeline\n",
    "from sklearn.naive_bayes import MultinomialNB\n",
    "from nltk import word_tokenize\n",
    "from sklearn.externals import joblib\n",
    "\n",
    "class Tokenizer(object):\n",
    "    def __init__(self):\n",
    "        self.tokenizer = word_tokenize\n",
    "        self.stop_words = set(\n",
    "        ['is', 'of', 'it', 'at', 'on', 'and', 'as', 'the', 'to', 'are', 'this', 'that', 'be', 'in',\n",
    "          'an', 'or','any', 'all', 'am','you','we', '__NUMBER__', '__SERIAL__'])\n",
    "\n",
    "    def __call__(self, text):\n",
    "        text = text.lower()\n",
    "        # replace special characters\n",
    "        text = re.sub(r'[^a-z0-9\\s/\\\\_\\t,\\-]', '', text,flags=re.IGNORECASE)\n",
    "        text = re.sub(r'[/\\\\_\\t,-]', ' ', text,flags=re.IGNORECASE)\n",
    "        # replace numbers to reduce number of features\n",
    "        text = re.sub(r'\\b[0-9]+\\b', ' __NUMBER__ ', text) \n",
    "        # replace possible product/serial numbers\n",
    "        text = re.sub(r'\\b\\w*\\d+\\w*\\d?\\b', ' __SERIAL__ ', text)\n",
    "                \n",
    "        tokens = [w for w in self.tokenizer(text) if (w not in self.stop_words and len(w)>1)]\n",
    "        # only return first and last two tokens\n",
    "        return tokens if len(tokens) <5 else tokens[:3] + tokens[-2:]\n",
    "    \n",
    "def learn_model_for_category(train_df):\n",
    "    category = train.category_id.iloc[0]\n",
    "    learner = MultinomialNB()\n",
    "    vectorizer = TfidfVectorizer(tokenizer=Tokenizer())\n",
    "    estimators = [('transform', vectorizer), ('learner', learner)]\n",
    "    pipe_line = Pipeline(estimators)\n",
    "    pipe_line.fit(train_df['product_title'].values,train_df['brand_id'].astype(int))\n",
    "    joblib.dump(pipe_line,'category_'+str(category)+'_model.clf')\n",
    "    return True"
   ]
  },
  {
   "cell_type": "code",
   "execution_count": 20,
   "metadata": {
    "collapsed": false
   },
   "outputs": [],
   "source": [
    "category_size = train.category_id.value_counts()\n",
    "major_cats = category_size[category_size>100].shape"
   ]
  },
  {
   "cell_type": "code",
   "execution_count": 21,
   "metadata": {
    "collapsed": false
   },
   "outputs": [
    {
     "name": "stdout",
     "output_type": "stream",
     "text": [
      "CPU times: user 4min 24s, sys: 7.13 s, total: 4min 31s\n",
      "Wall time: 5min 22s\n"
     ]
    }
   ],
   "source": [
    "%time cat_models = train.groupby('category_id').apply(learn_model_for_category)"
   ]
  },
  {
   "cell_type": "code",
   "execution_count": null,
   "metadata": {
    "collapsed": true
   },
   "outputs": [],
   "source": []
  }
 ],
 "metadata": {
  "kernelspec": {
   "display_name": "Python 3",
   "language": "python",
   "name": "python3"
  },
  "language_info": {
   "codemirror_mode": {
    "name": "ipython",
    "version": 3
   },
   "file_extension": ".py",
   "mimetype": "text/x-python",
   "name": "python",
   "nbconvert_exporter": "python",
   "pygments_lexer": "ipython3",
   "version": "3.4.4"
  }
 },
 "nbformat": 4,
 "nbformat_minor": 0
}

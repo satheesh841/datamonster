{
 "cells": [
  {
   "cell_type": "code",
   "execution_count": 24,
   "metadata": {
    "collapsed": true
   },
   "outputs": [],
   "source": [
    "import pandas as pd\n",
    "import numpy as np\n",
    "import matplotlib\n",
    "import matplotlib.pyplot as plt\n",
    "%matplotlib inline\n",
    "plt.rcParams['figure.figsize'] = (15,30)"
   ]
  },
  {
   "cell_type": "code",
   "execution_count": 25,
   "metadata": {
    "collapsed": false
   },
   "outputs": [
    {
     "name": "stdout",
     "output_type": "stream",
     "text": [
      "120GB Hard Disk Drive with 3 Years Warranty for Lenovo Essential B570 Laptop Notebook HDD Computer - Certified 3 Years Warranty from Seifelden\t3950\t8\r\n",
      "\"TOSHIBA SATELLITE L305-S5919 LAPTOP LCD SCREEN 15.4\"\" WXGA CCFL SINGLE SUBSTITUTE REPLACEMENT LCD SCREEN ONLY. NOT A LAPTOP\"\t35099\t324\r\n",
      "Hobby-Ace Pixhawk PX4 RGB External LED Indicator USB Module for Pixhawk Flight Controller\t21822\t510\r\n",
      "Pelicans mousepad\t44629\t260\r\n",
      "P4648-60029 Hewlett-Packard Tc2100 System Board\t42835\t68\r\n",
      "Ectaco EI900 SD Card English - Italian\t249\t6\r\n",
      "Zippered Pocket Black School Laptop Tablet Dual Straps Deluxe Backpack\t4342\t172\r\n",
      "GP Mtr, 3 Ph, ODP, 3 HP, 1800 rpm, 182TC\t42618\t616\r\n",
      "DIGI CM 16 PORT RJ-45 CONSOLE SERVER - Model#: 70001910\t37012\t248\r\n",
      "Lenovo Ibm Thinkpad R52-1859 Laptop AC adapter, power adapter Replacement\t2024\t313\r\n"
     ]
    }
   ],
   "source": [
    "! head -10 ../data/classification_train.tsv"
   ]
  },
  {
   "cell_type": "code",
   "execution_count": 26,
   "metadata": {
    "collapsed": false
   },
   "outputs": [
    {
     "name": "stdout",
     "output_type": "stream",
     "text": [
      "HDE Slim Lightweight Auto Sleep Wake Smart Cover Case Stand for iPad Air 5ht Gen Sky Blue \t367\r\n",
      "\"V7 Black Toner Cartridge For Canon Image Class D1120, D1150, D1170, D1180 120 2617B001aa 5K Yld - Laser - 5000 Page \"\"Product Category: Print Supplies/Ink/Toner Cartridges\"\"\"\t625\r\n",
      "\"Decalrus - Matte Protective Decal Skin skins Sticker for Samsung Galaxy Tab 3 with 10.1\"\" screen IMPORTANT: Must view \"\"IDENTIFY\"\" image for correct model case cover MATGalaxyTAB3_10-304\"\t250\r\n",
      "Vantec Thermal Technologies 89661 Vantec Accessory Nst-d300s3 2.5inch/3.5inch Sata I/ii To Usb3.0 Nexstar Hard Drive Dock Retail\t309\r\n",
      "Fintie Samsung Galaxy Tab Pro 10.1 Folio Case - Slim Fit Leather Cover for TabPro 10.1-inch Tablet SM-T520/T525 with Auto Sleep/Wake Feature, Giraffe Magenta\t71\r\n",
      "Canon Powershot / IXUS / ELPH 330 HS USB Cable - Mini USB\t390\r\n",
      "RML USB Standard Type A 2.0 Male to Micro USB Female Adapter\t390\r\n",
      "Axiom 10GBASE-ER Xfp Transceiver for Cisco # XFP-10GER-192IR+\t530\r\n",
      "Supermicro X8STE Server Motherboard Intel X58 Express Chipset Socket B LGA-1366 x Pack\t68\r\n",
      "Longruner Card Reader Mini Speakers Mp3 Music Player (Red)\t569\r\n"
     ]
    }
   ],
   "source": [
    "! head -10 ../data/classification_blind_set.tsv"
   ]
  },
  {
   "cell_type": "markdown",
   "metadata": {},
   "source": [
    "## Read raw data as lines"
   ]
  },
  {
   "cell_type": "code",
   "execution_count": 27,
   "metadata": {
    "collapsed": false
   },
   "outputs": [],
   "source": [
    "raw_train = pd.DataFrame([line for line in open('../data/classification_train.tsv',encoding='utf8')],columns=['line'])"
   ]
  },
  {
   "cell_type": "code",
   "execution_count": 28,
   "metadata": {
    "collapsed": true
   },
   "outputs": [],
   "source": [
    "raw_test = pd.DataFrame([line for line in open('../data/classification_blind_set.tsv',encoding='utf8')],columns=['line'])"
   ]
  },
  {
   "cell_type": "markdown",
   "metadata": {},
   "source": [
    "## Extract category and brand from raw data"
   ]
  },
  {
   "cell_type": "code",
   "execution_count": 29,
   "metadata": {
    "collapsed": true
   },
   "outputs": [],
   "source": [
    "train = raw_train.line.str.extract(r'(.*)\\t(\\d+)\\t(\\d+)$',expand=True)\n",
    "train.columns = ['product_title', 'brand_id', 'category_id']\n",
    "train = train.dropna()\n",
    "train.loc[:, ['brand_id', 'category_id']] = train.loc[:, ['brand_id', 'category_id']].astype(int)"
   ]
  },
  {
   "cell_type": "code",
   "execution_count": 30,
   "metadata": {
    "collapsed": true
   },
   "outputs": [],
   "source": [
    "test = raw_test.line.str.extract(r'(.*)\\t(-?\\d+)$',expand=True)\n",
    "test.columns = ['product_title', 'category_id']\n",
    "test = test.dropna()\n",
    "test.loc[:, ['category_id']] = test.loc[:, ['category_id']].astype(int)"
   ]
  },
  {
   "cell_type": "code",
   "execution_count": 31,
   "metadata": {
    "collapsed": false
   },
   "outputs": [
    {
     "name": "stdout",
     "output_type": "stream",
     "text": [
      "1000000 ../data/classification_train.tsv\r\n"
     ]
    }
   ],
   "source": [
    "! wc -l ../data/classification_train.tsv"
   ]
  },
  {
   "cell_type": "code",
   "execution_count": 32,
   "metadata": {
    "collapsed": false
   },
   "outputs": [
    {
     "name": "stdout",
     "output_type": "stream",
     "text": [
      "619243 ../data/classification_blind_set.tsv\r\n"
     ]
    }
   ],
   "source": [
    "! wc -l ../data/classification_blind_set.tsv"
   ]
  },
  {
   "cell_type": "code",
   "execution_count": 33,
   "metadata": {
    "collapsed": false
   },
   "outputs": [
    {
     "data": {
      "text/plain": [
       "((999996, 3), (619243, 2))"
      ]
     },
     "execution_count": 33,
     "metadata": {},
     "output_type": "execute_result"
    }
   ],
   "source": [
    "train.shape, test.shape"
   ]
  },
  {
   "cell_type": "markdown",
   "metadata": {},
   "source": [
    "# missed rows"
   ]
  },
  {
   "cell_type": "code",
   "execution_count": 34,
   "metadata": {
    "collapsed": false
   },
   "outputs": [
    {
     "data": {
      "text/plain": [
       "(4, 0)"
      ]
     },
     "execution_count": 34,
     "metadata": {},
     "output_type": "execute_result"
    }
   ],
   "source": [
    "1000000 - train.shape[0], 619243 -  test.shape[0]"
   ]
  },
  {
   "cell_type": "code",
   "execution_count": 35,
   "metadata": {
    "collapsed": false
   },
   "outputs": [],
   "source": [
    "pd.options.display.max_colwidth = 900"
   ]
  },
  {
   "cell_type": "code",
   "execution_count": 36,
   "metadata": {
    "collapsed": false,
    "scrolled": true
   },
   "outputs": [
    {
     "name": "stderr",
     "output_type": "stream",
     "text": [
      "/opt/anaconda/lib/python3.4/site-packages/ipykernel/__main__.py:1: UserWarning: This pattern has match groups. To actually get the groups, use str.extract.\n",
      "  if __name__ == '__main__':\n"
     ]
    },
    {
     "data": {
      "text/html": [
       "<div>\n",
       "<table border=\"1\" class=\"dataframe\">\n",
       "  <thead>\n",
       "    <tr style=\"text-align: right;\">\n",
       "      <th></th>\n",
       "      <th>line</th>\n",
       "    </tr>\n",
       "  </thead>\n",
       "  <tbody>\n",
       "    <tr>\n",
       "      <th>218278</th>\n",
       "      <td>title\\tbid\\tcid\\n</td>\n",
       "    </tr>\n",
       "    <tr>\n",
       "      <th>246806</th>\n",
       "      <td>\" 2 Pack Panasonic Compatible KX-FA83 KXFA83 Laser Toner Cartridge, 2,500 Pa\\tUnknown\\tcomputers &amp; accessories &gt; cables &amp; accessories &gt; printer ink &amp; toner &gt; laser printer toner\\n</td>\n",
       "    </tr>\n",
       "    <tr>\n",
       "      <th>458263</th>\n",
       "      <td>\"Brocade VDX 6720 - switch - 16 ports - rack-mountable\\tBrocade Communication Systems\\tcomputers &amp; accessories &gt; networking products &gt; switches\\n</td>\n",
       "    </tr>\n",
       "    <tr>\n",
       "      <th>575503</th>\n",
       "      <td>\"This hub is built strong and ideal for industrial environments. With the StarTech.com ST4200USBM 4-port hub you can wall-mount or install onto a DIN rail for convenient access to the ports. This four port industrial hub can be bus powered or self powered with a three wire terminal block connector 7-24V . Plug in your most demanding next-generation peripherals and still enjoy data transfer speed\\tStarTech\\tcomputers &amp; accessories &gt; networking products &gt; hubs\\n</td>\n",
       "    </tr>\n",
       "  </tbody>\n",
       "</table>\n",
       "</div>"
      ],
      "text/plain": [
       "                                                                                                                                                                                                                                                                                                                                                                                                                                                                                    line\n",
       "218278                                                                                                                                                                                                                                                                                                                                                                                                                                                                 title\\tbid\\tcid\\n\n",
       "246806                                                                                                                                                                                                                                                                                               \" 2 Pack Panasonic Compatible KX-FA83 KXFA83 Laser Toner Cartridge, 2,500 Pa\\tUnknown\\tcomputers & accessories > cables & accessories > printer ink & toner > laser printer toner\\n\n",
       "458263                                                                                                                                                                                                                                                                                                                                 \"Brocade VDX 6720 - switch - 16 ports - rack-mountable\\tBrocade Communication Systems\\tcomputers & accessories > networking products > switches\\n\n",
       "575503  \"This hub is built strong and ideal for industrial environments. With the StarTech.com ST4200USBM 4-port hub you can wall-mount or install onto a DIN rail for convenient access to the ports. This four port industrial hub can be bus powered or self powered with a three wire terminal block connector 7-24V . Plug in your most demanding next-generation peripherals and still enjoy data transfer speed\\tStarTech\\tcomputers & accessories > networking products > hubs\\n"
      ]
     },
     "execution_count": 36,
     "metadata": {},
     "output_type": "execute_result"
    }
   ],
   "source": [
    "raw_train[~raw_train.line.str.contains(r'(.*)\\t(\\d+)\\t(\\d+)$')]"
   ]
  },
  {
   "cell_type": "markdown",
   "metadata": {},
   "source": [
    "## exploring category and brand cardinalities"
   ]
  },
  {
   "cell_type": "code",
   "execution_count": null,
   "metadata": {
    "collapsed": false
   },
   "outputs": [],
   "source": [
    "all_data = pd.concat([train, test])"
   ]
  },
  {
   "cell_type": "code",
   "execution_count": null,
   "metadata": {
    "collapsed": false
   },
   "outputs": [],
   "source": [
    "all_data.head()"
   ]
  },
  {
   "cell_type": "code",
   "execution_count": null,
   "metadata": {
    "collapsed": true
   },
   "outputs": [],
   "source": []
  }
 ],
 "metadata": {
  "kernelspec": {
   "display_name": "Python 3",
   "language": "python",
   "name": "python3"
  },
  "language_info": {
   "codemirror_mode": {
    "name": "ipython",
    "version": 3
   },
   "file_extension": ".py",
   "mimetype": "text/x-python",
   "name": "python",
   "nbconvert_exporter": "python",
   "pygments_lexer": "ipython3",
   "version": "3.4.4"
  }
 },
 "nbformat": 4,
 "nbformat_minor": 0
}

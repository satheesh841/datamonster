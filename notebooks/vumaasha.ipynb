{
 "cells": [
  {
   "cell_type": "code",
   "execution_count": 24,
   "metadata": {
    "collapsed": true
   },
   "outputs": [],
   "source": [
    "import pandas as pd\n",
    "import numpy as np\n",
    "import matplotlib\n",
    "import matplotlib.pyplot as plt\n",
    "%matplotlib inline\n",
    "plt.rcParams['figure.figsize'] = (15,30)"
   ]
  },
  {
   "cell_type": "code",
   "execution_count": 25,
   "metadata": {
    "collapsed": false
   },
   "outputs": [
    {
     "name": "stdout",
     "output_type": "stream",
     "text": [
      "120GB Hard Disk Drive with 3 Years Warranty for Lenovo Essential B570 Laptop Notebook HDD Computer - Certified 3 Years Warranty from Seifelden\t3950\t8\r\n",
      "\"TOSHIBA SATELLITE L305-S5919 LAPTOP LCD SCREEN 15.4\"\" WXGA CCFL SINGLE SUBSTITUTE REPLACEMENT LCD SCREEN ONLY. NOT A LAPTOP\"\t35099\t324\r\n",
      "Hobby-Ace Pixhawk PX4 RGB External LED Indicator USB Module for Pixhawk Flight Controller\t21822\t510\r\n",
      "Pelicans mousepad\t44629\t260\r\n",
      "P4648-60029 Hewlett-Packard Tc2100 System Board\t42835\t68\r\n",
      "Ectaco EI900 SD Card English - Italian\t249\t6\r\n",
      "Zippered Pocket Black School Laptop Tablet Dual Straps Deluxe Backpack\t4342\t172\r\n",
      "GP Mtr, 3 Ph, ODP, 3 HP, 1800 rpm, 182TC\t42618\t616\r\n",
      "DIGI CM 16 PORT RJ-45 CONSOLE SERVER - Model#: 70001910\t37012\t248\r\n",
      "Lenovo Ibm Thinkpad R52-1859 Laptop AC adapter, power adapter Replacement\t2024\t313\r\n"
     ]
    }
   ],
   "source": [
    "! head -10 ../data/classification_train.tsv"
   ]
  },
  {
   "cell_type": "code",
   "execution_count": 26,
   "metadata": {
    "collapsed": false
   },
   "outputs": [
    {
     "name": "stdout",
     "output_type": "stream",
     "text": [
      "HDE Slim Lightweight Auto Sleep Wake Smart Cover Case Stand for iPad Air 5ht Gen Sky Blue \t367\r\n",
      "\"V7 Black Toner Cartridge For Canon Image Class D1120, D1150, D1170, D1180 120 2617B001aa 5K Yld - Laser - 5000 Page \"\"Product Category: Print Supplies/Ink/Toner Cartridges\"\"\"\t625\r\n",
      "\"Decalrus - Matte Protective Decal Skin skins Sticker for Samsung Galaxy Tab 3 with 10.1\"\" screen IMPORTANT: Must view \"\"IDENTIFY\"\" image for correct model case cover MATGalaxyTAB3_10-304\"\t250\r\n",
      "Vantec Thermal Technologies 89661 Vantec Accessory Nst-d300s3 2.5inch/3.5inch Sata I/ii To Usb3.0 Nexstar Hard Drive Dock Retail\t309\r\n",
      "Fintie Samsung Galaxy Tab Pro 10.1 Folio Case - Slim Fit Leather Cover for TabPro 10.1-inch Tablet SM-T520/T525 with Auto Sleep/Wake Feature, Giraffe Magenta\t71\r\n",
      "Canon Powershot / IXUS / ELPH 330 HS USB Cable - Mini USB\t390\r\n",
      "RML USB Standard Type A 2.0 Male to Micro USB Female Adapter\t390\r\n",
      "Axiom 10GBASE-ER Xfp Transceiver for Cisco # XFP-10GER-192IR+\t530\r\n",
      "Supermicro X8STE Server Motherboard Intel X58 Express Chipset Socket B LGA-1366 x Pack\t68\r\n",
      "Longruner Card Reader Mini Speakers Mp3 Music Player (Red)\t569\r\n"
     ]
    }
   ],
   "source": [
    "! head -10 ../data/classification_blind_set.tsv"
   ]
  },
  {
   "cell_type": "markdown",
   "metadata": {},
   "source": [
    "## Read raw data as lines"
   ]
  },
  {
   "cell_type": "code",
   "execution_count": 27,
   "metadata": {
    "collapsed": false
   },
   "outputs": [],
   "source": [
    "raw_train = pd.DataFrame([line for line in open('../data/classification_train.tsv',encoding='utf8')],columns=['line'])"
   ]
  },
  {
   "cell_type": "code",
   "execution_count": 28,
   "metadata": {
    "collapsed": true
   },
   "outputs": [],
   "source": [
    "raw_test = pd.DataFrame([line for line in open('../data/classification_blind_set.tsv',encoding='utf8')],columns=['line'])"
   ]
  },
  {
   "cell_type": "markdown",
   "metadata": {},
   "source": [
    "## Extract category and brand from raw data"
   ]
  },
  {
   "cell_type": "code",
   "execution_count": 29,
   "metadata": {
    "collapsed": true
   },
   "outputs": [],
   "source": [
    "train = raw_train.line.str.extract(r'(.*)\\t(\\d+)\\t(\\d+)$',expand=True)\n",
    "train.columns = ['product_title', 'brand_id', 'category_id']\n",
    "train = train.dropna()\n",
    "train.loc[:, ['brand_id', 'category_id']] = train.loc[:, ['brand_id', 'category_id']].astype(int)"
   ]
  },
  {
   "cell_type": "code",
   "execution_count": 30,
   "metadata": {
    "collapsed": true
   },
   "outputs": [],
   "source": [
    "test = raw_test.line.str.extract(r'(.*)\\t(-?\\d+)$',expand=True)\n",
    "test.columns = ['product_title', 'category_id']\n",
    "test = test.dropna()\n",
    "test.loc[:, ['category_id']] = test.loc[:, ['category_id']].astype(int)"
   ]
  },
  {
   "cell_type": "code",
   "execution_count": 31,
   "metadata": {
    "collapsed": false
   },
   "outputs": [
    {
     "name": "stdout",
     "output_type": "stream",
     "text": [
      "1000000 ../data/classification_train.tsv\r\n"
     ]
    }
   ],
   "source": [
    "! wc -l ../data/classification_train.tsv"
   ]
  },
  {
   "cell_type": "code",
   "execution_count": 32,
   "metadata": {
    "collapsed": false
   },
   "outputs": [
    {
     "name": "stdout",
     "output_type": "stream",
     "text": [
      "619243 ../data/classification_blind_set.tsv\r\n"
     ]
    }
   ],
   "source": [
    "! wc -l ../data/classification_blind_set.tsv"
   ]
  },
  {
   "cell_type": "code",
   "execution_count": 33,
   "metadata": {
    "collapsed": false
   },
   "outputs": [
    {
     "data": {
      "text/plain": [
       "((999996, 3), (619243, 2))"
      ]
     },
     "execution_count": 33,
     "metadata": {},
     "output_type": "execute_result"
    }
   ],
   "source": [
    "train.shape, test.shape"
   ]
  },
  {
   "cell_type": "markdown",
   "metadata": {},
   "source": [
    "# missed rows"
   ]
  },
  {
   "cell_type": "code",
   "execution_count": 34,
   "metadata": {
    "collapsed": false
   },
   "outputs": [
    {
     "data": {
      "text/plain": [
       "(4, 0)"
      ]
     },
     "execution_count": 34,
     "metadata": {},
     "output_type": "execute_result"
    }
   ],
   "source": [
    "1000000 - train.shape[0], 619243 -  test.shape[0]"
   ]
  },
  {
   "cell_type": "code",
   "execution_count": 35,
   "metadata": {
    "collapsed": false
   },
   "outputs": [],
   "source": [
    "pd.options.display.max_colwidth = 900"
   ]
  },
  {
   "cell_type": "code",
   "execution_count": 36,
   "metadata": {
    "collapsed": false,
    "scrolled": true
   },
   "outputs": [
    {
     "name": "stderr",
     "output_type": "stream",
     "text": [
      "/opt/anaconda/lib/python3.4/site-packages/ipykernel/__main__.py:1: UserWarning: This pattern has match groups. To actually get the groups, use str.extract.\n",
      "  if __name__ == '__main__':\n"
     ]
    },
    {
     "data": {
      "text/html": [
       "<div>\n",
       "<table border=\"1\" class=\"dataframe\">\n",
       "  <thead>\n",
       "    <tr style=\"text-align: right;\">\n",
       "      <th></th>\n",
       "      <th>line</th>\n",
       "    </tr>\n",
       "  </thead>\n",
       "  <tbody>\n",
       "    <tr>\n",
       "      <th>218278</th>\n",
       "      <td>title\\tbid\\tcid\\n</td>\n",
       "    </tr>\n",
       "    <tr>\n",
       "      <th>246806</th>\n",
       "      <td>\" 2 Pack Panasonic Compatible KX-FA83 KXFA83 Laser Toner Cartridge, 2,500 Pa\\tUnknown\\tcomputers &amp; accessories &gt; cables &amp; accessories &gt; printer ink &amp; toner &gt; laser printer toner\\n</td>\n",
       "    </tr>\n",
       "    <tr>\n",
       "      <th>458263</th>\n",
       "      <td>\"Brocade VDX 6720 - switch - 16 ports - rack-mountable\\tBrocade Communication Systems\\tcomputers &amp; accessories &gt; networking products &gt; switches\\n</td>\n",
       "    </tr>\n",
       "    <tr>\n",
       "      <th>575503</th>\n",
       "      <td>\"This hub is built strong and ideal for industrial environments. With the StarTech.com ST4200USBM 4-port hub you can wall-mount or install onto a DIN rail for convenient access to the ports. This four port industrial hub can be bus powered or self powered with a three wire terminal block connector 7-24V . Plug in your most demanding next-generation peripherals and still enjoy data transfer speed\\tStarTech\\tcomputers &amp; accessories &gt; networking products &gt; hubs\\n</td>\n",
       "    </tr>\n",
       "  </tbody>\n",
       "</table>\n",
       "</div>"
      ],
      "text/plain": [
       "                                                                                                                                                                                                                                                                                                                                                                                                                                                                                    line\n",
       "218278                                                                                                                                                                                                                                                                                                                                                                                                                                                                 title\\tbid\\tcid\\n\n",
       "246806                                                                                                                                                                                                                                                                                               \" 2 Pack Panasonic Compatible KX-FA83 KXFA83 Laser Toner Cartridge, 2,500 Pa\\tUnknown\\tcomputers & accessories > cables & accessories > printer ink & toner > laser printer toner\\n\n",
       "458263                                                                                                                                                                                                                                                                                                                                 \"Brocade VDX 6720 - switch - 16 ports - rack-mountable\\tBrocade Communication Systems\\tcomputers & accessories > networking products > switches\\n\n",
       "575503  \"This hub is built strong and ideal for industrial environments. With the StarTech.com ST4200USBM 4-port hub you can wall-mount or install onto a DIN rail for convenient access to the ports. This four port industrial hub can be bus powered or self powered with a three wire terminal block connector 7-24V . Plug in your most demanding next-generation peripherals and still enjoy data transfer speed\\tStarTech\\tcomputers & accessories > networking products > hubs\\n"
      ]
     },
     "execution_count": 36,
     "metadata": {},
     "output_type": "execute_result"
    }
   ],
   "source": [
    "raw_train[~raw_train.line.str.contains(r'(.*)\\t(\\d+)\\t(\\d+)$')]"
   ]
  },
  {
   "cell_type": "markdown",
   "metadata": {},
   "source": [
    "## exploring category and brand cardinalities"
   ]
  },
  {
   "cell_type": "code",
   "execution_count": 40,
   "metadata": {
    "collapsed": false
   },
   "outputs": [],
   "source": [
    "all_data = pd.concat([train, test])"
   ]
  },
  {
   "cell_type": "code",
   "execution_count": 45,
   "metadata": {
    "collapsed": false
   },
   "outputs": [
    {
     "data": {
      "text/plain": [
       "(707,)"
      ]
     },
     "execution_count": 45,
     "metadata": {},
     "output_type": "execute_result"
    }
   ],
   "source": [
    "all_data.category_id.value_counts().shape"
   ]
  },
  {
   "cell_type": "code",
   "execution_count": 61,
   "metadata": {
    "collapsed": false
   },
   "outputs": [
    {
     "data": {
      "text/plain": [
       "(32231,)"
      ]
     },
     "execution_count": 61,
     "metadata": {},
     "output_type": "execute_result"
    }
   ],
   "source": [
    "vc = train.brand_id.value_counts()\n",
    "vc[vc<20].shape"
   ]
  },
  {
   "cell_type": "markdown",
   "metadata": {},
   "source": [
    "# Model Learning"
   ]
  },
  {
   "cell_type": "code",
   "execution_count": 203,
   "metadata": {
    "collapsed": true
   },
   "outputs": [],
   "source": [
    "import re\n",
    "from sklearn.feature_extraction.text import TfidfVectorizer,CountVectorizer\n",
    "from nltk import word_tokenize"
   ]
  },
  {
   "cell_type": "code",
   "execution_count": 204,
   "metadata": {
    "collapsed": true
   },
   "outputs": [],
   "source": [
    "class Tokenizer(object):\n",
    "    def __init__(self):\n",
    "        self.tokenizer = word_tokenize\n",
    "        self.stop_words = set(\n",
    "        ['is', 'of', 'it', 'at', 'on', 'and', 'as', 'the', 'to', 'are', 'this', 'that', 'be', 'in',\n",
    "          'an', 'or','any', 'all', 'am','you','we'])\n",
    "\n",
    "    def __call__(self, text):\n",
    "        text = text.lower()\n",
    "        # replace special characters\n",
    "        text = re.sub(r'[^a-z0-9\\s/\\\\_\\t,\\-]', '', text,flags=re.IGNORECASE)\n",
    "        text = re.sub(r'[/\\\\_\\t,-]', ' ', text,flags=re.IGNORECASE)\n",
    "        # replace numbers to reduce number of features\n",
    "        text = re.sub(r'\\b[0-9]+\\b', ' __NUMBER__ ', text) \n",
    "        # replace possible product/serial numbers\n",
    "        text = re.sub(r'\\b\\w*\\d+\\w*\\d?\\b', ' __SERIAL__ ', text)\n",
    "                \n",
    "        tokens = [w for w in self.tokenizer(text) if (w not in self.stop_words and len(w)>1)]\n",
    "        return tokens"
   ]
  },
  {
   "cell_type": "code",
   "execution_count": 205,
   "metadata": {
    "collapsed": false
   },
   "outputs": [
    {
     "data": {
      "text/plain": [
       "['sun',\n",
       " '__NUMBER__',\n",
       " '__SERIAL__',\n",
       " 'pulls',\n",
       " 'from',\n",
       " 'sun',\n",
       " 'fire',\n",
       " '__SERIAL__',\n",
       " '__SERIAL__',\n",
       " 'scsi',\n",
       " '__NUMBER__',\n",
       " 'pin',\n",
       " '__SERIAL__',\n",
       " '__NUMBER__',\n",
       " 'rpm',\n",
       " '__SERIAL__',\n",
       " '__SERIAL__']"
      ]
     },
     "execution_count": 205,
     "metadata": {},
     "output_type": "execute_result"
    }
   ],
   "source": [
    "tokenizer = Tokenizer()\n",
    "tokenizer(\"SUN 0066152-0409N08VG5 PULLS FROM SUN FIRE V120, 36GB SCSI 80 PIN ULTRA3 10000 RPM U160 (00661520409N08VG5)\")"
   ]
  },
  {
   "cell_type": "code",
   "execution_count": 206,
   "metadata": {
    "collapsed": false
   },
   "outputs": [
    {
     "name": "stdout",
     "output_type": "stream",
     "text": [
      "CPU times: user 3min 51s, sys: 947 ms, total: 3min 52s\n",
      "Wall time: 3min 52s\n"
     ]
    }
   ],
   "source": [
    "vectorizer = TfidfVectorizer(tokenizer=Tokenizer())\n",
    "%time transformed_data = vectorizer.fit_transform(train['product_title'])"
   ]
  },
  {
   "cell_type": "code",
   "execution_count": 207,
   "metadata": {
    "collapsed": false
   },
   "outputs": [
    {
     "name": "stdout",
     "output_type": "stream",
     "text": [
      "CPU times: user 3min 48s, sys: 428 ms, total: 3min 49s\n",
      "Wall time: 3min 49s\n"
     ]
    }
   ],
   "source": [
    "cv = CountVectorizer(tokenizer=Tokenizer())\n",
    "%time transformed_data = cv.fit_transform(train['product_title'])"
   ]
  },
  {
   "cell_type": "code",
   "execution_count": 208,
   "metadata": {
    "collapsed": false
   },
   "outputs": [
    {
     "data": {
      "text/plain": [
       "89278"
      ]
     },
     "execution_count": 208,
     "metadata": {},
     "output_type": "execute_result"
    }
   ],
   "source": [
    "len(cv.vocabulary_)"
   ]
  },
  {
   "cell_type": "code",
   "execution_count": 209,
   "metadata": {
    "collapsed": false
   },
   "outputs": [],
   "source": [
    "wordVec = pd.Series(cv.vocabulary_)\n",
    "words = wordVec.index.to_series()"
   ]
  },
  {
   "cell_type": "code",
   "execution_count": 210,
   "metadata": {
    "collapsed": false,
    "scrolled": true
   },
   "outputs": [
    {
     "data": {
      "text/plain": [
       "aasdkdkdieoopeuiooque              21\n",
       "accessoriesaradise                 18\n",
       "accessoriesbrown                   16\n",
       "accessoriesnextdiatm               20\n",
       "acetylgalactosaminyltransferase    31\n",
       "acetylglucosamine                  17\n",
       "acetylhexosamine                   16\n",
       "acetylneuraminate                  17\n",
       "acetyltransferase                  17\n",
       "adapterpowersupplyfor              21\n",
       "adapterreplacement                 18\n",
       "addoncomputercom                   16\n",
       "adenosylhomocysteinase             22\n",
       "adenosylmethionine                 18\n",
       "adenylosuccinate                   16\n",
       "adenylyltransferase                19\n",
       "aggravatingthree                   16\n",
       "ahurikahinahukurou                 18\n",
       "allinstallazione                   16\n",
       "allthingsbasketball                19\n",
       "aluminumbrzenbook                  17\n",
       "amidotransferase                   16\n",
       "aminotransferase                   16\n",
       "analogpersonality                  17\n",
       "anesthesiologist                   16\n",
       "anglebamboometal                   16\n",
       "antennaimproving                   16\n",
       "antimicrobialssmpvsh               20\n",
       "anywherecompatible                 18\n",
       "appleipadleather                   16\n",
       "                                   ..\n",
       "whitebrownblackblue                19\n",
       "whitecompatilble                   16\n",
       "whiteelectronics                   16\n",
       "whitespeakerphone                  17\n",
       "widescreenliquid                   16\n",
       "winderheadphoneheadphone           24\n",
       "wirelessbluetooth                  17\n",
       "wirelessgyroscopic                 18\n",
       "wirelesskeyboard                   16\n",
       "wirelesstereoheadsetiyahon         26\n",
       "wirtschaftssimulation              21\n",
       "withbacklighting                   16\n",
       "worldnavigatortm                   16\n",
       "wrapbaonemaxblackliteblue          25\n",
       "wrapcfchromeboxblue                19\n",
       "writecompactflash                  17\n",
       "wwwwatchguardcom                   16\n",
       "xcdiscountproducts                 18\n",
       "xminilifetmtravel                  17\n",
       "xperiazultraultra                  17\n",
       "xxsapphiregalexx                   16\n",
       "yellowblackbrown                   16\n",
       "yellowblackclear                   16\n",
       "yellowprofessionally               20\n",
       "yellowreplacement                  17\n",
       "yellowwhitebluepurpleorangehot     30\n",
       "yieldreplacement                   16\n",
       "zclmultifunction                   16\n",
       "zclmultifunctional                 18\n",
       "zyxelmunications                   16\n",
       "dtype: int64"
      ]
     },
     "execution_count": 210,
     "metadata": {},
     "output_type": "execute_result"
    }
   ],
   "source": [
    "words = wordVec.index.to_series()\n",
    "ln = words.str.len()\n",
    "ln[ln>15]"
   ]
  },
  {
   "cell_type": "code",
   "execution_count": 223,
   "metadata": {
    "collapsed": false,
    "scrolled": true
   },
   "outputs": [
    {
     "data": {
      "text/html": [
       "<div>\n",
       "<table border=\"1\" class=\"dataframe\">\n",
       "  <thead>\n",
       "    <tr style=\"text-align: right;\">\n",
       "      <th></th>\n",
       "      <th>product_title</th>\n",
       "      <th>brand_id</th>\n",
       "      <th>category_id</th>\n",
       "    </tr>\n",
       "  </thead>\n",
       "  <tbody>\n",
       "    <tr>\n",
       "      <th>374680</th>\n",
       "      <td>Accessoriesaradise Ultra Thin Magnetic Blue Smart Cover &amp; Back Clear Blue Case for Apple Ipad Mini New Ipad Mini 2 - Blue - AP2501</td>\n",
       "      <td>16876</td>\n",
       "      <td>71</td>\n",
       "    </tr>\n",
       "  </tbody>\n",
       "</table>\n",
       "</div>"
      ],
      "text/plain": [
       "                                                                                                                             product_title  \\\n",
       "374680  Accessoriesaradise Ultra Thin Magnetic Blue Smart Cover & Back Clear Blue Case for Apple Ipad Mini New Ipad Mini 2 - Blue - AP2501   \n",
       "\n",
       "       brand_id category_id  \n",
       "374680    16876          71  "
      ]
     },
     "execution_count": 223,
     "metadata": {},
     "output_type": "execute_result"
    }
   ],
   "source": [
    "temp = train[train.product_title.str.contains(\"accessories*aradise\", case=False)]\n",
    "temp[temp.product_title.apply(lambda x: 'accessoriesaradise' in tokenizer(x))]"
   ]
  }
 ],
 "metadata": {
  "kernelspec": {
   "display_name": "Python 3",
   "language": "python",
   "name": "python3"
  },
  "language_info": {
   "codemirror_mode": {
    "name": "ipython",
    "version": 3
   },
   "file_extension": ".py",
   "mimetype": "text/x-python",
   "name": "python",
   "nbconvert_exporter": "python",
   "pygments_lexer": "ipython3",
   "version": "3.4.4"
  }
 },
 "nbformat": 4,
 "nbformat_minor": 0
}

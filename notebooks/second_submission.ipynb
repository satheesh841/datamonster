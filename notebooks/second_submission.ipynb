{
 "cells": [
  {
   "cell_type": "code",
   "execution_count": 1,
   "metadata": {
    "collapsed": false
   },
   "outputs": [],
   "source": [
    "from util import print_log, validate_model, sparse_validate_model"
   ]
  },
  {
   "cell_type": "code",
   "execution_count": 2,
   "metadata": {
    "collapsed": true
   },
   "outputs": [],
   "source": [
    "import pandas as pd\n",
    "import numpy as np\n",
    "import matplotlib\n",
    "import matplotlib.pyplot as plt\n",
    "%matplotlib inline\n",
    "plt.rcParams['figure.figsize'] = (15,30)"
   ]
  },
  {
   "cell_type": "markdown",
   "metadata": {},
   "source": [
    "## Read raw data as lines"
   ]
  },
  {
   "cell_type": "code",
   "execution_count": 3,
   "metadata": {
    "collapsed": false
   },
   "outputs": [],
   "source": [
    "raw_train = pd.DataFrame([line for line in open('../data/classification_train.tsv',encoding='utf8')],columns=['line'])"
   ]
  },
  {
   "cell_type": "code",
   "execution_count": 4,
   "metadata": {
    "collapsed": false
   },
   "outputs": [],
   "source": [
    "raw_test = pd.DataFrame([line for line in open('../data/classification_blind_set_corrected.tsv',encoding='utf8')],columns=['line'])"
   ]
  },
  {
   "cell_type": "markdown",
   "metadata": {},
   "source": [
    "## Extract category and brand from raw data"
   ]
  },
  {
   "cell_type": "code",
   "execution_count": 5,
   "metadata": {
    "collapsed": false
   },
   "outputs": [],
   "source": [
    "train = raw_train.line.str.extract(r'(.*)\\t(\\d+)\\t(\\d+)$',expand=True)\n",
    "train.columns = ['product_title', 'brand_id', 'category_id']\n",
    "train = train.dropna()\n",
    "train.loc[:, ['brand_id', 'category_id']] = train.loc[:, ['brand_id', 'category_id']].astype(int)"
   ]
  },
  {
   "cell_type": "code",
   "execution_count": 6,
   "metadata": {
    "collapsed": true
   },
   "outputs": [],
   "source": [
    "test = raw_test.line.str.extract(r'(.*)\\t(-?\\d+)$',expand=True)\n",
    "test.columns = ['product_title', 'category_id']\n",
    "test = test.dropna()\n",
    "test.loc[:, ['category_id']] = test.loc[:, ['category_id']].astype(int)"
   ]
  },
  {
   "cell_type": "code",
   "execution_count": 7,
   "metadata": {
    "collapsed": false
   },
   "outputs": [],
   "source": [
    "class Tokenizer2(object):\n",
    "    def __init__(self):\n",
    "        self.tokenizer = word_tokenize\n",
    "        self.stop_words = set(\n",
    "        ['is', 'of', 'it', 'at', 'on', 'and', 'as', 'the', 'to', 'are', 'this', 'that', 'be', 'in',\n",
    "          'an', 'or','any', 'all', 'am','you','we', '__NUMBER__', '__SERIAL__'])\n",
    "\n",
    "    def __call__(self, text):\n",
    "        text = text.lower()\n",
    "        # replace special characters\n",
    "        text = re.sub(r'[^a-z0-9\\s/\\\\_\\t,\\-]', '', text,flags=re.IGNORECASE)\n",
    "        text = re.sub(r'[/\\\\_\\t,-]', ' ', text,flags=re.IGNORECASE)\n",
    "        # replace numbers to reduce number of features\n",
    "        text = re.sub(r'\\b[0-9]+\\b', ' __NUMBER__ ', text) \n",
    "        # replace possible product/serial numbers\n",
    "        text = re.sub(r'\\b\\w*\\d+\\w*\\d?\\b', ' __SERIAL__ ', text)\n",
    "                \n",
    "        tokens = [w for w in self.tokenizer(text) if (w not in self.stop_words and len(w)>1)]\n",
    "        # only return first and last two tokens\n",
    "        \n",
    "        tokens = tokens if len(tokens) <5 else tokens[:3] + tokens[-2:]\n",
    "        \n",
    "        token_dict = {}\n",
    "        \n",
    "        for i,token in enumerate(tokens):\n",
    "            token_dict['word_'+str(i)] = token\n",
    "        \n",
    "        return token_dict"
   ]
  },
  {
   "cell_type": "code",
   "execution_count": 8,
   "metadata": {
    "collapsed": false
   },
   "outputs": [
    {
     "name": "stdout",
     "output_type": "stream",
     "text": [
      "1000000 ../data/classification_train.tsv\r\n"
     ]
    }
   ],
   "source": [
    "! wc -l ../data/classification_train.tsv"
   ]
  },
  {
   "cell_type": "code",
   "execution_count": 9,
   "metadata": {
    "collapsed": false
   },
   "outputs": [
    {
     "name": "stdout",
     "output_type": "stream",
     "text": [
      "wc: ../data/classification_blind_set.tsv: No such file or directory\r\n"
     ]
    }
   ],
   "source": [
    "! wc -l ../data/classification_blind_set.tsv"
   ]
  },
  {
   "cell_type": "code",
   "execution_count": 10,
   "metadata": {
    "collapsed": false
   },
   "outputs": [
    {
     "data": {
      "text/plain": [
       "((999996, 3), (619240, 2))"
      ]
     },
     "execution_count": 10,
     "metadata": {},
     "output_type": "execute_result"
    }
   ],
   "source": [
    "train.shape, test.shape"
   ]
  },
  {
   "cell_type": "markdown",
   "metadata": {},
   "source": [
    "# missed rows"
   ]
  },
  {
   "cell_type": "code",
   "execution_count": 11,
   "metadata": {
    "collapsed": false
   },
   "outputs": [
    {
     "data": {
      "text/plain": [
       "(4, 3)"
      ]
     },
     "execution_count": 11,
     "metadata": {},
     "output_type": "execute_result"
    }
   ],
   "source": [
    "1000000 - train.shape[0], 619243 -  test.shape[0]"
   ]
  },
  {
   "cell_type": "code",
   "execution_count": 12,
   "metadata": {
    "collapsed": false
   },
   "outputs": [],
   "source": [
    "pd.options.display.max_colwidth = 900"
   ]
  },
  {
   "cell_type": "code",
   "execution_count": 13,
   "metadata": {
    "collapsed": false,
    "scrolled": false
   },
   "outputs": [
    {
     "name": "stderr",
     "output_type": "stream",
     "text": [
      "/opt/anaconda/lib/python3.4/site-packages/ipykernel/__main__.py:1: UserWarning: This pattern has match groups. To actually get the groups, use str.extract.\n",
      "  if __name__ == '__main__':\n"
     ]
    },
    {
     "data": {
      "text/html": [
       "<div>\n",
       "<table border=\"1\" class=\"dataframe\">\n",
       "  <thead>\n",
       "    <tr style=\"text-align: right;\">\n",
       "      <th></th>\n",
       "      <th>line</th>\n",
       "    </tr>\n",
       "  </thead>\n",
       "  <tbody>\n",
       "    <tr>\n",
       "      <th>218278</th>\n",
       "      <td>title\\tbid\\tcid\\n</td>\n",
       "    </tr>\n",
       "    <tr>\n",
       "      <th>246806</th>\n",
       "      <td>\" 2 Pack Panasonic Compatible KX-FA83 KXFA83 Laser Toner Cartridge, 2,500 Pa\\tUnknown\\tcomputers &amp; accessories &gt; cables &amp; accessories &gt; printer ink &amp; toner &gt; laser printer toner\\n</td>\n",
       "    </tr>\n",
       "    <tr>\n",
       "      <th>458263</th>\n",
       "      <td>\"Brocade VDX 6720 - switch - 16 ports - rack-mountable\\tBrocade Communication Systems\\tcomputers &amp; accessories &gt; networking products &gt; switches\\n</td>\n",
       "    </tr>\n",
       "    <tr>\n",
       "      <th>575503</th>\n",
       "      <td>\"This hub is built strong and ideal for industrial environments. With the StarTech.com ST4200USBM 4-port hub you can wall-mount or install onto a DIN rail for convenient access to the ports. This four port industrial hub can be bus powered or self powered with a three wire terminal block connector 7-24V . Plug in your most demanding next-generation peripherals and still enjoy data transfer speed\\tStarTech\\tcomputers &amp; accessories &gt; networking products &gt; hubs\\n</td>\n",
       "    </tr>\n",
       "  </tbody>\n",
       "</table>\n",
       "</div>"
      ],
      "text/plain": [
       "                                                                                                                                                                                                                                                                                                                                                                                                                                                                                    line\n",
       "218278                                                                                                                                                                                                                                                                                                                                                                                                                                                                 title\\tbid\\tcid\\n\n",
       "246806                                                                                                                                                                                                                                                                                               \" 2 Pack Panasonic Compatible KX-FA83 KXFA83 Laser Toner Cartridge, 2,500 Pa\\tUnknown\\tcomputers & accessories > cables & accessories > printer ink & toner > laser printer toner\\n\n",
       "458263                                                                                                                                                                                                                                                                                                                                 \"Brocade VDX 6720 - switch - 16 ports - rack-mountable\\tBrocade Communication Systems\\tcomputers & accessories > networking products > switches\\n\n",
       "575503  \"This hub is built strong and ideal for industrial environments. With the StarTech.com ST4200USBM 4-port hub you can wall-mount or install onto a DIN rail for convenient access to the ports. This four port industrial hub can be bus powered or self powered with a three wire terminal block connector 7-24V . Plug in your most demanding next-generation peripherals and still enjoy data transfer speed\\tStarTech\\tcomputers & accessories > networking products > hubs\\n"
      ]
     },
     "execution_count": 13,
     "metadata": {},
     "output_type": "execute_result"
    }
   ],
   "source": [
    "raw_train[~raw_train.line.str.contains(r'(.*)\\t(\\d+)\\t(\\d+)$')]"
   ]
  },
  {
   "cell_type": "markdown",
   "metadata": {},
   "source": [
    "## exploring category and brand cardinalities"
   ]
  },
  {
   "cell_type": "code",
   "execution_count": 14,
   "metadata": {
    "collapsed": true
   },
   "outputs": [],
   "source": [
    "all_data = pd.concat([train, test])"
   ]
  },
  {
   "cell_type": "code",
   "execution_count": 15,
   "metadata": {
    "collapsed": false
   },
   "outputs": [
    {
     "data": {
      "text/plain": [
       "(705,)"
      ]
     },
     "execution_count": 15,
     "metadata": {},
     "output_type": "execute_result"
    }
   ],
   "source": [
    "all_data.category_id.value_counts().shape"
   ]
  },
  {
   "cell_type": "code",
   "execution_count": null,
   "metadata": {
    "collapsed": false
   },
   "outputs": [],
   "source": [
    "vc = train.brand_id.value_counts()\n",
    "vc[vc<20].shape"
   ]
  },
  {
   "cell_type": "markdown",
   "metadata": {},
   "source": [
    "# Model Learning"
   ]
  },
  {
   "cell_type": "code",
   "execution_count": 12,
   "metadata": {
    "collapsed": false
   },
   "outputs": [],
   "source": [
    "import re\n",
    "from sklearn.feature_extraction.text import TfidfVectorizer,CountVectorizer\n",
    "from nltk import word_tokenize"
   ]
  },
  {
   "cell_type": "code",
   "execution_count": 13,
   "metadata": {
    "collapsed": true
   },
   "outputs": [],
   "source": [
    "class Tokenizer(object):\n",
    "    def __init__(self):\n",
    "        self.tokenizer = word_tokenize\n",
    "        self.stop_words = set(\n",
    "        ['is', 'of', 'it', 'at', 'on', 'and', 'as', 'the', 'to', 'are', 'this', 'that', 'be', 'in',\n",
    "          'an', 'or','any', 'all', 'am','you','we', '__NUMBER__', '__SERIAL__'])\n",
    "\n",
    "    def __call__(self, text):\n",
    "        text = text.lower()\n",
    "        # replace special characters\n",
    "        text = re.sub(r'[^a-z0-9\\s/\\\\_\\t,\\-]', '', text,flags=re.IGNORECASE)\n",
    "        text = re.sub(r'[/\\\\_\\t,-]', ' ', text,flags=re.IGNORECASE)\n",
    "        # replace numbers to reduce number of features\n",
    "        text = re.sub(r'\\b[0-9]+\\b', ' __NUMBER__ ', text) \n",
    "        # replace possible product/serial numbers\n",
    "        text = re.sub(r'\\b\\w*\\d+\\w*\\d?\\b', ' __SERIAL__ ', text)\n",
    "                \n",
    "        tokens = [w for w in self.tokenizer(text) if (w not in self.stop_words and len(w)>1)]\n",
    "        # only return first and last two tokens\n",
    "        return tokens if len(tokens) <5 else tokens[:2] + tokens[-2:]"
   ]
  },
  {
   "cell_type": "code",
   "execution_count": null,
   "metadata": {
    "collapsed": false
   },
   "outputs": [],
   "source": [
    "vectorizer = TfidfVectorizer(tokenizer=Tokenizer())\n",
    "print_log(\"starting vectorizer fit_transform\")\n",
    "sparse_title = vectorizer.fit_transform(train['product_title'])\n",
    "print_log(\"completed vectorizer fit_transform\")"
   ]
  },
  {
   "cell_type": "code",
   "execution_count": null,
   "metadata": {
    "collapsed": false
   },
   "outputs": [],
   "source": [
    "print(\"distinct words found\", len(vectorizer.vocabulary_))"
   ]
  },
  {
   "cell_type": "markdown",
   "metadata": {},
   "source": [
    "To build sparse matrix from vectorized tokens and category_id  \n",
    "learn model on top of this"
   ]
  },
  {
   "cell_type": "code",
   "execution_count": null,
   "metadata": {
    "collapsed": true
   },
   "outputs": [],
   "source": [
    "from sklearn.feature_extraction import DictVectorizer"
   ]
  },
  {
   "cell_type": "code",
   "execution_count": null,
   "metadata": {
    "collapsed": false
   },
   "outputs": [],
   "source": [
    "category_dict_vectorizer = DictVectorizer()\n",
    "print_log(\"starting sparse category\")\n",
    "sparse_category = category_dict_vectorizer.fit_transform(train.category_id.astype(str).apply(lambda x: {x: 1}))\n",
    "print_log(\"completed sparse category\")"
   ]
  },
  {
   "cell_type": "code",
   "execution_count": null,
   "metadata": {
    "collapsed": false
   },
   "outputs": [],
   "source": [
    "sparse_category.shape, (train.category_id.shape, train.category_id.nunique())"
   ]
  },
  {
   "cell_type": "code",
   "execution_count": null,
   "metadata": {
    "collapsed": true
   },
   "outputs": [],
   "source": [
    "from scipy.sparse import hstack"
   ]
  },
  {
   "cell_type": "code",
   "execution_count": null,
   "metadata": {
    "collapsed": true
   },
   "outputs": [],
   "source": [
    "joined_data = hstack([sparse_category, sparse_title], format='csr')"
   ]
  },
  {
   "cell_type": "code",
   "execution_count": null,
   "metadata": {
    "collapsed": false
   },
   "outputs": [],
   "source": [
    "joined_data.shape"
   ]
  },
  {
   "cell_type": "markdown",
   "metadata": {},
   "source": [
    "Saving file"
   ]
  },
  {
   "cell_type": "code",
   "execution_count": null,
   "metadata": {
    "collapsed": true
   },
   "outputs": [],
   "source": [
    "from scipy.io import mmwrite, mmread\n",
    "mmwrite('joined_data.mtx', joined_data)\n",
    "mmwrite('sparse_category.mtx', sparse_category)\n",
    "mmwrite('sparse_title.mtx', sparse_title)"
   ]
  },
  {
   "cell_type": "code",
   "execution_count": null,
   "metadata": {
    "collapsed": true
   },
   "outputs": [],
   "source": [
    "# joined_data = mmread('joined_data.mtx')\n",
    "# sparse_category = mmread('sparse_category')\n",
    "# sparse_title = mmread('sparse_title')"
   ]
  },
  {
   "cell_type": "markdown",
   "metadata": {},
   "source": [
    "Model validation\n",
    "--"
   ]
  },
  {
   "cell_type": "code",
   "execution_count": null,
   "metadata": {
    "collapsed": false
   },
   "outputs": [],
   "source": [
    "from sklearn.linear_model import LogisticRegression, SGDClassifier\n",
    "from sklearn.cross_validation import ShuffleSplit\n",
    "from sklearn.naive_bayes import MultinomialNB"
   ]
  },
  {
   "cell_type": "code",
   "execution_count": null,
   "metadata": {
    "collapsed": true
   },
   "outputs": [],
   "source": [
    "import importlib\n",
    "import util\n",
    "\n",
    "importlib.reload(util)\n",
    "from util import print_log, validate_model, sparse_validate_model"
   ]
  },
  {
   "cell_type": "code",
   "execution_count": null,
   "metadata": {
    "collapsed": false
   },
   "outputs": [],
   "source": [
    "# Validate logistic regression \n",
    "print_log(\"starting validation\")\n",
    "# clf = LogisticRegression()\n",
    "# clf = SGDClassifier(loss='log')\n",
    "clf = MultinomialNB()\n",
    "util.sparse_validate_model(X=joined_data, Y=pd.np.ravel(train.brand_id.astype(int)), classifier=clf, \n",
    "               split_generator=lambda Y: ShuffleSplit(n=Y.shape[0], n_iter=3, test_size=0.4))\n",
    "print_log(\"completed validation\")"
   ]
  },
  {
   "cell_type": "code",
   "execution_count": null,
   "metadata": {
    "collapsed": true
   },
   "outputs": [],
   "source": []
  },
  {
   "cell_type": "markdown",
   "metadata": {},
   "source": [
    "Apply Model\n",
    "--"
   ]
  },
  {
   "cell_type": "markdown",
   "metadata": {},
   "source": [
    "Data preparation"
   ]
  },
  {
   "cell_type": "code",
   "execution_count": null,
   "metadata": {
    "collapsed": true
   },
   "outputs": [],
   "source": [
    "test_title_sparse = sparse_title = vectorizer.transform(test['product_title'])\n",
    "test_category_sparse = category_dict_vectorizer.transform(test.category_id.astype(str).apply(lambda x: {x: 1}))\n",
    "joined_test_data = hstack([sparse_category, sparse_title], format='csr')"
   ]
  },
  {
   "cell_type": "code",
   "execution_count": null,
   "metadata": {
    "collapsed": true
   },
   "outputs": [],
   "source": [
    "mmwrite('joined_test_data.mtx', joined_test_data)\n",
    "mmwrite('test_title_sparse', test_title_sparse)\n",
    "mmwrite('test_category_sparse', test_category_sparse)"
   ]
  },
  {
   "cell_type": "code",
   "execution_count": null,
   "metadata": {
    "collapsed": true
   },
   "outputs": [],
   "source": [
    "joined_test_data = mmread('joined_test_data.mtx')\n",
    "test_title_sparse = mmread('test_title_sparse.mtx')\n",
    "test_category_sparse = mmread('test_category_sparse.mtx')"
   ]
  },
  {
   "cell_type": "markdown",
   "metadata": {},
   "source": [
    "predict"
   ]
  },
  {
   "cell_type": "code",
   "execution_count": null,
   "metadata": {
    "collapsed": true
   },
   "outputs": [],
   "source": [
    "test_pred = clf.predict(joined_test_data)"
   ]
  },
  {
   "cell_type": "markdown",
   "metadata": {},
   "source": [
    "# category wise model strategy"
   ]
  },
  {
   "cell_type": "markdown",
   "metadata": {},
   "source": [
    "Second submimssion code"
   ]
  },
  {
   "cell_type": "code",
   "execution_count": 23,
   "metadata": {
    "collapsed": true
   },
   "outputs": [],
   "source": [
    "import re\n",
    "from sklearn.feature_extraction.text import TfidfVectorizer\n",
    "from sklearn.pipeline import Pipeline\n",
    "from sklearn.naive_bayes import MultinomialNB\n",
    "from nltk import word_tokenize\n",
    "from sklearn.externals import joblib\n",
    "\n",
    "class Tokenizer(object):\n",
    "    def __init__(self):\n",
    "        self.tokenizer = word_tokenize\n",
    "        self.stop_words = set(\n",
    "        ['is', 'of', 'it', 'at', 'on', 'and', 'as', 'the', 'to', 'are', 'this', 'that', 'be', 'in',\n",
    "          'an', 'or','any', 'all', 'am','you','we', '__NUMBER__', '__SERIAL__'])\n",
    "\n",
    "    def __call__(self, text):\n",
    "        text = text.lower()\n",
    "        # replace special characters\n",
    "        text = re.sub(r'[^a-z0-9\\s/\\\\_\\t,\\-]', '', text,flags=re.IGNORECASE)\n",
    "        text = re.sub(r'[/\\\\_\\t,-]', ' ', text,flags=re.IGNORECASE)\n",
    "        # replace numbers to reduce number of features\n",
    "        text = re.sub(r'\\b[0-9]+\\b', ' __NUMBER__ ', text) \n",
    "        # replace possible product/serial numbers\n",
    "        text = re.sub(r'\\b\\w*\\d+\\w*\\d?\\b', ' __SERIAL__ ', text)\n",
    "                \n",
    "        tokens = [w for w in self.tokenizer(text) if (w not in self.stop_words and len(w)>1)]\n",
    "        # only return first and last two tokens\n",
    "        return tokens if len(tokens) <5 else tokens[:3] + tokens[-2:]\n",
    "    \n",
    "def learn_model_for_category(train_df):\n",
    "    category = train_df.category_id.iloc[0]\n",
    "    learner = MultinomialNB()\n",
    "    vectorizer = TfidfVectorizer(tokenizer=Tokenizer())\n",
    "    estimators = [('transform', vectorizer), ('learner', learner)]\n",
    "    pipe_line = Pipeline(estimators)\n",
    "    pipe_line.fit(train_df['product_title'].values,train_df['brand_id'].astype(int))\n",
    "    joblib.dump(pipe_line,'category_'+str(category)+'_model.clf')\n",
    "    return True"
   ]
  },
  {
   "cell_type": "code",
   "execution_count": 24,
   "metadata": {
    "collapsed": false
   },
   "outputs": [],
   "source": [
    "category_size = train.category_id.value_counts()\n",
    "major_cats = category_size[category_size>100].shape"
   ]
  },
  {
   "cell_type": "code",
   "execution_count": 25,
   "metadata": {
    "collapsed": false
   },
   "outputs": [
    {
     "name": "stdout",
     "output_type": "stream",
     "text": [
      "CPU times: user 4min 23s, sys: 5.69 s, total: 4min 29s\n",
      "Wall time: 4min 31s\n"
     ]
    }
   ],
   "source": [
    "%time cat_models = train.groupby('category_id').apply(learn_model_for_category)"
   ]
  },
  {
   "cell_type": "code",
   "execution_count": 26,
   "metadata": {
    "collapsed": false
   },
   "outputs": [
    {
     "data": {
      "text/plain": [
       "609"
      ]
     },
     "execution_count": 26,
     "metadata": {},
     "output_type": "execute_result"
    }
   ],
   "source": [
    "cat_models.sum()"
   ]
  },
  {
   "cell_type": "code",
   "execution_count": 42,
   "metadata": {
    "collapsed": false
   },
   "outputs": [],
   "source": [
    "def apply_model_for_category(test_df):\n",
    "    category = test_df.category_id.iloc[0]\n",
    "    try:\n",
    "        learner = joblib.load('category_'+str(category)+'_model.clf')\n",
    "        test_df.loc[test_df.index,'predicted_brand_id'] = learner.predict(test_df['product_title'].values)\n",
    "        return test_df\n",
    "    except Exception as e:\n",
    "        print(e,test_df.shape)\n",
    "        test_df.loc[test_df.index,'predicted_brand_id'] = -1\n",
    "        return test_df"
   ]
  },
  {
   "cell_type": "code",
   "execution_count": 43,
   "metadata": {
    "collapsed": false
   },
   "outputs": [
    {
     "name": "stdout",
     "output_type": "stream",
     "text": [
      "[Errno 2] No such file or directory: 'category_9_model.clf' (1, 2)\n",
      "[Errno 2] No such file or directory: 'category_12_model.clf' (1, 2)\n",
      "[Errno 2] No such file or directory: 'category_14_model.clf' (1, 2)\n",
      "[Errno 2] No such file or directory: 'category_18_model.clf' (1, 2)\n",
      "[Errno 2] No such file or directory: 'category_24_model.clf' (1, 2)\n",
      "[Errno 2] No such file or directory: 'category_25_model.clf' (1, 2)\n",
      "[Errno 2] No such file or directory: 'category_27_model.clf' (1, 2)\n",
      "[Errno 2] No such file or directory: 'category_35_model.clf' (1, 2)\n",
      "[Errno 2] No such file or directory: 'category_48_model.clf' (2, 2)\n",
      "[Errno 2] No such file or directory: 'category_64_model.clf' (1, 2)\n",
      "[Errno 2] No such file or directory: 'category_69_model.clf' (1, 2)\n",
      "[Errno 2] No such file or directory: 'category_70_model.clf' (4, 2)\n",
      "[Errno 2] No such file or directory: 'category_73_model.clf' (1, 2)\n",
      "[Errno 2] No such file or directory: 'category_89_model.clf' (1, 2)\n",
      "[Errno 2] No such file or directory: 'category_96_model.clf' (1, 2)\n",
      "[Errno 2] No such file or directory: 'category_100_model.clf' (1, 2)\n",
      "[Errno 2] No such file or directory: 'category_113_model.clf' (2, 2)\n",
      "[Errno 2] No such file or directory: 'category_118_model.clf' (1, 2)\n",
      "[Errno 2] No such file or directory: 'category_127_model.clf' (1, 2)\n",
      "[Errno 2] No such file or directory: 'category_133_model.clf' (1, 2)\n",
      "[Errno 2] No such file or directory: 'category_149_model.clf' (1, 2)\n",
      "[Errno 2] No such file or directory: 'category_151_model.clf' (1, 2)\n",
      "[Errno 2] No such file or directory: 'category_157_model.clf' (1, 2)\n",
      "[Errno 2] No such file or directory: 'category_170_model.clf' (1, 2)\n",
      "[Errno 2] No such file or directory: 'category_186_model.clf' (2, 2)\n",
      "[Errno 2] No such file or directory: 'category_189_model.clf' (1, 2)\n",
      "[Errno 2] No such file or directory: 'category_193_model.clf' (1, 2)\n",
      "[Errno 2] No such file or directory: 'category_200_model.clf' (1, 2)\n",
      "[Errno 2] No such file or directory: 'category_201_model.clf' (1, 2)\n",
      "[Errno 2] No such file or directory: 'category_217_model.clf' (1, 2)\n",
      "[Errno 2] No such file or directory: 'category_222_model.clf' (1, 2)\n",
      "[Errno 2] No such file or directory: 'category_224_model.clf' (1, 2)\n",
      "[Errno 2] No such file or directory: 'category_244_model.clf' (1, 2)\n",
      "[Errno 2] No such file or directory: 'category_246_model.clf' (3, 2)\n",
      "[Errno 2] No such file or directory: 'category_247_model.clf' (2, 2)\n",
      "[Errno 2] No such file or directory: 'category_258_model.clf' (1, 2)\n",
      "[Errno 2] No such file or directory: 'category_264_model.clf' (1, 2)\n",
      "[Errno 2] No such file or directory: 'category_272_model.clf' (1, 2)\n",
      "[Errno 2] No such file or directory: 'category_273_model.clf' (1, 2)\n",
      "[Errno 2] No such file or directory: 'category_311_model.clf' (1, 2)\n",
      "[Errno 2] No such file or directory: 'category_320_model.clf' (1, 2)\n",
      "[Errno 2] No such file or directory: 'category_334_model.clf' (1, 2)\n",
      "[Errno 2] No such file or directory: 'category_345_model.clf' (1, 2)\n",
      "[Errno 2] No such file or directory: 'category_346_model.clf' (1, 2)\n",
      "[Errno 2] No such file or directory: 'category_349_model.clf' (1, 2)\n",
      "[Errno 2] No such file or directory: 'category_361_model.clf' (1, 2)\n",
      "[Errno 2] No such file or directory: 'category_370_model.clf' (2, 2)\n",
      "[Errno 2] No such file or directory: 'category_380_model.clf' (1, 2)\n",
      "[Errno 2] No such file or directory: 'category_389_model.clf' (1, 2)\n",
      "[Errno 2] No such file or directory: 'category_394_model.clf' (1, 2)\n",
      "[Errno 2] No such file or directory: 'category_399_model.clf' (1, 2)\n",
      "[Errno 2] No such file or directory: 'category_401_model.clf' (1, 2)\n",
      "[Errno 2] No such file or directory: 'category_412_model.clf' (4, 2)\n",
      "[Errno 2] No such file or directory: 'category_417_model.clf' (2, 2)\n",
      "[Errno 2] No such file or directory: 'category_433_model.clf' (1, 2)\n",
      "[Errno 2] No such file or directory: 'category_440_model.clf' (1, 2)\n",
      "[Errno 2] No such file or directory: 'category_441_model.clf' (1, 2)\n",
      "[Errno 2] No such file or directory: 'category_446_model.clf' (2, 2)\n",
      "[Errno 2] No such file or directory: 'category_458_model.clf' (1, 2)\n",
      "[Errno 2] No such file or directory: 'category_464_model.clf' (1, 2)\n",
      "[Errno 2] No such file or directory: 'category_465_model.clf' (1, 2)\n",
      "[Errno 2] No such file or directory: 'category_467_model.clf' (1, 2)\n",
      "[Errno 2] No such file or directory: 'category_472_model.clf' (1, 2)\n",
      "[Errno 2] No such file or directory: 'category_474_model.clf' (1, 2)\n",
      "[Errno 2] No such file or directory: 'category_477_model.clf' (1, 2)\n",
      "[Errno 2] No such file or directory: 'category_489_model.clf' (1, 2)\n",
      "[Errno 2] No such file or directory: 'category_493_model.clf' (1, 2)\n",
      "[Errno 2] No such file or directory: 'category_505_model.clf' (1, 2)\n",
      "[Errno 2] No such file or directory: 'category_506_model.clf' (1, 2)\n",
      "[Errno 2] No such file or directory: 'category_516_model.clf' (1, 2)\n",
      "[Errno 2] No such file or directory: 'category_524_model.clf' (1, 2)\n",
      "[Errno 2] No such file or directory: 'category_540_model.clf' (2, 2)\n",
      "[Errno 2] No such file or directory: 'category_541_model.clf' (2, 2)\n",
      "[Errno 2] No such file or directory: 'category_543_model.clf' (1, 2)\n",
      "[Errno 2] No such file or directory: 'category_565_model.clf' (1, 2)\n",
      "[Errno 2] No such file or directory: 'category_570_model.clf' (1, 2)\n",
      "[Errno 2] No such file or directory: 'category_572_model.clf' (1, 2)\n",
      "[Errno 2] No such file or directory: 'category_582_model.clf' (1, 2)\n",
      "[Errno 2] No such file or directory: 'category_583_model.clf' (1, 2)\n",
      "[Errno 2] No such file or directory: 'category_588_model.clf' (1, 2)\n",
      "[Errno 2] No such file or directory: 'category_613_model.clf' (1, 2)\n",
      "[Errno 2] No such file or directory: 'category_642_model.clf' (1, 2)\n",
      "[Errno 2] No such file or directory: 'category_645_model.clf' (1, 2)\n",
      "[Errno 2] No such file or directory: 'category_654_model.clf' (6, 2)\n",
      "[Errno 2] No such file or directory: 'category_656_model.clf' (1, 2)\n",
      "[Errno 2] No such file or directory: 'category_668_model.clf' (1, 2)\n",
      "[Errno 2] No such file or directory: 'category_671_model.clf' (1, 2)\n",
      "[Errno 2] No such file or directory: 'category_673_model.clf' (1, 2)\n",
      "[Errno 2] No such file or directory: 'category_674_model.clf' (1, 2)\n",
      "[Errno 2] No such file or directory: 'category_676_model.clf' (1, 2)\n",
      "[Errno 2] No such file or directory: 'category_683_model.clf' (1, 2)\n",
      "[Errno 2] No such file or directory: 'category_684_model.clf' (1, 2)\n",
      "[Errno 2] No such file or directory: 'category_690_model.clf' (1, 2)\n",
      "[Errno 2] No such file or directory: 'category_694_model.clf' (1, 2)\n",
      "[Errno 2] No such file or directory: 'category_699_model.clf' (1, 2)\n",
      "[Errno 2] No such file or directory: 'category_702_model.clf' (1, 2)\n",
      "CPU times: user 2min 36s, sys: 3.03 s, total: 2min 39s\n",
      "Wall time: 2min 41s\n"
     ]
    }
   ],
   "source": [
    "%time predictions = test.groupby('category_id').apply(apply_model_for_category)"
   ]
  },
  {
   "cell_type": "code",
   "execution_count": 48,
   "metadata": {
    "collapsed": false
   },
   "outputs": [
    {
     "data": {
      "text/html": [
       "<div>\n",
       "<table border=\"1\" class=\"dataframe\">\n",
       "  <thead>\n",
       "    <tr style=\"text-align: right;\">\n",
       "      <th></th>\n",
       "      <th>product_title</th>\n",
       "      <th>category_id</th>\n",
       "      <th>predicted_brand_id</th>\n",
       "    </tr>\n",
       "  </thead>\n",
       "  <tbody>\n",
       "    <tr>\n",
       "      <th>8757</th>\n",
       "      <td>\"USG New Release! * H.265 Compression * 5MP 3744x1408 @ 30FPS * IP Bullet Security Camera: 2.8-12mm 5MP Lens, Power Over Ethernet, 72x IR LEDs For 200ft Night Vision, 1/1.8\"\" Sony IMX178 Sensor + Hi3516A DSP, Weatherproof, ONVIF 2.4, Remote Viewing On Phones + Computers *** Ideal For Business &amp; Industrial Applications\"</td>\n",
       "      <td>674</td>\n",
       "      <td>-1.0</td>\n",
       "    </tr>\n",
       "    <tr>\n",
       "      <th>11412</th>\n",
       "      <td>\"70\"\" LCD Public Display\"</td>\n",
       "      <td>96</td>\n",
       "      <td>-1.0</td>\n",
       "    </tr>\n",
       "    <tr>\n",
       "      <th>22256</th>\n",
       "      <td>GJY WS-980 Model Car Loudspeaker Box , Silver</td>\n",
       "      <td>151</td>\n",
       "      <td>-1.0</td>\n",
       "    </tr>\n",
       "    <tr>\n",
       "      <th>22475</th>\n",
       "      <td>\"Adjustable Rotating Footrest, Extra-Wide, 17 3/4 x 14 x 4\"\", Black by KELLY COMPUTERS\"</td>\n",
       "      <td>345</td>\n",
       "      <td>-1.0</td>\n",
       "    </tr>\n",
       "    <tr>\n",
       "      <th>23543</th>\n",
       "      <td>MCH-ATH-EQ500 3.5MM Mini In-Ear Earphone for T-388 Walkie Talkie with Microphone for Handheld Two Way Radio</td>\n",
       "      <td>417</td>\n",
       "      <td>-1.0</td>\n",
       "    </tr>\n",
       "    <tr>\n",
       "      <th>38693</th>\n",
       "      <td>3dRose dpp_13301_1 Wall Clock, Computers Room, 10 by 10-Inch</td>\n",
       "      <td>64</td>\n",
       "      <td>-1.0</td>\n",
       "    </tr>\n",
       "    <tr>\n",
       "      <th>39573</th>\n",
       "      <td>JJE LAN Leather Bobbin Winder for Cables/Earphone , Brown</td>\n",
       "      <td>446</td>\n",
       "      <td>-1.0</td>\n",
       "    </tr>\n",
       "    <tr>\n",
       "      <th>48532</th>\n",
       "      <td>ZCLATH-EQ500 3.5MM Mini In-Ear Earphone for T-388 Walkie Talkie with Microphone for Handheld Two Way Radio</td>\n",
       "      <td>417</td>\n",
       "      <td>-1.0</td>\n",
       "    </tr>\n",
       "    <tr>\n",
       "      <th>51672</th>\n",
       "      <td>Display Calibration Sensor Colorimeter for Md &amp; Spectraview</td>\n",
       "      <td>200</td>\n",
       "      <td>-1.0</td>\n",
       "    </tr>\n",
       "    <tr>\n",
       "      <th>59215</th>\n",
       "      <td>YAN CP-3508 USB3.0 Front Panel 100% Copper</td>\n",
       "      <td>349</td>\n",
       "      <td>-1.0</td>\n",
       "    </tr>\n",
       "    <tr>\n",
       "      <th>61688</th>\n",
       "      <td>27000mAh Universal External Battery for Camcorder, DVD Players, Digital Album, Digital Camera, Ebook, Game System and Laptop Computers Dark Grey</td>\n",
       "      <td>412</td>\n",
       "      <td>-1.0</td>\n",
       "    </tr>\n",
       "    <tr>\n",
       "      <th>64366</th>\n",
       "      <td>SOL Aluminum Memory Heat Spreader , Silver</td>\n",
       "      <td>464</td>\n",
       "      <td>-1.0</td>\n",
       "    </tr>\n",
       "    <tr>\n",
       "      <th>65000</th>\n",
       "      <td>Underdesk Keyboard Tray with Oval Mouse Platform by KELLY COMPUTERS Catalog Category: Furniture &amp; Accessories / Computer Furniture</td>\n",
       "      <td>24</td>\n",
       "      <td>-1.0</td>\n",
       "    </tr>\n",
       "    <tr>\n",
       "      <th>69209</th>\n",
       "      <td>NEC E322 32-Inch LCD HDTV</td>\n",
       "      <td>9</td>\n",
       "      <td>-1.0</td>\n",
       "    </tr>\n",
       "    <tr>\n",
       "      <th>74496</th>\n",
       "      <td>ZCL LAN Leather Bobbin Winder for Cables/Earphone , Brown</td>\n",
       "      <td>446</td>\n",
       "      <td>-1.0</td>\n",
       "    </tr>\n",
       "    <tr>\n",
       "      <th>78370</th>\n",
       "      <td>Sbc with Dual Core Atom</td>\n",
       "      <td>18</td>\n",
       "      <td>-1.0</td>\n",
       "    </tr>\n",
       "    <tr>\n",
       "      <th>82348</th>\n",
       "      <td>LIMME A10 360 Degree Rotating Litchi Grain7 Inch Solid Color PU Leather Full Body Case with Stand Assorted Colors , Black , 7 inch</td>\n",
       "      <td>467</td>\n",
       "      <td>-1.0</td>\n",
       "    </tr>\n",
       "    <tr>\n",
       "      <th>88265</th>\n",
       "      <td>27000mAh Universal External Battery for Camcorder, DVD Players, Digital Album, Digital Camera, Ebook, Game System and Laptop Computers Light Blue</td>\n",
       "      <td>412</td>\n",
       "      <td>-1.0</td>\n",
       "    </tr>\n",
       "    <tr>\n",
       "      <th>93270</th>\n",
       "      <td>CatEye Parts Kit for All Analog CatEye Computers</td>\n",
       "      <td>127</td>\n",
       "      <td>-1.0</td>\n",
       "    </tr>\n",
       "    <tr>\n",
       "      <th>95692</th>\n",
       "      <td>Humanoid Computers Angel Heart Long Golden Straight Anime Cosplay Wig 80cm</td>\n",
       "      <td>671</td>\n",
       "      <td>-1.0</td>\n",
       "    </tr>\n",
       "    <tr>\n",
       "      <th>96968</th>\n",
       "      <td>MTD Part 783-0785-0709 PNL:SD:LH 9 STYLE [Personal Computers]</td>\n",
       "      <td>201</td>\n",
       "      <td>-1.0</td>\n",
       "    </tr>\n",
       "    <tr>\n",
       "      <th>102672</th>\n",
       "      <td>LIMME 3.5mm Double Jack For MP3,MP4,Mobile Phone</td>\n",
       "      <td>246</td>\n",
       "      <td>-1.0</td>\n",
       "    </tr>\n",
       "    <tr>\n",
       "      <th>104278</th>\n",
       "      <td>MM Color Numeric Coded Cat.5 Network Cable Organization Markers 100 PCS</td>\n",
       "      <td>157</td>\n",
       "      <td>-1.0</td>\n",
       "    </tr>\n",
       "    <tr>\n",
       "      <th>105807</th>\n",
       "      <td>MCH-Genipu Clip-On Stereo Earphones Assorted Colors , White</td>\n",
       "      <td>73</td>\n",
       "      <td>-1.0</td>\n",
       "    </tr>\n",
       "    <tr>\n",
       "      <th>110291</th>\n",
       "      <td>GG Seven Lights Glaring Mini Football Style Stereo Speakers</td>\n",
       "      <td>170</td>\n",
       "      <td>-1.0</td>\n",
       "    </tr>\n",
       "    <tr>\n",
       "      <th>122541</th>\n",
       "      <td>JOE Ditmo Adjustable Headband 3.5mm Stereo Headphone Assorted Colors , White</td>\n",
       "      <td>48</td>\n",
       "      <td>-1.0</td>\n",
       "    </tr>\n",
       "    <tr>\n",
       "      <th>127029</th>\n",
       "      <td>\"Hewlett-Packard Calculators Hp 10S+ Scientific Calculator \"\"Product Category: Computers And Portables/System Accessory\"\"\"</td>\n",
       "      <td>380</td>\n",
       "      <td>-1.0</td>\n",
       "    </tr>\n",
       "    <tr>\n",
       "      <th>135008</th>\n",
       "      <td>JJEPortable Music Speaker with Santa Pattern</td>\n",
       "      <td>100</td>\n",
       "      <td>-1.0</td>\n",
       "    </tr>\n",
       "    <tr>\n",
       "      <th>136751</th>\n",
       "      <td>GJY POWCHIP N880USB High-power Wireless Bridge All-powerful Relay CPE</td>\n",
       "      <td>702</td>\n",
       "      <td>-1.0</td>\n",
       "    </tr>\n",
       "    <tr>\n",
       "      <th>138039</th>\n",
       "      <td>GJY B-Link BL-108G 8 Connector kilomega WEB Interchanger</td>\n",
       "      <td>370</td>\n",
       "      <td>-1.0</td>\n",
       "    </tr>\n",
       "    <tr>\n",
       "      <th>...</th>\n",
       "      <td>...</td>\n",
       "      <td>...</td>\n",
       "      <td>...</td>\n",
       "    </tr>\n",
       "    <tr>\n",
       "      <th>450600</th>\n",
       "      <td>TY LiangYun T4 Microphone Sponge Sheath , Red</td>\n",
       "      <td>224</td>\n",
       "      <td>-1.0</td>\n",
       "    </tr>\n",
       "    <tr>\n",
       "      <th>459011</th>\n",
       "      <td>ZCLMeng Super Cute UFO Baca Built-in Lithium Rechargeable Multimedia Speakers , White</td>\n",
       "      <td>493</td>\n",
       "      <td>-1.0</td>\n",
       "    </tr>\n",
       "    <tr>\n",
       "      <th>466480</th>\n",
       "      <td>LIMME Concave Shaped 3.0 USB Stick 8G 4 Colors , Red</td>\n",
       "      <td>361</td>\n",
       "      <td>-1.0</td>\n",
       "    </tr>\n",
       "    <tr>\n",
       "      <th>467001</th>\n",
       "      <td>Datalogic 94ACC0034 RAM MOUNT WITH ROUND BASE FOR RHINO VEHICLE MOUNT COMPUTERS</td>\n",
       "      <td>258</td>\n",
       "      <td>-1.0</td>\n",
       "    </tr>\n",
       "    <tr>\n",
       "      <th>481874</th>\n",
       "      <td>MAX 99 Unleashed</td>\n",
       "      <td>399</td>\n",
       "      <td>-1.0</td>\n",
       "    </tr>\n",
       "    <tr>\n",
       "      <th>483711</th>\n",
       "      <td>GYF-PNY 64GB SDXC Elite Performance UHS-1 90MB/sec</td>\n",
       "      <td>465</td>\n",
       "      <td>-1.0</td>\n",
       "    </tr>\n",
       "    <tr>\n",
       "      <th>487973</th>\n",
       "      <td>Intense Core Inferno</td>\n",
       "      <td>540</td>\n",
       "      <td>-1.0</td>\n",
       "    </tr>\n",
       "    <tr>\n",
       "      <th>494697</th>\n",
       "      <td>When I Talk About Computers I Make My Mother Board Pun Shirt</td>\n",
       "      <td>149</td>\n",
       "      <td>-1.0</td>\n",
       "    </tr>\n",
       "    <tr>\n",
       "      <th>495917</th>\n",
       "      <td>Dirty Fingers, My Uncle shall teach me of computers, Geek, Baby Toddler T-shirt</td>\n",
       "      <td>186</td>\n",
       "      <td>-1.0</td>\n",
       "    </tr>\n",
       "    <tr>\n",
       "      <th>496480</th>\n",
       "      <td>Live Long and Prosper Hand Sign Silhouette - Large - Smartphones, Tablets, and Computers - Vinyl Wall Art Decal for Homes, Offices, Kids Rooms, Nurseries, Schools, High Schools, Colleges, Universities, Interior Designers, Architects, Remodelers</td>\n",
       "      <td>14</td>\n",
       "      <td>-1.0</td>\n",
       "    </tr>\n",
       "    <tr>\n",
       "      <th>498265</th>\n",
       "      <td>JJE 3.5mm Double Jack For MP3,MP4,Mobile Phone</td>\n",
       "      <td>246</td>\n",
       "      <td>-1.0</td>\n",
       "    </tr>\n",
       "    <tr>\n",
       "      <th>501693</th>\n",
       "      <td>TY Duobaolai M18 Universual Retro Tunable Receiver/Earphone for Phones Assorted Colors , Yellow</td>\n",
       "      <td>673</td>\n",
       "      <td>-1.0</td>\n",
       "    </tr>\n",
       "    <tr>\n",
       "      <th>508943</th>\n",
       "      <td>\"( LittleSomething ) 6\"\" 150mm Adjustable Shifting Spanner Wrench Shifter with Measurement Scale (Computers &gt; PC accessories)\"</td>\n",
       "      <td>472</td>\n",
       "      <td>-1.0</td>\n",
       "    </tr>\n",
       "    <tr>\n",
       "      <th>509279</th>\n",
       "      <td>TY WS789 Model Car SD£¯USB Speaker , Blue</td>\n",
       "      <td>113</td>\n",
       "      <td>-1.0</td>\n",
       "    </tr>\n",
       "    <tr>\n",
       "      <th>512333</th>\n",
       "      <td>ZCL Samsung MB-MG32D Pro Micro SDHC Memory Card with SD Card Adapter UHS-I Class 10 / 32GB</td>\n",
       "      <td>505</td>\n",
       "      <td>-1.0</td>\n",
       "    </tr>\n",
       "    <tr>\n",
       "      <th>523748</th>\n",
       "      <td>DS-2 DESKSIDE 8 SHEET [Personal Computers]</td>\n",
       "      <td>642</td>\n",
       "      <td>-1.0</td>\n",
       "    </tr>\n",
       "    <tr>\n",
       "      <th>533253</th>\n",
       "      <td>Ironside UV Reactant PC Liquid Coolant (1 quart 1000mL) Ice Blue</td>\n",
       "      <td>273</td>\n",
       "      <td>-1.0</td>\n",
       "    </tr>\n",
       "    <tr>\n",
       "      <th>539114</th>\n",
       "      <td>NFC Tags by TagsForDroid - 12 Pack - NTAG203 - Hide&amp;Spot Theme v1 - 10 NFC Tags + 2 NFC Keychains + FREE stickers+more - Compatible with All NFC Capable Phones, Tablets and Computers.</td>\n",
       "      <td>699</td>\n",
       "      <td>-1.0</td>\n",
       "    </tr>\n",
       "    <tr>\n",
       "      <th>540769</th>\n",
       "      <td>Londons Times Gen. 2 Computers Internet Cartoons - Window Dressing - Tote Bags</td>\n",
       "      <td>264</td>\n",
       "      <td>-1.0</td>\n",
       "    </tr>\n",
       "    <tr>\n",
       "      <th>557087</th>\n",
       "      <td>MCH-Nubwo NO-180 Microphone With Removable Ashtray</td>\n",
       "      <td>401</td>\n",
       "      <td>-1.0</td>\n",
       "    </tr>\n",
       "    <tr>\n",
       "      <th>562715</th>\n",
       "      <td>TY ADATA? Premier MicroSDHC/SDXC Card UHS-I Class10 16GB</td>\n",
       "      <td>588</td>\n",
       "      <td>-1.0</td>\n",
       "    </tr>\n",
       "    <tr>\n",
       "      <th>564780</th>\n",
       "      <td>Waterproof Engineering Plastic LCD Screen Black Stopwatch</td>\n",
       "      <td>440</td>\n",
       "      <td>-1.0</td>\n",
       "    </tr>\n",
       "    <tr>\n",
       "      <th>566525</th>\n",
       "      <td>JOE1.5m USB3.0 Flat Cable , Black</td>\n",
       "      <td>654</td>\n",
       "      <td>-1.0</td>\n",
       "    </tr>\n",
       "    <tr>\n",
       "      <th>575888</th>\n",
       "      <td>Desktop Computers DDR3 Sdram Slot Anti Dust Plug Black Clear 2 Pcs</td>\n",
       "      <td>489</td>\n",
       "      <td>-1.0</td>\n",
       "    </tr>\n",
       "    <tr>\n",
       "      <th>577526</th>\n",
       "      <td>MCH-KEEKA 3.5MM Cool High-Quality In-Ear Earphone KA-13 5 Colors , Rose</td>\n",
       "      <td>543</td>\n",
       "      <td>-1.0</td>\n",
       "    </tr>\n",
       "    <tr>\n",
       "      <th>578132</th>\n",
       "      <td>Excelvan HD LCD TFT Display Video Projector 1280*800 Support 720P 1080P For Computers Ipad television MP3 MP4 DVD Game system</td>\n",
       "      <td>506</td>\n",
       "      <td>-1.0</td>\n",
       "    </tr>\n",
       "    <tr>\n",
       "      <th>579896</th>\n",
       "      <td>ZCLBlack And White Skateboard 3.0 USB Stick 16G</td>\n",
       "      <td>244</td>\n",
       "      <td>-1.0</td>\n",
       "    </tr>\n",
       "    <tr>\n",
       "      <th>587085</th>\n",
       "      <td>CZECH TRANSPARENT STICKERS WITH YELLOW LETTERING FOR LAPTOPS DESKTOP COMPUTERS KEYBOARDS</td>\n",
       "      <td>334</td>\n",
       "      <td>-1.0</td>\n",
       "    </tr>\n",
       "    <tr>\n",
       "      <th>589325</th>\n",
       "      <td>VDO Z2 Heart Rate Monitor and Cycle Computer</td>\n",
       "      <td>394</td>\n",
       "      <td>-1.0</td>\n",
       "    </tr>\n",
       "    <tr>\n",
       "      <th>600060</th>\n",
       "      <td>MCH-AK-308 Wired/Wireless Karaoke Domestic Microphone with Dust Cover Slip Ring Adapter Bobbin Winder Battery Silver</td>\n",
       "      <td>346</td>\n",
       "      <td>-1.0</td>\n",
       "    </tr>\n",
       "  </tbody>\n",
       "</table>\n",
       "<p>118 rows × 3 columns</p>\n",
       "</div>"
      ],
      "text/plain": [
       "                                                                                                                                                                                                                                                                                                                           product_title  \\\n",
       "8757    \"USG New Release! * H.265 Compression * 5MP 3744x1408 @ 30FPS * IP Bullet Security Camera: 2.8-12mm 5MP Lens, Power Over Ethernet, 72x IR LEDs For 200ft Night Vision, 1/1.8\"\" Sony IMX178 Sensor + Hi3516A DSP, Weatherproof, ONVIF 2.4, Remote Viewing On Phones + Computers *** Ideal For Business & Industrial Applications\"   \n",
       "11412                                                                                                                                                                                                                                                                                                          \"70\"\" LCD Public Display\"   \n",
       "22256                                                                                                                                                                                                                                                                                      GJY WS-980 Model Car Loudspeaker Box , Silver   \n",
       "22475                                                                                                                                                                                                                                            \"Adjustable Rotating Footrest, Extra-Wide, 17 3/4 x 14 x 4\"\", Black by KELLY COMPUTERS\"   \n",
       "23543                                                                                                                                                                                                                        MCH-ATH-EQ500 3.5MM Mini In-Ear Earphone for T-388 Walkie Talkie with Microphone for Handheld Two Way Radio   \n",
       "38693                                                                                                                                                                                                                                                                       3dRose dpp_13301_1 Wall Clock, Computers Room, 10 by 10-Inch   \n",
       "39573                                                                                                                                                                                                                                                                          JJE LAN Leather Bobbin Winder for Cables/Earphone , Brown   \n",
       "48532                                                                                                                                                                                                                         ZCLATH-EQ500 3.5MM Mini In-Ear Earphone for T-388 Walkie Talkie with Microphone for Handheld Two Way Radio   \n",
       "51672                                                                                                                                                                                                                                                                        Display Calibration Sensor Colorimeter for Md & Spectraview   \n",
       "59215                                                                                                                                                                                                                                                                                         YAN CP-3508 USB3.0 Front Panel 100% Copper   \n",
       "61688                                                                                                                                                                                   27000mAh Universal External Battery for Camcorder, DVD Players, Digital Album, Digital Camera, Ebook, Game System and Laptop Computers Dark Grey   \n",
       "64366                                                                                                                                                                                                                                                                                         SOL Aluminum Memory Heat Spreader , Silver   \n",
       "65000                                                                                                                                                                                                 Underdesk Keyboard Tray with Oval Mouse Platform by KELLY COMPUTERS Catalog Category: Furniture & Accessories / Computer Furniture   \n",
       "69209                                                                                                                                                                                                                                                                                                          NEC E322 32-Inch LCD HDTV   \n",
       "74496                                                                                                                                                                                                                                                                          ZCL LAN Leather Bobbin Winder for Cables/Earphone , Brown   \n",
       "78370                                                                                                                                                                                                                                                                                                            Sbc with Dual Core Atom   \n",
       "82348                                                                                                                                                                                                 LIMME A10 360 Degree Rotating Litchi Grain7 Inch Solid Color PU Leather Full Body Case with Stand Assorted Colors , Black , 7 inch   \n",
       "88265                                                                                                                                                                                 27000mAh Universal External Battery for Camcorder, DVD Players, Digital Album, Digital Camera, Ebook, Game System and Laptop Computers Light Blue    \n",
       "93270                                                                                                                                                                                                                                                                                   CatEye Parts Kit for All Analog CatEye Computers   \n",
       "95692                                                                                                                                                                                                                                                         Humanoid Computers Angel Heart Long Golden Straight Anime Cosplay Wig 80cm   \n",
       "96968                                                                                                                                                                                                                                                                      MTD Part 783-0785-0709 PNL:SD:LH 9 STYLE [Personal Computers]   \n",
       "102672                                                                                                                                                                                                                                                                                  LIMME 3.5mm Double Jack For MP3,MP4,Mobile Phone   \n",
       "104278                                                                                                                                                                                                                                                           MM Color Numeric Coded Cat.5 Network Cable Organization Markers 100 PCS   \n",
       "105807                                                                                                                                                                                                                                                                       MCH-Genipu Clip-On Stereo Earphones Assorted Colors , White   \n",
       "110291                                                                                                                                                                                                                                                                       GG Seven Lights Glaring Mini Football Style Stereo Speakers   \n",
       "122541                                                                                                                                                                                                                                                      JOE Ditmo Adjustable Headband 3.5mm Stereo Headphone Assorted Colors , White   \n",
       "127029                                                                                                                                                                                                        \"Hewlett-Packard Calculators Hp 10S+ Scientific Calculator \"\"Product Category: Computers And Portables/System Accessory\"\"\"   \n",
       "135008                                                                                                                                                                                                                                                                                      JJEPortable Music Speaker with Santa Pattern   \n",
       "136751                                                                                                                                                                                                                                                             GJY POWCHIP N880USB High-power Wireless Bridge All-powerful Relay CPE   \n",
       "138039                                                                                                                                                                                                                                                                          GJY B-Link BL-108G 8 Connector kilomega WEB Interchanger   \n",
       "...                                                                                                                                                                                                                                                                                                                                  ...   \n",
       "450600                                                                                                                                                                                                                                                                                     TY LiangYun T4 Microphone Sponge Sheath , Red   \n",
       "459011                                                                                                                                                                                                                                             ZCLMeng Super Cute UFO Baca Built-in Lithium Rechargeable Multimedia Speakers , White   \n",
       "466480                                                                                                                                                                                                                                                                              LIMME Concave Shaped 3.0 USB Stick 8G 4 Colors , Red   \n",
       "467001                                                                                                                                                                                                                                                   Datalogic 94ACC0034 RAM MOUNT WITH ROUND BASE FOR RHINO VEHICLE MOUNT COMPUTERS   \n",
       "481874                                                                                                                                                                                                                                                                                                                  MAX 99 Unleashed   \n",
       "483711                                                                                                                                                                                                                                                                                GYF-PNY 64GB SDXC Elite Performance UHS-1 90MB/sec   \n",
       "487973                                                                                                                                                                                                                                                                                                              Intense Core Inferno   \n",
       "494697                                                                                                                                                                                                                                                                      When I Talk About Computers I Make My Mother Board Pun Shirt   \n",
       "495917                                                                                                                                                                                                                                                   Dirty Fingers, My Uncle shall teach me of computers, Geek, Baby Toddler T-shirt   \n",
       "496480                                                                              Live Long and Prosper Hand Sign Silhouette - Large - Smartphones, Tablets, and Computers - Vinyl Wall Art Decal for Homes, Offices, Kids Rooms, Nurseries, Schools, High Schools, Colleges, Universities, Interior Designers, Architects, Remodelers   \n",
       "498265                                                                                                                                                                                                                                                                                    JJE 3.5mm Double Jack For MP3,MP4,Mobile Phone   \n",
       "501693                                                                                                                                                                                                                                   TY Duobaolai M18 Universual Retro Tunable Receiver/Earphone for Phones Assorted Colors , Yellow   \n",
       "508943                                                                                                                                                                                                    \"( LittleSomething ) 6\"\" 150mm Adjustable Shifting Spanner Wrench Shifter with Measurement Scale (Computers > PC accessories)\"   \n",
       "509279                                                                                                                                                                                                                                                                                         TY WS789 Model Car SD£¯USB Speaker , Blue   \n",
       "512333                                                                                                                                                                                                                                        ZCL Samsung MB-MG32D Pro Micro SDHC Memory Card with SD Card Adapter UHS-I Class 10 / 32GB   \n",
       "523748                                                                                                                                                                                                                                                                                        DS-2 DESKSIDE 8 SHEET [Personal Computers]   \n",
       "533253                                                                                                                                                                                                                                                                  Ironside UV Reactant PC Liquid Coolant (1 quart 1000mL) Ice Blue   \n",
       "539114                                                                                                                                           NFC Tags by TagsForDroid - 12 Pack - NTAG203 - Hide&Spot Theme v1 - 10 NFC Tags + 2 NFC Keychains + FREE stickers+more - Compatible with All NFC Capable Phones, Tablets and Computers.   \n",
       "540769                                                                                                                                                                                                                                                    Londons Times Gen. 2 Computers Internet Cartoons - Window Dressing - Tote Bags   \n",
       "557087                                                                                                                                                                                                                                                                                MCH-Nubwo NO-180 Microphone With Removable Ashtray   \n",
       "562715                                                                                                                                                                                                                                                                          TY ADATA? Premier MicroSDHC/SDXC Card UHS-I Class10 16GB   \n",
       "564780                                                                                                                                                                                                                                                                         Waterproof Engineering Plastic LCD Screen Black Stopwatch   \n",
       "566525                                                                                                                                                                                                                                                                                                 JOE1.5m USB3.0 Flat Cable , Black   \n",
       "575888                                                                                                                                                                                                                                                                Desktop Computers DDR3 Sdram Slot Anti Dust Plug Black Clear 2 Pcs   \n",
       "577526                                                                                                                                                                                                                                                           MCH-KEEKA 3.5MM Cool High-Quality In-Ear Earphone KA-13 5 Colors , Rose   \n",
       "578132                                                                                                                                                                                                     Excelvan HD LCD TFT Display Video Projector 1280*800 Support 720P 1080P For Computers Ipad television MP3 MP4 DVD Game system   \n",
       "579896                                                                                                                                                                                                                                                                                   ZCLBlack And White Skateboard 3.0 USB Stick 16G   \n",
       "587085                                                                                                                                                                                                                                          CZECH TRANSPARENT STICKERS WITH YELLOW LETTERING FOR LAPTOPS DESKTOP COMPUTERS KEYBOARDS   \n",
       "589325                                                                                                                                                                                                                                                                                      VDO Z2 Heart Rate Monitor and Cycle Computer   \n",
       "600060                                                                                                                                                                                                              MCH-AK-308 Wired/Wireless Karaoke Domestic Microphone with Dust Cover Slip Ring Adapter Bobbin Winder Battery Silver   \n",
       "\n",
       "       category_id  predicted_brand_id  \n",
       "8757           674                -1.0  \n",
       "11412           96                -1.0  \n",
       "22256          151                -1.0  \n",
       "22475          345                -1.0  \n",
       "23543          417                -1.0  \n",
       "38693           64                -1.0  \n",
       "39573          446                -1.0  \n",
       "48532          417                -1.0  \n",
       "51672          200                -1.0  \n",
       "59215          349                -1.0  \n",
       "61688          412                -1.0  \n",
       "64366          464                -1.0  \n",
       "65000           24                -1.0  \n",
       "69209            9                -1.0  \n",
       "74496          446                -1.0  \n",
       "78370           18                -1.0  \n",
       "82348          467                -1.0  \n",
       "88265          412                -1.0  \n",
       "93270          127                -1.0  \n",
       "95692          671                -1.0  \n",
       "96968          201                -1.0  \n",
       "102672         246                -1.0  \n",
       "104278         157                -1.0  \n",
       "105807          73                -1.0  \n",
       "110291         170                -1.0  \n",
       "122541          48                -1.0  \n",
       "127029         380                -1.0  \n",
       "135008         100                -1.0  \n",
       "136751         702                -1.0  \n",
       "138039         370                -1.0  \n",
       "...            ...                 ...  \n",
       "450600         224                -1.0  \n",
       "459011         493                -1.0  \n",
       "466480         361                -1.0  \n",
       "467001         258                -1.0  \n",
       "481874         399                -1.0  \n",
       "483711         465                -1.0  \n",
       "487973         540                -1.0  \n",
       "494697         149                -1.0  \n",
       "495917         186                -1.0  \n",
       "496480          14                -1.0  \n",
       "498265         246                -1.0  \n",
       "501693         673                -1.0  \n",
       "508943         472                -1.0  \n",
       "509279         113                -1.0  \n",
       "512333         505                -1.0  \n",
       "523748         642                -1.0  \n",
       "533253         273                -1.0  \n",
       "539114         699                -1.0  \n",
       "540769         264                -1.0  \n",
       "557087         401                -1.0  \n",
       "562715         588                -1.0  \n",
       "564780         440                -1.0  \n",
       "566525         654                -1.0  \n",
       "575888         489                -1.0  \n",
       "577526         543                -1.0  \n",
       "578132         506                -1.0  \n",
       "579896         244                -1.0  \n",
       "587085         334                -1.0  \n",
       "589325         394                -1.0  \n",
       "600060         346                -1.0  \n",
       "\n",
       "[118 rows x 3 columns]"
      ]
     },
     "execution_count": 48,
     "metadata": {},
     "output_type": "execute_result"
    }
   ],
   "source": [
    "predictions[predictions.predicted_brand_id.astype(int)==-1]"
   ]
  },
  {
   "cell_type": "code",
   "execution_count": 49,
   "metadata": {
    "collapsed": false
   },
   "outputs": [
    {
     "data": {
      "text/plain": [
       "(619240, 3)"
      ]
     },
     "execution_count": 49,
     "metadata": {},
     "output_type": "execute_result"
    }
   ],
   "source": [
    "predictions.shape"
   ]
  },
  {
   "cell_type": "code",
   "execution_count": 50,
   "metadata": {
    "collapsed": false
   },
   "outputs": [],
   "source": [
    "predictions.loc[predictions.index,'predicted_brand_id'] = predictions.predicted_brand_id.astype(int)"
   ]
  },
  {
   "cell_type": "markdown",
   "metadata": {},
   "source": [
    "query for br_id -1  \n",
    "get title from test and fit tiidf  \n",
    "take entire training transform tfidf  \n",
    "train classifier learn, apply on test"
   ]
  },
  {
   "cell_type": "code",
   "execution_count": 82,
   "metadata": {
    "collapsed": false
   },
   "outputs": [],
   "source": [
    "unpredicted = predictions.query('predicted_brand_id == -1')"
   ]
  },
  {
   "cell_type": "code",
   "execution_count": 85,
   "metadata": {
    "collapsed": false
   },
   "outputs": [
    {
     "data": {
      "text/plain": [
       "TfidfVectorizer(analyzer='word', binary=False, decode_error='strict',\n",
       "        dtype=<class 'numpy.int64'>, encoding='utf-8', input='content',\n",
       "        lowercase=True, max_df=1.0, max_features=None, min_df=1,\n",
       "        ngram_range=(1, 1), norm='l2', preprocessor=None, smooth_idf=True,\n",
       "        stop_words=None, strip_accents=None, sublinear_tf=False,\n",
       "        token_pattern='(?u)\\\\b\\\\w\\\\w+\\\\b',\n",
       "        tokenizer=<__main__.Tokenizer object at 0x7f34bc92d7b8>,\n",
       "        use_idf=True, vocabulary=None)"
      ]
     },
     "execution_count": 85,
     "metadata": {},
     "output_type": "execute_result"
    }
   ],
   "source": [
    "test_vectorizer = TfidfVectorizer(tokenizer=Tokenizer())\n",
    "test_vectorizer.fit(unpredicted.product_title)"
   ]
  },
  {
   "cell_type": "code",
   "execution_count": null,
   "metadata": {
    "collapsed": true
   },
   "outputs": [],
   "source": [
    "tokenize = Tokenizer()\n",
    "vocab = test_vectorizer.vocabulary_.keys()"
   ]
  },
  {
   "cell_type": "code",
   "execution_count": 93,
   "metadata": {
    "collapsed": true
   },
   "outputs": [],
   "source": [
    "missing_relevant_train = train['product_title'].apply(lambda x:vocab.isdisjoint(tokenize(x)))"
   ]
  },
  {
   "cell_type": "code",
   "execution_count": 94,
   "metadata": {
    "collapsed": false
   },
   "outputs": [],
   "source": [
    "missing_train = train[~missing_relevant_train]"
   ]
  },
  {
   "cell_type": "code",
   "execution_count": 120,
   "metadata": {
    "collapsed": false
   },
   "outputs": [],
   "source": [
    "mc = missing_train.category_id.value_counts()\n",
    "missing_train_df = missing_train[missing_train.category_id.isin(mc[:5].index)]"
   ]
  },
  {
   "cell_type": "code",
   "execution_count": 121,
   "metadata": {
    "collapsed": false
   },
   "outputs": [
    {
     "data": {
      "text/plain": [
       "True"
      ]
     },
     "execution_count": 121,
     "metadata": {},
     "output_type": "execute_result"
    }
   ],
   "source": [
    "def learn_model_for_missing_category(train_df, test_df):\n",
    "    test_vectorizer = TfidfVectorizer(tokenizer=Tokenizer())\n",
    "    test_vectorizer.fit(test_df.product_title)\n",
    "    category = \"missing\"\n",
    "    learner = MultinomialNB()\n",
    "    vectorizer = TfidfVectorizer(tokenizer=Tokenizer(), vocabulary=test_vectorizer.vocabulary_)\n",
    "    estimators = [('transform', vectorizer), ('learner', learner)]\n",
    "    pipe_line = Pipeline(estimators)\n",
    "    pipe_line.fit(train_df['product_title'].values,train_df['brand_id'].astype(int))\n",
    "    joblib.dump(pipe_line,'category_'+str(category)+'_model.clf')\n",
    "    return True\n",
    "\n",
    "learn_model_for_missing_category(missing_train_df, unpredicted)"
   ]
  },
  {
   "cell_type": "code",
   "execution_count": 123,
   "metadata": {
    "collapsed": false
   },
   "outputs": [
    {
     "name": "stderr",
     "output_type": "stream",
     "text": [
      "/opt/anaconda/lib/python3.4/site-packages/pandas/core/indexing.py:461: SettingWithCopyWarning: \n",
      "A value is trying to be set on a copy of a slice from a DataFrame.\n",
      "Try using .loc[row_indexer,col_indexer] = value instead\n",
      "\n",
      "See the caveats in the documentation: http://pandas.pydata.org/pandas-docs/stable/indexing.html#indexing-view-versus-copy\n",
      "  self.obj[item] = s\n"
     ]
    }
   ],
   "source": [
    "def apply_model_for_missing_category(test_df):\n",
    "    category = 'missing'\n",
    "    try:\n",
    "        learner = joblib.load('category_'+str(category)+'_model.clf')\n",
    "        test_df.loc[test_df.index,'predicted_brand_id'] = learner.predict(test_df['product_title'].values)\n",
    "        return test_df\n",
    "    except Exception as e:\n",
    "        print(e,test_df.shape)\n",
    "        test_df.loc[test_df.index,'predicted_brand_id'] = -1\n",
    "        return test_df\n",
    "    \n",
    "missing_predicted = apply_model_for_missing_category(unpredicted)"
   ]
  },
  {
   "cell_type": "code",
   "execution_count": 125,
   "metadata": {
    "collapsed": false
   },
   "outputs": [
    {
     "data": {
      "text/plain": [
       "(116, 3)"
      ]
     },
     "execution_count": 125,
     "metadata": {},
     "output_type": "execute_result"
    }
   ],
   "source": [
    "missing_predicted.shape"
   ]
  },
  {
   "cell_type": "code",
   "execution_count": 129,
   "metadata": {
    "collapsed": false
   },
   "outputs": [],
   "source": [
    "predictions.loc[missing_predicted.index,'predicted_brand_id'] = missing_predicted.predicted_brand_id"
   ]
  },
  {
   "cell_type": "code",
   "execution_count": 131,
   "metadata": {
    "collapsed": false
   },
   "outputs": [],
   "source": [
    "predictions.predicted_brand_id.to_csv('category_wise_mnb.csv',index=False)"
   ]
  },
  {
   "cell_type": "code",
   "execution_count": null,
   "metadata": {
    "collapsed": true
   },
   "outputs": [],
   "source": []
  }
 ],
 "metadata": {
  "kernelspec": {
   "display_name": "Python 3",
   "language": "python",
   "name": "python3"
  },
  "language_info": {
   "codemirror_mode": {
    "name": "ipython",
    "version": 3
   },
   "file_extension": ".py",
   "mimetype": "text/x-python",
   "name": "python",
   "nbconvert_exporter": "python",
   "pygments_lexer": "ipython3",
   "version": "3.4.4"
  }
 },
 "nbformat": 4,
 "nbformat_minor": 0
}
